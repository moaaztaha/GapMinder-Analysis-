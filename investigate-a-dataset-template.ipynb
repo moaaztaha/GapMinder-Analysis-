{
 "cells": [
  {
   "cell_type": "markdown",
   "metadata": {},
   "source": [
    "# Project: Investigate a Dataset (GDP Per Capita in Different Regions !)\n",
    "\n",
    "## Table of Contents\n",
    "<ul>\n",
    "<li><a href=\"#intro\">Introduction</a></li>\n",
    "<li><a href=\"#wrangling\">Data Wrangling</a></li>\n",
    "<li><a href=\"#eda\">Exploratory Data Analysis</a></li>\n",
    "<li><a href=\"#conclusions\">Conclusions</a></li>\n",
    "</ul>"
   ]
  },
  {
   "cell_type": "markdown",
   "metadata": {
    "heading_collapsed": true
   },
   "source": [
    "## Introduction <a id='intro'></a>\n",
    "\n",
    "**Dataset**: *gapminder*, For this project I chose 4 different indicators to work with:\n",
    "1. Babies per woman (total Fertility rate).\n",
    "2. Human Development index: which ranks countries by the level of human development based on health, education and living standards.\n",
    "3. Internet Users: the percentage of internet users in the country in a specific year.\n",
    "4. OWID education index: Education index based on average years of schooling.\n",
    "\n",
    "**Dependent Varaible**: Income per person (GDP / capita, PPP\\$ inflation-adjusted)\n",
    "- The data is adjusted for different countries and in international dollars\n",
    "\n",
    "#### Definitions\n",
    "- GDP (Gross Domestic Product): \"market value of all the finished goods and services produced within a country's borders in a specific time period\". [src](https://www.investopedia.com/terms/g/gdp.asp)\n",
    "- GDP / Capita: \"a measure of a country's economic output that accounts for its number of people. It divides the country's gross domestic product by its total population\" [src](https://www.thebalance.com/gdp-per-capita-formula-u-s-compared-to-highest-and-lowest-3305848#:~:text=The%20gross%20domestic%20product%20per,product%20by%20its%20total%20population.)\n",
    "\n",
    "\n",
    "\n",
    "\n",
    "\n",
    "*for the data sources and more info -> [data](https://www.gapminder.org/data)\n",
    "\n",
    "## Questions\n",
    "#### 1- Which countries has developed the most (GDP / Capita) in the choosen time period (2000 - 2017)\n",
    "#### 2- What are the characteristics of these countries that has developed the most in the time period? \n",
    "#### 3- Is the GDP/Capita affected by the Education Index in the country?"
   ]
  },
  {
   "cell_type": "code",
   "execution_count": 1,
   "metadata": {
    "hidden": true
   },
   "outputs": [],
   "source": [
    "# importing modules\n",
    "import pandas as pd\n",
    "import numpy as np\n",
    "import matplotlib.pyplot as plt\n",
    "%matplotlib inline\n",
    "\n",
    "# setting matplotlib style\n",
    "plt.style.use('seaborn-whitegrid')"
   ]
  },
  {
   "cell_type": "code",
   "execution_count": 2,
   "metadata": {
    "hidden": true
   },
   "outputs": [],
   "source": [
    "# loading the data in the correct format\n",
    "def read_csv(csv=None):\n",
    "    # getting the dataset and transposing it\n",
    "    df = pd.read_csv(f'data/{csv}', index_col=0, header=None).T\n",
    "    # fixing the columns naming after transposing\n",
    "    df.rename(columns={'country': 'year'}, inplace=True)\n",
    "    # Making sure that the year column is in int format\n",
    "    df['year'] = df['year'].astype(int)\n",
    "    print(f\"Starting Year: {df['year'].min()} | Ending Year: {df['year'].max()}\")\n",
    "    return df"
   ]
  },
  {
   "cell_type": "markdown",
   "metadata": {
    "hidden": true
   },
   "source": [
    "- The function loads the data and then transpose it to be in the right format where the year and countries are the columns and the data items are the rows.\n",
    "- The function also prints the starting and ending of the indicator dataframe.\n",
    "- The function also makes sure that the `year` feature is in the right format as `int`."
   ]
  },
  {
   "cell_type": "markdown",
   "metadata": {
    "heading_collapsed": true
   },
   "source": [
    "## Data Wrangling <a id='wrangling'></a>"
   ]
  },
  {
   "cell_type": "markdown",
   "metadata": {
    "heading_collapsed": true,
    "hidden": true
   },
   "source": [
    "### General Properties"
   ]
  },
  {
   "cell_type": "markdown",
   "metadata": {
    "heading_collapsed": true,
    "hidden": true
   },
   "source": [
    "#### GDP Per Capita Dataset "
   ]
  },
  {
   "cell_type": "code",
   "execution_count": 3,
   "metadata": {
    "hidden": true
   },
   "outputs": [
    {
     "name": "stdout",
     "output_type": "stream",
     "text": [
      "Starting Year: 1800 | Ending Year: 2040\n"
     ]
    },
    {
     "data": {
      "text/html": [
       "<div>\n",
       "<style scoped>\n",
       "    .dataframe tbody tr th:only-of-type {\n",
       "        vertical-align: middle;\n",
       "    }\n",
       "\n",
       "    .dataframe tbody tr th {\n",
       "        vertical-align: top;\n",
       "    }\n",
       "\n",
       "    .dataframe thead th {\n",
       "        text-align: right;\n",
       "    }\n",
       "</style>\n",
       "<table border=\"1\" class=\"dataframe\">\n",
       "  <thead>\n",
       "    <tr style=\"text-align: right;\">\n",
       "      <th></th>\n",
       "      <th>year</th>\n",
       "      <th>Afghanistan</th>\n",
       "      <th>Albania</th>\n",
       "      <th>Algeria</th>\n",
       "      <th>Andorra</th>\n",
       "      <th>Angola</th>\n",
       "      <th>Antigua and Barbuda</th>\n",
       "      <th>Argentina</th>\n",
       "      <th>Armenia</th>\n",
       "      <th>Australia</th>\n",
       "      <th>...</th>\n",
       "      <th>United Kingdom</th>\n",
       "      <th>United States</th>\n",
       "      <th>Uruguay</th>\n",
       "      <th>Uzbekistan</th>\n",
       "      <th>Vanuatu</th>\n",
       "      <th>Venezuela</th>\n",
       "      <th>Vietnam</th>\n",
       "      <th>Yemen</th>\n",
       "      <th>Zambia</th>\n",
       "      <th>Zimbabwe</th>\n",
       "    </tr>\n",
       "  </thead>\n",
       "  <tbody>\n",
       "    <tr>\n",
       "      <th>1</th>\n",
       "      <td>1800</td>\n",
       "      <td>603</td>\n",
       "      <td>667</td>\n",
       "      <td>715</td>\n",
       "      <td>1200</td>\n",
       "      <td>618</td>\n",
       "      <td>757</td>\n",
       "      <td>1640</td>\n",
       "      <td>514</td>\n",
       "      <td>817</td>\n",
       "      <td>...</td>\n",
       "      <td>3280</td>\n",
       "      <td>1980</td>\n",
       "      <td>1810</td>\n",
       "      <td>502</td>\n",
       "      <td>585</td>\n",
       "      <td>1210</td>\n",
       "      <td>778</td>\n",
       "      <td>877</td>\n",
       "      <td>663</td>\n",
       "      <td>869</td>\n",
       "    </tr>\n",
       "    <tr>\n",
       "      <th>2</th>\n",
       "      <td>1801</td>\n",
       "      <td>603</td>\n",
       "      <td>667</td>\n",
       "      <td>716</td>\n",
       "      <td>1200</td>\n",
       "      <td>620</td>\n",
       "      <td>757</td>\n",
       "      <td>1640</td>\n",
       "      <td>514</td>\n",
       "      <td>822</td>\n",
       "      <td>...</td>\n",
       "      <td>3290</td>\n",
       "      <td>2020</td>\n",
       "      <td>1810</td>\n",
       "      <td>502</td>\n",
       "      <td>586</td>\n",
       "      <td>1200</td>\n",
       "      <td>778</td>\n",
       "      <td>879</td>\n",
       "      <td>665</td>\n",
       "      <td>870</td>\n",
       "    </tr>\n",
       "    <tr>\n",
       "      <th>3</th>\n",
       "      <td>1802</td>\n",
       "      <td>603</td>\n",
       "      <td>667</td>\n",
       "      <td>717</td>\n",
       "      <td>1200</td>\n",
       "      <td>623</td>\n",
       "      <td>757</td>\n",
       "      <td>1650</td>\n",
       "      <td>514</td>\n",
       "      <td>826</td>\n",
       "      <td>...</td>\n",
       "      <td>3300</td>\n",
       "      <td>2050</td>\n",
       "      <td>1820</td>\n",
       "      <td>502</td>\n",
       "      <td>586</td>\n",
       "      <td>1200</td>\n",
       "      <td>778</td>\n",
       "      <td>882</td>\n",
       "      <td>667</td>\n",
       "      <td>871</td>\n",
       "    </tr>\n",
       "    <tr>\n",
       "      <th>4</th>\n",
       "      <td>1803</td>\n",
       "      <td>603</td>\n",
       "      <td>667</td>\n",
       "      <td>718</td>\n",
       "      <td>1200</td>\n",
       "      <td>626</td>\n",
       "      <td>757</td>\n",
       "      <td>1650</td>\n",
       "      <td>514</td>\n",
       "      <td>831</td>\n",
       "      <td>...</td>\n",
       "      <td>3190</td>\n",
       "      <td>2020</td>\n",
       "      <td>1830</td>\n",
       "      <td>502</td>\n",
       "      <td>586</td>\n",
       "      <td>1190</td>\n",
       "      <td>778</td>\n",
       "      <td>884</td>\n",
       "      <td>668</td>\n",
       "      <td>872</td>\n",
       "    </tr>\n",
       "    <tr>\n",
       "      <th>5</th>\n",
       "      <td>1804</td>\n",
       "      <td>603</td>\n",
       "      <td>667</td>\n",
       "      <td>719</td>\n",
       "      <td>1210</td>\n",
       "      <td>628</td>\n",
       "      <td>757</td>\n",
       "      <td>1660</td>\n",
       "      <td>514</td>\n",
       "      <td>836</td>\n",
       "      <td>...</td>\n",
       "      <td>3140</td>\n",
       "      <td>2010</td>\n",
       "      <td>1840</td>\n",
       "      <td>503</td>\n",
       "      <td>586</td>\n",
       "      <td>1190</td>\n",
       "      <td>778</td>\n",
       "      <td>887</td>\n",
       "      <td>670</td>\n",
       "      <td>873</td>\n",
       "    </tr>\n",
       "  </tbody>\n",
       "</table>\n",
       "<p>5 rows × 194 columns</p>\n",
       "</div>"
      ],
      "text/plain": [
       "0  year  Afghanistan  Albania  Algeria  Andorra  Angola  Antigua and Barbuda  \\\n",
       "1  1800          603      667      715     1200     618                  757   \n",
       "2  1801          603      667      716     1200     620                  757   \n",
       "3  1802          603      667      717     1200     623                  757   \n",
       "4  1803          603      667      718     1200     626                  757   \n",
       "5  1804          603      667      719     1210     628                  757   \n",
       "\n",
       "0  Argentina  Armenia  Australia  ...  United Kingdom  United States  Uruguay  \\\n",
       "1       1640      514        817  ...            3280           1980     1810   \n",
       "2       1640      514        822  ...            3290           2020     1810   \n",
       "3       1650      514        826  ...            3300           2050     1820   \n",
       "4       1650      514        831  ...            3190           2020     1830   \n",
       "5       1660      514        836  ...            3140           2010     1840   \n",
       "\n",
       "0  Uzbekistan  Vanuatu  Venezuela  Vietnam  Yemen  Zambia  Zimbabwe  \n",
       "1         502      585       1210      778    877     663       869  \n",
       "2         502      586       1200      778    879     665       870  \n",
       "3         502      586       1200      778    882     667       871  \n",
       "4         502      586       1190      778    884     668       872  \n",
       "5         503      586       1190      778    887     670       873  \n",
       "\n",
       "[5 rows x 194 columns]"
      ]
     },
     "execution_count": 3,
     "metadata": {},
     "output_type": "execute_result"
    }
   ],
   "source": [
    "df_income = read_csv('income_per_person_gdppercapita_ppp_inflation_adjusted.csv')\n",
    "df_income.head()"
   ]
  },
  {
   "cell_type": "code",
   "execution_count": 4,
   "metadata": {
    "hidden": true
   },
   "outputs": [
    {
     "name": "stdout",
     "output_type": "stream",
     "text": [
      "<class 'pandas.core.frame.DataFrame'>\n",
      "Int64Index: 241 entries, 1 to 241\n",
      "Columns: 194 entries, year to Zimbabwe\n",
      "dtypes: int64(194)\n",
      "memory usage: 367.1 KB\n"
     ]
    }
   ],
   "source": [
    "df_income.info()"
   ]
  },
  {
   "cell_type": "markdown",
   "metadata": {
    "hidden": true
   },
   "source": [
    "The features are in the right format as `int`."
   ]
  },
  {
   "cell_type": "markdown",
   "metadata": {
    "hidden": true
   },
   "source": [
    "**According to the [dataset description](https://www.gapminder.org/data/documentation/gd001/): the dataset ends in 2018**\n",
    "\n",
    "So we will trim the dataset to only include data up till year 2018."
   ]
  },
  {
   "cell_type": "code",
   "execution_count": 5,
   "metadata": {
    "hidden": true
   },
   "outputs": [
    {
     "data": {
      "text/html": [
       "<div>\n",
       "<style scoped>\n",
       "    .dataframe tbody tr th:only-of-type {\n",
       "        vertical-align: middle;\n",
       "    }\n",
       "\n",
       "    .dataframe tbody tr th {\n",
       "        vertical-align: top;\n",
       "    }\n",
       "\n",
       "    .dataframe thead th {\n",
       "        text-align: right;\n",
       "    }\n",
       "</style>\n",
       "<table border=\"1\" class=\"dataframe\">\n",
       "  <thead>\n",
       "    <tr style=\"text-align: right;\">\n",
       "      <th></th>\n",
       "      <th>year</th>\n",
       "      <th>Afghanistan</th>\n",
       "      <th>Albania</th>\n",
       "      <th>Algeria</th>\n",
       "      <th>Andorra</th>\n",
       "      <th>Angola</th>\n",
       "      <th>Antigua and Barbuda</th>\n",
       "      <th>Argentina</th>\n",
       "      <th>Armenia</th>\n",
       "      <th>Australia</th>\n",
       "      <th>...</th>\n",
       "      <th>United Kingdom</th>\n",
       "      <th>United States</th>\n",
       "      <th>Uruguay</th>\n",
       "      <th>Uzbekistan</th>\n",
       "      <th>Vanuatu</th>\n",
       "      <th>Venezuela</th>\n",
       "      <th>Vietnam</th>\n",
       "      <th>Yemen</th>\n",
       "      <th>Zambia</th>\n",
       "      <th>Zimbabwe</th>\n",
       "    </tr>\n",
       "  </thead>\n",
       "  <tbody>\n",
       "    <tr>\n",
       "      <th>215</th>\n",
       "      <td>2014</td>\n",
       "      <td>1800</td>\n",
       "      <td>10700</td>\n",
       "      <td>13500</td>\n",
       "      <td>44900</td>\n",
       "      <td>6810</td>\n",
       "      <td>20800</td>\n",
       "      <td>18900</td>\n",
       "      <td>7950</td>\n",
       "      <td>43700</td>\n",
       "      <td>...</td>\n",
       "      <td>38400</td>\n",
       "      <td>52100</td>\n",
       "      <td>19900</td>\n",
       "      <td>5340</td>\n",
       "      <td>2840</td>\n",
       "      <td>17100</td>\n",
       "      <td>5310</td>\n",
       "      <td>3830</td>\n",
       "      <td>3690</td>\n",
       "      <td>2510</td>\n",
       "    </tr>\n",
       "    <tr>\n",
       "      <th>216</th>\n",
       "      <td>2015</td>\n",
       "      <td>1770</td>\n",
       "      <td>11000</td>\n",
       "      <td>13800</td>\n",
       "      <td>46600</td>\n",
       "      <td>6650</td>\n",
       "      <td>21400</td>\n",
       "      <td>19200</td>\n",
       "      <td>8170</td>\n",
       "      <td>44100</td>\n",
       "      <td>...</td>\n",
       "      <td>39000</td>\n",
       "      <td>53200</td>\n",
       "      <td>19900</td>\n",
       "      <td>5640</td>\n",
       "      <td>2740</td>\n",
       "      <td>15600</td>\n",
       "      <td>5610</td>\n",
       "      <td>3110</td>\n",
       "      <td>3680</td>\n",
       "      <td>2510</td>\n",
       "    </tr>\n",
       "    <tr>\n",
       "      <th>217</th>\n",
       "      <td>2016</td>\n",
       "      <td>1760</td>\n",
       "      <td>11400</td>\n",
       "      <td>13900</td>\n",
       "      <td>48200</td>\n",
       "      <td>6260</td>\n",
       "      <td>22400</td>\n",
       "      <td>18600</td>\n",
       "      <td>8160</td>\n",
       "      <td>44600</td>\n",
       "      <td>...</td>\n",
       "      <td>39400</td>\n",
       "      <td>53600</td>\n",
       "      <td>20200</td>\n",
       "      <td>5880</td>\n",
       "      <td>2780</td>\n",
       "      <td>15200</td>\n",
       "      <td>5900</td>\n",
       "      <td>2620</td>\n",
       "      <td>3700</td>\n",
       "      <td>2490</td>\n",
       "    </tr>\n",
       "    <tr>\n",
       "      <th>218</th>\n",
       "      <td>2017</td>\n",
       "      <td>1760</td>\n",
       "      <td>11800</td>\n",
       "      <td>13900</td>\n",
       "      <td>49800</td>\n",
       "      <td>6050</td>\n",
       "      <td>22900</td>\n",
       "      <td>18900</td>\n",
       "      <td>8750</td>\n",
       "      <td>44900</td>\n",
       "      <td>...</td>\n",
       "      <td>39900</td>\n",
       "      <td>54500</td>\n",
       "      <td>20700</td>\n",
       "      <td>6040</td>\n",
       "      <td>2830</td>\n",
       "      <td>14500</td>\n",
       "      <td>6230</td>\n",
       "      <td>2400</td>\n",
       "      <td>3720</td>\n",
       "      <td>2570</td>\n",
       "    </tr>\n",
       "    <tr>\n",
       "      <th>219</th>\n",
       "      <td>2018</td>\n",
       "      <td>1740</td>\n",
       "      <td>12300</td>\n",
       "      <td>13900</td>\n",
       "      <td>51500</td>\n",
       "      <td>5730</td>\n",
       "      <td>23800</td>\n",
       "      <td>18300</td>\n",
       "      <td>9180</td>\n",
       "      <td>45400</td>\n",
       "      <td>...</td>\n",
       "      <td>40200</td>\n",
       "      <td>55700</td>\n",
       "      <td>20900</td>\n",
       "      <td>6240</td>\n",
       "      <td>2850</td>\n",
       "      <td>12500</td>\n",
       "      <td>6610</td>\n",
       "      <td>2360</td>\n",
       "      <td>3740</td>\n",
       "      <td>2620</td>\n",
       "    </tr>\n",
       "  </tbody>\n",
       "</table>\n",
       "<p>5 rows × 194 columns</p>\n",
       "</div>"
      ],
      "text/plain": [
       "0    year  Afghanistan  Albania  Algeria  Andorra  Angola  \\\n",
       "215  2014         1800    10700    13500    44900    6810   \n",
       "216  2015         1770    11000    13800    46600    6650   \n",
       "217  2016         1760    11400    13900    48200    6260   \n",
       "218  2017         1760    11800    13900    49800    6050   \n",
       "219  2018         1740    12300    13900    51500    5730   \n",
       "\n",
       "0    Antigua and Barbuda  Argentina  Armenia  Australia  ...  United Kingdom  \\\n",
       "215                20800      18900     7950      43700  ...           38400   \n",
       "216                21400      19200     8170      44100  ...           39000   \n",
       "217                22400      18600     8160      44600  ...           39400   \n",
       "218                22900      18900     8750      44900  ...           39900   \n",
       "219                23800      18300     9180      45400  ...           40200   \n",
       "\n",
       "0    United States  Uruguay  Uzbekistan  Vanuatu  Venezuela  Vietnam  Yemen  \\\n",
       "215          52100    19900        5340     2840      17100     5310   3830   \n",
       "216          53200    19900        5640     2740      15600     5610   3110   \n",
       "217          53600    20200        5880     2780      15200     5900   2620   \n",
       "218          54500    20700        6040     2830      14500     6230   2400   \n",
       "219          55700    20900        6240     2850      12500     6610   2360   \n",
       "\n",
       "0    Zambia  Zimbabwe  \n",
       "215    3690      2510  \n",
       "216    3680      2510  \n",
       "217    3700      2490  \n",
       "218    3720      2570  \n",
       "219    3740      2620  \n",
       "\n",
       "[5 rows x 194 columns]"
      ]
     },
     "execution_count": 5,
     "metadata": {},
     "output_type": "execute_result"
    }
   ],
   "source": [
    "# the dataset ends at 2018\n",
    "df_income = df_income[df_income['year'] <= 2018]\n",
    "df_income.tail()"
   ]
  },
  {
   "cell_type": "code",
   "execution_count": 6,
   "metadata": {
    "hidden": true
   },
   "outputs": [
    {
     "data": {
      "text/plain": [
       "0"
      ]
     },
     "execution_count": 6,
     "metadata": {},
     "output_type": "execute_result"
    }
   ],
   "source": [
    "# missing values\n",
    "df_income.isna().sum().sum()"
   ]
  },
  {
   "cell_type": "code",
   "execution_count": 7,
   "metadata": {
    "hidden": true
   },
   "outputs": [
    {
     "data": {
      "text/plain": [
       "0"
      ]
     },
     "execution_count": 7,
     "metadata": {},
     "output_type": "execute_result"
    }
   ],
   "source": [
    "# number of duplicates\n",
    "df_income.duplicated().sum()"
   ]
  },
  {
   "cell_type": "markdown",
   "metadata": {
    "hidden": true
   },
   "source": [
    "The dataset is clean and has no duplicates"
   ]
  },
  {
   "cell_type": "markdown",
   "metadata": {
    "heading_collapsed": true,
    "hidden": true
   },
   "source": [
    "#### OWID Education Index"
   ]
  },
  {
   "cell_type": "code",
   "execution_count": 8,
   "metadata": {
    "hidden": true
   },
   "outputs": [
    {
     "name": "stdout",
     "output_type": "stream",
     "text": [
      "Starting Year: 1870 | Ending Year: 2017\n"
     ]
    },
    {
     "data": {
      "text/html": [
       "<div>\n",
       "<style scoped>\n",
       "    .dataframe tbody tr th:only-of-type {\n",
       "        vertical-align: middle;\n",
       "    }\n",
       "\n",
       "    .dataframe tbody tr th {\n",
       "        vertical-align: top;\n",
       "    }\n",
       "\n",
       "    .dataframe thead th {\n",
       "        text-align: right;\n",
       "    }\n",
       "</style>\n",
       "<table border=\"1\" class=\"dataframe\">\n",
       "  <thead>\n",
       "    <tr style=\"text-align: right;\">\n",
       "      <th></th>\n",
       "      <th>year</th>\n",
       "      <th>Afghanistan</th>\n",
       "      <th>Albania</th>\n",
       "      <th>Algeria</th>\n",
       "      <th>Andorra</th>\n",
       "      <th>Angola</th>\n",
       "      <th>Antigua and Barbuda</th>\n",
       "      <th>Argentina</th>\n",
       "      <th>Armenia</th>\n",
       "      <th>Australia</th>\n",
       "      <th>...</th>\n",
       "      <th>United Kingdom</th>\n",
       "      <th>United States</th>\n",
       "      <th>Uruguay</th>\n",
       "      <th>Uzbekistan</th>\n",
       "      <th>Vanuatu</th>\n",
       "      <th>Venezuela</th>\n",
       "      <th>Vietnam</th>\n",
       "      <th>Yemen</th>\n",
       "      <th>Zambia</th>\n",
       "      <th>Zimbabwe</th>\n",
       "    </tr>\n",
       "  </thead>\n",
       "  <tbody>\n",
       "    <tr>\n",
       "      <th>144</th>\n",
       "      <td>2013</td>\n",
       "      <td>0.233</td>\n",
       "      <td>0.647</td>\n",
       "      <td>0.520</td>\n",
       "      <td>0.68</td>\n",
       "      <td>0.327</td>\n",
       "      <td>0.613</td>\n",
       "      <td>0.653</td>\n",
       "      <td>0.760</td>\n",
       "      <td>0.840</td>\n",
       "      <td>...</td>\n",
       "      <td>0.840</td>\n",
       "      <td>0.880</td>\n",
       "      <td>0.567</td>\n",
       "      <td>0.753</td>\n",
       "      <td>0.453</td>\n",
       "      <td>0.660</td>\n",
       "      <td>0.527</td>\n",
       "      <td>0.2</td>\n",
       "      <td>0.453</td>\n",
       "      <td>0.533</td>\n",
       "    </tr>\n",
       "    <tr>\n",
       "      <th>145</th>\n",
       "      <td>2014</td>\n",
       "      <td>0.233</td>\n",
       "      <td>0.647</td>\n",
       "      <td>0.527</td>\n",
       "      <td>0.68</td>\n",
       "      <td>0.327</td>\n",
       "      <td>0.613</td>\n",
       "      <td>0.653</td>\n",
       "      <td>0.767</td>\n",
       "      <td>0.847</td>\n",
       "      <td>...</td>\n",
       "      <td>0.847</td>\n",
       "      <td>0.887</td>\n",
       "      <td>0.573</td>\n",
       "      <td>0.753</td>\n",
       "      <td>0.453</td>\n",
       "      <td>0.667</td>\n",
       "      <td>0.520</td>\n",
       "      <td>0.2</td>\n",
       "      <td>0.460</td>\n",
       "      <td>0.547</td>\n",
       "    </tr>\n",
       "    <tr>\n",
       "      <th>146</th>\n",
       "      <td>2015</td>\n",
       "      <td>0.240</td>\n",
       "      <td>0.647</td>\n",
       "      <td>0.527</td>\n",
       "      <td>0.68</td>\n",
       "      <td>0.333</td>\n",
       "      <td>0.613</td>\n",
       "      <td>0.653</td>\n",
       "      <td>0.773</td>\n",
       "      <td>0.853</td>\n",
       "      <td>...</td>\n",
       "      <td>0.853</td>\n",
       "      <td>0.887</td>\n",
       "      <td>0.580</td>\n",
       "      <td>0.760</td>\n",
       "      <td>0.453</td>\n",
       "      <td>0.673</td>\n",
       "      <td>0.533</td>\n",
       "      <td>0.2</td>\n",
       "      <td>0.460</td>\n",
       "      <td>0.547</td>\n",
       "    </tr>\n",
       "    <tr>\n",
       "      <th>147</th>\n",
       "      <td>2016</td>\n",
       "      <td>0.240</td>\n",
       "      <td>0.667</td>\n",
       "      <td>0.533</td>\n",
       "      <td>0.68</td>\n",
       "      <td>0.340</td>\n",
       "      <td>0.613</td>\n",
       "      <td>0.660</td>\n",
       "      <td>0.780</td>\n",
       "      <td>0.860</td>\n",
       "      <td>...</td>\n",
       "      <td>0.860</td>\n",
       "      <td>0.893</td>\n",
       "      <td>0.580</td>\n",
       "      <td>0.760</td>\n",
       "      <td>0.453</td>\n",
       "      <td>0.673</td>\n",
       "      <td>0.540</td>\n",
       "      <td>0.2</td>\n",
       "      <td>0.467</td>\n",
       "      <td>0.547</td>\n",
       "    </tr>\n",
       "    <tr>\n",
       "      <th>148</th>\n",
       "      <td>2017</td>\n",
       "      <td>0.253</td>\n",
       "      <td>0.667</td>\n",
       "      <td>0.533</td>\n",
       "      <td>0.68</td>\n",
       "      <td>0.340</td>\n",
       "      <td>0.613</td>\n",
       "      <td>0.660</td>\n",
       "      <td>0.780</td>\n",
       "      <td>0.860</td>\n",
       "      <td>...</td>\n",
       "      <td>0.860</td>\n",
       "      <td>0.893</td>\n",
       "      <td>0.580</td>\n",
       "      <td>0.767</td>\n",
       "      <td>0.453</td>\n",
       "      <td>0.687</td>\n",
       "      <td>0.547</td>\n",
       "      <td>0.2</td>\n",
       "      <td>0.467</td>\n",
       "      <td>0.547</td>\n",
       "    </tr>\n",
       "  </tbody>\n",
       "</table>\n",
       "<p>5 rows × 188 columns</p>\n",
       "</div>"
      ],
      "text/plain": [
       "0    year  Afghanistan  Albania  Algeria  Andorra  Angola  \\\n",
       "144  2013        0.233    0.647    0.520     0.68   0.327   \n",
       "145  2014        0.233    0.647    0.527     0.68   0.327   \n",
       "146  2015        0.240    0.647    0.527     0.68   0.333   \n",
       "147  2016        0.240    0.667    0.533     0.68   0.340   \n",
       "148  2017        0.253    0.667    0.533     0.68   0.340   \n",
       "\n",
       "0    Antigua and Barbuda  Argentina  Armenia  Australia  ...  United Kingdom  \\\n",
       "144                0.613      0.653    0.760      0.840  ...           0.840   \n",
       "145                0.613      0.653    0.767      0.847  ...           0.847   \n",
       "146                0.613      0.653    0.773      0.853  ...           0.853   \n",
       "147                0.613      0.660    0.780      0.860  ...           0.860   \n",
       "148                0.613      0.660    0.780      0.860  ...           0.860   \n",
       "\n",
       "0    United States  Uruguay  Uzbekistan  Vanuatu  Venezuela  Vietnam  Yemen  \\\n",
       "144          0.880    0.567       0.753    0.453      0.660    0.527    0.2   \n",
       "145          0.887    0.573       0.753    0.453      0.667    0.520    0.2   \n",
       "146          0.887    0.580       0.760    0.453      0.673    0.533    0.2   \n",
       "147          0.893    0.580       0.760    0.453      0.673    0.540    0.2   \n",
       "148          0.893    0.580       0.767    0.453      0.687    0.547    0.2   \n",
       "\n",
       "0    Zambia  Zimbabwe  \n",
       "144   0.453     0.533  \n",
       "145   0.460     0.547  \n",
       "146   0.460     0.547  \n",
       "147   0.467     0.547  \n",
       "148   0.467     0.547  \n",
       "\n",
       "[5 rows x 188 columns]"
      ]
     },
     "execution_count": 8,
     "metadata": {},
     "output_type": "execute_result"
    }
   ],
   "source": [
    "df_owid = read_csv('owid_education_idx.csv')\n",
    "df_owid.tail()"
   ]
  },
  {
   "cell_type": "code",
   "execution_count": 9,
   "metadata": {
    "hidden": true
   },
   "outputs": [
    {
     "name": "stdout",
     "output_type": "stream",
     "text": [
      "<class 'pandas.core.frame.DataFrame'>\n",
      "Int64Index: 148 entries, 1 to 148\n",
      "Columns: 188 entries, year to Zimbabwe\n",
      "dtypes: float64(187), int64(1)\n",
      "memory usage: 218.5 KB\n"
     ]
    }
   ],
   "source": [
    "df_owid.info()"
   ]
  },
  {
   "cell_type": "markdown",
   "metadata": {
    "hidden": true
   },
   "source": [
    "The features are in the right format as `float`, except for the year as `int`."
   ]
  },
  {
   "cell_type": "code",
   "execution_count": 10,
   "metadata": {
    "hidden": true
   },
   "outputs": [
    {
     "data": {
      "text/plain": [
       "0\n",
       "year             0\n",
       "Afghanistan     96\n",
       "Albania         96\n",
       "Algeria         96\n",
       "Andorra        130\n",
       "              ... \n",
       "Venezuela       96\n",
       "Vietnam        112\n",
       "Yemen           96\n",
       "Zambia          96\n",
       "Zimbabwe        96\n",
       "Length: 188, dtype: int64"
      ]
     },
     "execution_count": 10,
     "metadata": {},
     "output_type": "execute_result"
    }
   ],
   "source": [
    "# total missing values per country\n",
    "df_owid.isna().sum()"
   ]
  },
  {
   "cell_type": "code",
   "execution_count": 11,
   "metadata": {
    "hidden": true
   },
   "outputs": [
    {
     "data": {
      "text/plain": [
       "20087"
      ]
     },
     "execution_count": 11,
     "metadata": {},
     "output_type": "execute_result"
    }
   ],
   "source": [
    "# total missing values\n",
    "df_owid.isna().sum().sum()"
   ]
  },
  {
   "cell_type": "code",
   "execution_count": 12,
   "metadata": {
    "hidden": true
   },
   "outputs": [
    {
     "data": {
      "text/plain": [
       "0"
      ]
     },
     "execution_count": 12,
     "metadata": {},
     "output_type": "execute_result"
    }
   ],
   "source": [
    "# number of duplicates\n",
    "df_owid.duplicated().sum()"
   ]
  },
  {
   "cell_type": "markdown",
   "metadata": {
    "hidden": true
   },
   "source": [
    "The dataset seems to have **20087** missing values accross many countries. And has no duplicates.\n",
    "\n",
    "The missing values will be delt after loading all the features."
   ]
  },
  {
   "cell_type": "markdown",
   "metadata": {
    "heading_collapsed": true,
    "hidden": true
   },
   "source": [
    "#### Human Development Index\n"
   ]
  },
  {
   "cell_type": "code",
   "execution_count": 13,
   "metadata": {
    "hidden": true
   },
   "outputs": [
    {
     "name": "stdout",
     "output_type": "stream",
     "text": [
      "Starting Year: 1990 | Ending Year: 2018\n"
     ]
    },
    {
     "data": {
      "text/html": [
       "<div>\n",
       "<style scoped>\n",
       "    .dataframe tbody tr th:only-of-type {\n",
       "        vertical-align: middle;\n",
       "    }\n",
       "\n",
       "    .dataframe tbody tr th {\n",
       "        vertical-align: top;\n",
       "    }\n",
       "\n",
       "    .dataframe thead th {\n",
       "        text-align: right;\n",
       "    }\n",
       "</style>\n",
       "<table border=\"1\" class=\"dataframe\">\n",
       "  <thead>\n",
       "    <tr style=\"text-align: right;\">\n",
       "      <th></th>\n",
       "      <th>year</th>\n",
       "      <th>Afghanistan</th>\n",
       "      <th>Albania</th>\n",
       "      <th>Algeria</th>\n",
       "      <th>Andorra</th>\n",
       "      <th>Angola</th>\n",
       "      <th>Antigua and Barbuda</th>\n",
       "      <th>Argentina</th>\n",
       "      <th>Armenia</th>\n",
       "      <th>Australia</th>\n",
       "      <th>...</th>\n",
       "      <th>United Kingdom</th>\n",
       "      <th>United States</th>\n",
       "      <th>Uruguay</th>\n",
       "      <th>Uzbekistan</th>\n",
       "      <th>Vanuatu</th>\n",
       "      <th>Venezuela</th>\n",
       "      <th>Vietnam</th>\n",
       "      <th>Yemen</th>\n",
       "      <th>Zambia</th>\n",
       "      <th>Zimbabwe</th>\n",
       "    </tr>\n",
       "  </thead>\n",
       "  <tbody>\n",
       "    <tr>\n",
       "      <th>25</th>\n",
       "      <td>2014</td>\n",
       "      <td>0.488</td>\n",
       "      <td>0.787</td>\n",
       "      <td>0.749</td>\n",
       "      <td>0.853</td>\n",
       "      <td>0.557</td>\n",
       "      <td>0.767</td>\n",
       "      <td>0.825</td>\n",
       "      <td>0.746</td>\n",
       "      <td>0.929</td>\n",
       "      <td>...</td>\n",
       "      <td>0.918</td>\n",
       "      <td>0.915</td>\n",
       "      <td>0.800</td>\n",
       "      <td>0.693</td>\n",
       "      <td>0.589</td>\n",
       "      <td>0.770</td>\n",
       "      <td>0.675</td>\n",
       "      <td>0.504</td>\n",
       "      <td>0.565</td>\n",
       "      <td>0.537</td>\n",
       "    </tr>\n",
       "    <tr>\n",
       "      <th>26</th>\n",
       "      <td>2015</td>\n",
       "      <td>0.490</td>\n",
       "      <td>0.788</td>\n",
       "      <td>0.751</td>\n",
       "      <td>0.850</td>\n",
       "      <td>0.565</td>\n",
       "      <td>0.770</td>\n",
       "      <td>0.828</td>\n",
       "      <td>0.748</td>\n",
       "      <td>0.933</td>\n",
       "      <td>...</td>\n",
       "      <td>0.916</td>\n",
       "      <td>0.917</td>\n",
       "      <td>0.802</td>\n",
       "      <td>0.696</td>\n",
       "      <td>0.592</td>\n",
       "      <td>0.763</td>\n",
       "      <td>0.680</td>\n",
       "      <td>0.493</td>\n",
       "      <td>0.570</td>\n",
       "      <td>0.544</td>\n",
       "    </tr>\n",
       "    <tr>\n",
       "      <th>27</th>\n",
       "      <td>2016</td>\n",
       "      <td>0.491</td>\n",
       "      <td>0.788</td>\n",
       "      <td>0.755</td>\n",
       "      <td>0.854</td>\n",
       "      <td>0.570</td>\n",
       "      <td>0.772</td>\n",
       "      <td>0.828</td>\n",
       "      <td>0.751</td>\n",
       "      <td>0.935</td>\n",
       "      <td>...</td>\n",
       "      <td>0.918</td>\n",
       "      <td>0.919</td>\n",
       "      <td>0.806</td>\n",
       "      <td>0.701</td>\n",
       "      <td>0.592</td>\n",
       "      <td>0.752</td>\n",
       "      <td>0.685</td>\n",
       "      <td>0.477</td>\n",
       "      <td>0.580</td>\n",
       "      <td>0.549</td>\n",
       "    </tr>\n",
       "    <tr>\n",
       "      <th>28</th>\n",
       "      <td>2017</td>\n",
       "      <td>0.493</td>\n",
       "      <td>0.789</td>\n",
       "      <td>0.758</td>\n",
       "      <td>0.852</td>\n",
       "      <td>0.576</td>\n",
       "      <td>0.774</td>\n",
       "      <td>0.832</td>\n",
       "      <td>0.758</td>\n",
       "      <td>0.937</td>\n",
       "      <td>...</td>\n",
       "      <td>0.919</td>\n",
       "      <td>0.919</td>\n",
       "      <td>0.807</td>\n",
       "      <td>0.707</td>\n",
       "      <td>0.595</td>\n",
       "      <td>0.735</td>\n",
       "      <td>0.690</td>\n",
       "      <td>0.463</td>\n",
       "      <td>0.589</td>\n",
       "      <td>0.553</td>\n",
       "    </tr>\n",
       "    <tr>\n",
       "      <th>29</th>\n",
       "      <td>2018</td>\n",
       "      <td>0.496</td>\n",
       "      <td>0.791</td>\n",
       "      <td>0.759</td>\n",
       "      <td>0.857</td>\n",
       "      <td>0.574</td>\n",
       "      <td>0.776</td>\n",
       "      <td>0.830</td>\n",
       "      <td>0.760</td>\n",
       "      <td>0.938</td>\n",
       "      <td>...</td>\n",
       "      <td>0.920</td>\n",
       "      <td>0.920</td>\n",
       "      <td>0.808</td>\n",
       "      <td>0.710</td>\n",
       "      <td>0.597</td>\n",
       "      <td>0.726</td>\n",
       "      <td>0.693</td>\n",
       "      <td>0.463</td>\n",
       "      <td>0.591</td>\n",
       "      <td>0.563</td>\n",
       "    </tr>\n",
       "  </tbody>\n",
       "</table>\n",
       "<p>5 rows × 189 columns</p>\n",
       "</div>"
      ],
      "text/plain": [
       "0   year  Afghanistan  Albania  Algeria  Andorra  Angola  Antigua and Barbuda  \\\n",
       "25  2014        0.488    0.787    0.749    0.853   0.557                0.767   \n",
       "26  2015        0.490    0.788    0.751    0.850   0.565                0.770   \n",
       "27  2016        0.491    0.788    0.755    0.854   0.570                0.772   \n",
       "28  2017        0.493    0.789    0.758    0.852   0.576                0.774   \n",
       "29  2018        0.496    0.791    0.759    0.857   0.574                0.776   \n",
       "\n",
       "0   Argentina  Armenia  Australia  ...  United Kingdom  United States  \\\n",
       "25      0.825    0.746      0.929  ...           0.918          0.915   \n",
       "26      0.828    0.748      0.933  ...           0.916          0.917   \n",
       "27      0.828    0.751      0.935  ...           0.918          0.919   \n",
       "28      0.832    0.758      0.937  ...           0.919          0.919   \n",
       "29      0.830    0.760      0.938  ...           0.920          0.920   \n",
       "\n",
       "0   Uruguay  Uzbekistan  Vanuatu  Venezuela  Vietnam  Yemen  Zambia  Zimbabwe  \n",
       "25    0.800       0.693    0.589      0.770    0.675  0.504   0.565     0.537  \n",
       "26    0.802       0.696    0.592      0.763    0.680  0.493   0.570     0.544  \n",
       "27    0.806       0.701    0.592      0.752    0.685  0.477   0.580     0.549  \n",
       "28    0.807       0.707    0.595      0.735    0.690  0.463   0.589     0.553  \n",
       "29    0.808       0.710    0.597      0.726    0.693  0.463   0.591     0.563  \n",
       "\n",
       "[5 rows x 189 columns]"
      ]
     },
     "execution_count": 13,
     "metadata": {},
     "output_type": "execute_result"
    }
   ],
   "source": [
    "df_hid = read_csv('hdi_human_development_index.csv')\n",
    "df_hid.tail()"
   ]
  },
  {
   "cell_type": "code",
   "execution_count": 14,
   "metadata": {
    "hidden": true
   },
   "outputs": [
    {
     "name": "stdout",
     "output_type": "stream",
     "text": [
      "<class 'pandas.core.frame.DataFrame'>\n",
      "Int64Index: 29 entries, 1 to 29\n",
      "Columns: 189 entries, year to Zimbabwe\n",
      "dtypes: float64(188), int64(1)\n",
      "memory usage: 43.0 KB\n"
     ]
    }
   ],
   "source": [
    "df_hid.info()"
   ]
  },
  {
   "cell_type": "code",
   "execution_count": 15,
   "metadata": {
    "hidden": true
   },
   "outputs": [
    {
     "data": {
      "text/plain": [
       "0\n",
       "year            0\n",
       "Afghanistan     0\n",
       "Albania         0\n",
       "Algeria         0\n",
       "Andorra        10\n",
       "               ..\n",
       "Venezuela       0\n",
       "Vietnam         0\n",
       "Yemen           0\n",
       "Zambia          0\n",
       "Zimbabwe        0\n",
       "Length: 189, dtype: int64"
      ]
     },
     "execution_count": 15,
     "metadata": {},
     "output_type": "execute_result"
    }
   ],
   "source": [
    "# missing values per country\n",
    "df_hid.isna().sum()"
   ]
  },
  {
   "cell_type": "code",
   "execution_count": 17,
   "metadata": {
    "hidden": true
   },
   "outputs": [
    {
     "data": {
      "text/plain": [
       "517"
      ]
     },
     "execution_count": 17,
     "metadata": {},
     "output_type": "execute_result"
    }
   ],
   "source": [
    "# total number of missing values\n",
    "df_hid.isna().sum().sum()"
   ]
  },
  {
   "cell_type": "code",
   "execution_count": 18,
   "metadata": {
    "hidden": true
   },
   "outputs": [
    {
     "data": {
      "text/plain": [
       "0"
      ]
     },
     "execution_count": 18,
     "metadata": {},
     "output_type": "execute_result"
    }
   ],
   "source": [
    "df_hid.duplicated().sum()"
   ]
  },
  {
   "cell_type": "markdown",
   "metadata": {
    "hidden": true
   },
   "source": [
    "The dataset seems to have **517** missing values accross the countries. And has no duplicates.\n",
    "\n",
    "The missing values will be delt after loading all the features."
   ]
  },
  {
   "cell_type": "markdown",
   "metadata": {
    "heading_collapsed": true,
    "hidden": true
   },
   "source": [
    "#### Internet Users "
   ]
  },
  {
   "cell_type": "code",
   "execution_count": 19,
   "metadata": {
    "hidden": true
   },
   "outputs": [
    {
     "name": "stdout",
     "output_type": "stream",
     "text": [
      "Starting Year: 1960 | Ending Year: 2019\n"
     ]
    },
    {
     "data": {
      "text/html": [
       "<div>\n",
       "<style scoped>\n",
       "    .dataframe tbody tr th:only-of-type {\n",
       "        vertical-align: middle;\n",
       "    }\n",
       "\n",
       "    .dataframe tbody tr th {\n",
       "        vertical-align: top;\n",
       "    }\n",
       "\n",
       "    .dataframe thead th {\n",
       "        text-align: right;\n",
       "    }\n",
       "</style>\n",
       "<table border=\"1\" class=\"dataframe\">\n",
       "  <thead>\n",
       "    <tr style=\"text-align: right;\">\n",
       "      <th></th>\n",
       "      <th>year</th>\n",
       "      <th>Afghanistan</th>\n",
       "      <th>Albania</th>\n",
       "      <th>Algeria</th>\n",
       "      <th>Andorra</th>\n",
       "      <th>Angola</th>\n",
       "      <th>Antigua and Barbuda</th>\n",
       "      <th>Argentina</th>\n",
       "      <th>Armenia</th>\n",
       "      <th>Australia</th>\n",
       "      <th>...</th>\n",
       "      <th>United Kingdom</th>\n",
       "      <th>United States</th>\n",
       "      <th>Uruguay</th>\n",
       "      <th>Uzbekistan</th>\n",
       "      <th>Vanuatu</th>\n",
       "      <th>Venezuela</th>\n",
       "      <th>Vietnam</th>\n",
       "      <th>Yemen</th>\n",
       "      <th>Zambia</th>\n",
       "      <th>Zimbabwe</th>\n",
       "    </tr>\n",
       "  </thead>\n",
       "  <tbody>\n",
       "    <tr>\n",
       "      <th>56</th>\n",
       "      <td>2015</td>\n",
       "      <td>8.26</td>\n",
       "      <td>63.3</td>\n",
       "      <td>38.2</td>\n",
       "      <td>96.9</td>\n",
       "      <td>12.4</td>\n",
       "      <td>70.0</td>\n",
       "      <td>68.0</td>\n",
       "      <td>59.1</td>\n",
       "      <td>84.6</td>\n",
       "      <td>...</td>\n",
       "      <td>92.0</td>\n",
       "      <td>74.6</td>\n",
       "      <td>64.6</td>\n",
       "      <td>42.8</td>\n",
       "      <td>22.4</td>\n",
       "      <td>64.0</td>\n",
       "      <td>45.0</td>\n",
       "      <td>24.1</td>\n",
       "      <td>21.0</td>\n",
       "      <td>22.7</td>\n",
       "    </tr>\n",
       "    <tr>\n",
       "      <th>57</th>\n",
       "      <td>2016</td>\n",
       "      <td>NaN</td>\n",
       "      <td>66.4</td>\n",
       "      <td>42.9</td>\n",
       "      <td>97.9</td>\n",
       "      <td>13.0</td>\n",
       "      <td>73.0</td>\n",
       "      <td>71.0</td>\n",
       "      <td>64.3</td>\n",
       "      <td>86.5</td>\n",
       "      <td>...</td>\n",
       "      <td>94.8</td>\n",
       "      <td>85.5</td>\n",
       "      <td>66.4</td>\n",
       "      <td>46.8</td>\n",
       "      <td>24.0</td>\n",
       "      <td>60.0</td>\n",
       "      <td>53.0</td>\n",
       "      <td>24.6</td>\n",
       "      <td>25.5</td>\n",
       "      <td>23.1</td>\n",
       "    </tr>\n",
       "    <tr>\n",
       "      <th>58</th>\n",
       "      <td>2017</td>\n",
       "      <td>11.40</td>\n",
       "      <td>71.8</td>\n",
       "      <td>47.7</td>\n",
       "      <td>91.6</td>\n",
       "      <td>14.3</td>\n",
       "      <td>NaN</td>\n",
       "      <td>74.3</td>\n",
       "      <td>64.7</td>\n",
       "      <td>86.5</td>\n",
       "      <td>...</td>\n",
       "      <td>90.4</td>\n",
       "      <td>87.3</td>\n",
       "      <td>70.3</td>\n",
       "      <td>48.7</td>\n",
       "      <td>25.7</td>\n",
       "      <td>64.3</td>\n",
       "      <td>58.1</td>\n",
       "      <td>26.7</td>\n",
       "      <td>27.9</td>\n",
       "      <td>27.1</td>\n",
       "    </tr>\n",
       "    <tr>\n",
       "      <th>59</th>\n",
       "      <td>2018</td>\n",
       "      <td>NaN</td>\n",
       "      <td>NaN</td>\n",
       "      <td>49.0</td>\n",
       "      <td>NaN</td>\n",
       "      <td>NaN</td>\n",
       "      <td>NaN</td>\n",
       "      <td>NaN</td>\n",
       "      <td>68.2</td>\n",
       "      <td>NaN</td>\n",
       "      <td>...</td>\n",
       "      <td>90.7</td>\n",
       "      <td>88.5</td>\n",
       "      <td>74.4</td>\n",
       "      <td>55.2</td>\n",
       "      <td>NaN</td>\n",
       "      <td>NaN</td>\n",
       "      <td>69.8</td>\n",
       "      <td>NaN</td>\n",
       "      <td>14.3</td>\n",
       "      <td>NaN</td>\n",
       "    </tr>\n",
       "    <tr>\n",
       "      <th>60</th>\n",
       "      <td>2019</td>\n",
       "      <td>NaN</td>\n",
       "      <td>69.6</td>\n",
       "      <td>NaN</td>\n",
       "      <td>NaN</td>\n",
       "      <td>NaN</td>\n",
       "      <td>NaN</td>\n",
       "      <td>NaN</td>\n",
       "      <td>NaN</td>\n",
       "      <td>NaN</td>\n",
       "      <td>...</td>\n",
       "      <td>92.5</td>\n",
       "      <td>NaN</td>\n",
       "      <td>76.9</td>\n",
       "      <td>NaN</td>\n",
       "      <td>NaN</td>\n",
       "      <td>NaN</td>\n",
       "      <td>68.7</td>\n",
       "      <td>NaN</td>\n",
       "      <td>NaN</td>\n",
       "      <td>NaN</td>\n",
       "    </tr>\n",
       "  </tbody>\n",
       "</table>\n",
       "<p>5 rows × 195 columns</p>\n",
       "</div>"
      ],
      "text/plain": [
       "0   year  Afghanistan  Albania  Algeria  Andorra  Angola  Antigua and Barbuda  \\\n",
       "56  2015         8.26     63.3     38.2     96.9    12.4                 70.0   \n",
       "57  2016          NaN     66.4     42.9     97.9    13.0                 73.0   \n",
       "58  2017        11.40     71.8     47.7     91.6    14.3                  NaN   \n",
       "59  2018          NaN      NaN     49.0      NaN     NaN                  NaN   \n",
       "60  2019          NaN     69.6      NaN      NaN     NaN                  NaN   \n",
       "\n",
       "0   Argentina  Armenia  Australia  ...  United Kingdom  United States  \\\n",
       "56       68.0     59.1       84.6  ...            92.0           74.6   \n",
       "57       71.0     64.3       86.5  ...            94.8           85.5   \n",
       "58       74.3     64.7       86.5  ...            90.4           87.3   \n",
       "59        NaN     68.2        NaN  ...            90.7           88.5   \n",
       "60        NaN      NaN        NaN  ...            92.5            NaN   \n",
       "\n",
       "0   Uruguay  Uzbekistan  Vanuatu  Venezuela  Vietnam  Yemen  Zambia  Zimbabwe  \n",
       "56     64.6        42.8     22.4       64.0     45.0   24.1    21.0      22.7  \n",
       "57     66.4        46.8     24.0       60.0     53.0   24.6    25.5      23.1  \n",
       "58     70.3        48.7     25.7       64.3     58.1   26.7    27.9      27.1  \n",
       "59     74.4        55.2      NaN        NaN     69.8    NaN    14.3       NaN  \n",
       "60     76.9         NaN      NaN        NaN     68.7    NaN     NaN       NaN  \n",
       "\n",
       "[5 rows x 195 columns]"
      ]
     },
     "execution_count": 19,
     "metadata": {},
     "output_type": "execute_result"
    }
   ],
   "source": [
    "df_iu = read_csv('internet_users.csv')\n",
    "df_iu.tail()"
   ]
  },
  {
   "cell_type": "code",
   "execution_count": 20,
   "metadata": {
    "hidden": true
   },
   "outputs": [
    {
     "data": {
      "text/plain": [
       "0\n",
       "year            0\n",
       "Afghanistan    43\n",
       "Albania        35\n",
       "Algeria        34\n",
       "Andorra        38\n",
       "               ..\n",
       "Venezuela      33\n",
       "Vietnam        35\n",
       "Yemen          37\n",
       "Zambia         34\n",
       "Zimbabwe       35\n",
       "Length: 195, dtype: int64"
      ]
     },
     "execution_count": 20,
     "metadata": {},
     "output_type": "execute_result"
    }
   ],
   "source": [
    "df_iu.isna().sum()"
   ]
  },
  {
   "cell_type": "code",
   "execution_count": 21,
   "metadata": {
    "hidden": true
   },
   "outputs": [
    {
     "data": {
      "text/plain": [
       "6744"
      ]
     },
     "execution_count": 21,
     "metadata": {},
     "output_type": "execute_result"
    }
   ],
   "source": [
    "df_iu.isna().sum().sum()"
   ]
  },
  {
   "cell_type": "code",
   "execution_count": 22,
   "metadata": {
    "hidden": true
   },
   "outputs": [
    {
     "data": {
      "text/plain": [
       "0"
      ]
     },
     "execution_count": 22,
     "metadata": {},
     "output_type": "execute_result"
    }
   ],
   "source": [
    "df_iu.duplicated().sum()"
   ]
  },
  {
   "cell_type": "markdown",
   "metadata": {
    "hidden": true
   },
   "source": [
    "The dataset seems to have **6744** missing values accross the countries. And has no duplicates.\n",
    "\n",
    "The missing values will be delt after loading all the features."
   ]
  },
  {
   "cell_type": "markdown",
   "metadata": {
    "heading_collapsed": true,
    "hidden": true
   },
   "source": [
    "#### Babies per woman (Fertility Rate)  "
   ]
  },
  {
   "cell_type": "code",
   "execution_count": 23,
   "metadata": {
    "hidden": true,
    "scrolled": true
   },
   "outputs": [
    {
     "name": "stdout",
     "output_type": "stream",
     "text": [
      "Starting Year: 1800 | Ending Year: 2100\n"
     ]
    },
    {
     "data": {
      "text/html": [
       "<div>\n",
       "<style scoped>\n",
       "    .dataframe tbody tr th:only-of-type {\n",
       "        vertical-align: middle;\n",
       "    }\n",
       "\n",
       "    .dataframe tbody tr th {\n",
       "        vertical-align: top;\n",
       "    }\n",
       "\n",
       "    .dataframe thead th {\n",
       "        text-align: right;\n",
       "    }\n",
       "</style>\n",
       "<table border=\"1\" class=\"dataframe\">\n",
       "  <thead>\n",
       "    <tr style=\"text-align: right;\">\n",
       "      <th></th>\n",
       "      <th>year</th>\n",
       "      <th>Afghanistan</th>\n",
       "      <th>Albania</th>\n",
       "      <th>Algeria</th>\n",
       "      <th>Angola</th>\n",
       "      <th>Antigua and Barbuda</th>\n",
       "      <th>Argentina</th>\n",
       "      <th>Armenia</th>\n",
       "      <th>Australia</th>\n",
       "      <th>Austria</th>\n",
       "      <th>...</th>\n",
       "      <th>United Kingdom</th>\n",
       "      <th>United States</th>\n",
       "      <th>Uruguay</th>\n",
       "      <th>Uzbekistan</th>\n",
       "      <th>Vanuatu</th>\n",
       "      <th>Venezuela</th>\n",
       "      <th>Vietnam</th>\n",
       "      <th>Yemen</th>\n",
       "      <th>Zambia</th>\n",
       "      <th>Zimbabwe</th>\n",
       "    </tr>\n",
       "  </thead>\n",
       "  <tbody>\n",
       "    <tr>\n",
       "      <th>1</th>\n",
       "      <td>1800</td>\n",
       "      <td>7.0</td>\n",
       "      <td>4.6</td>\n",
       "      <td>6.99</td>\n",
       "      <td>6.93</td>\n",
       "      <td>5.00</td>\n",
       "      <td>6.8</td>\n",
       "      <td>7.80</td>\n",
       "      <td>6.50</td>\n",
       "      <td>5.1</td>\n",
       "      <td>...</td>\n",
       "      <td>4.97</td>\n",
       "      <td>7.03</td>\n",
       "      <td>5.97</td>\n",
       "      <td>5.71</td>\n",
       "      <td>6.6</td>\n",
       "      <td>5.63</td>\n",
       "      <td>4.7</td>\n",
       "      <td>6.88</td>\n",
       "      <td>6.71</td>\n",
       "      <td>6.75</td>\n",
       "    </tr>\n",
       "    <tr>\n",
       "      <th>2</th>\n",
       "      <td>1801</td>\n",
       "      <td>7.0</td>\n",
       "      <td>4.6</td>\n",
       "      <td>6.99</td>\n",
       "      <td>6.93</td>\n",
       "      <td>5.00</td>\n",
       "      <td>6.8</td>\n",
       "      <td>7.80</td>\n",
       "      <td>6.48</td>\n",
       "      <td>5.1</td>\n",
       "      <td>...</td>\n",
       "      <td>4.60</td>\n",
       "      <td>7.01</td>\n",
       "      <td>5.97</td>\n",
       "      <td>5.71</td>\n",
       "      <td>6.6</td>\n",
       "      <td>5.63</td>\n",
       "      <td>4.7</td>\n",
       "      <td>6.88</td>\n",
       "      <td>6.71</td>\n",
       "      <td>6.75</td>\n",
       "    </tr>\n",
       "    <tr>\n",
       "      <th>3</th>\n",
       "      <td>1802</td>\n",
       "      <td>7.0</td>\n",
       "      <td>4.6</td>\n",
       "      <td>6.99</td>\n",
       "      <td>6.93</td>\n",
       "      <td>4.99</td>\n",
       "      <td>6.8</td>\n",
       "      <td>7.81</td>\n",
       "      <td>6.46</td>\n",
       "      <td>5.1</td>\n",
       "      <td>...</td>\n",
       "      <td>5.30</td>\n",
       "      <td>6.99</td>\n",
       "      <td>5.96</td>\n",
       "      <td>5.71</td>\n",
       "      <td>6.6</td>\n",
       "      <td>5.64</td>\n",
       "      <td>4.7</td>\n",
       "      <td>6.88</td>\n",
       "      <td>6.71</td>\n",
       "      <td>6.75</td>\n",
       "    </tr>\n",
       "    <tr>\n",
       "      <th>4</th>\n",
       "      <td>1803</td>\n",
       "      <td>7.0</td>\n",
       "      <td>4.6</td>\n",
       "      <td>6.99</td>\n",
       "      <td>6.93</td>\n",
       "      <td>4.99</td>\n",
       "      <td>6.8</td>\n",
       "      <td>7.81</td>\n",
       "      <td>6.44</td>\n",
       "      <td>5.1</td>\n",
       "      <td>...</td>\n",
       "      <td>5.61</td>\n",
       "      <td>6.96</td>\n",
       "      <td>5.96</td>\n",
       "      <td>5.71</td>\n",
       "      <td>6.6</td>\n",
       "      <td>5.64</td>\n",
       "      <td>4.7</td>\n",
       "      <td>6.88</td>\n",
       "      <td>6.71</td>\n",
       "      <td>6.75</td>\n",
       "    </tr>\n",
       "    <tr>\n",
       "      <th>5</th>\n",
       "      <td>1804</td>\n",
       "      <td>7.0</td>\n",
       "      <td>4.6</td>\n",
       "      <td>6.99</td>\n",
       "      <td>6.93</td>\n",
       "      <td>4.99</td>\n",
       "      <td>6.8</td>\n",
       "      <td>7.81</td>\n",
       "      <td>6.42</td>\n",
       "      <td>5.1</td>\n",
       "      <td>...</td>\n",
       "      <td>5.65</td>\n",
       "      <td>6.94</td>\n",
       "      <td>5.96</td>\n",
       "      <td>5.71</td>\n",
       "      <td>6.6</td>\n",
       "      <td>5.64</td>\n",
       "      <td>4.7</td>\n",
       "      <td>6.88</td>\n",
       "      <td>6.71</td>\n",
       "      <td>6.75</td>\n",
       "    </tr>\n",
       "  </tbody>\n",
       "</table>\n",
       "<p>5 rows × 185 columns</p>\n",
       "</div>"
      ],
      "text/plain": [
       "0  year  Afghanistan  Albania  Algeria  Angola  Antigua and Barbuda  \\\n",
       "1  1800          7.0      4.6     6.99    6.93                 5.00   \n",
       "2  1801          7.0      4.6     6.99    6.93                 5.00   \n",
       "3  1802          7.0      4.6     6.99    6.93                 4.99   \n",
       "4  1803          7.0      4.6     6.99    6.93                 4.99   \n",
       "5  1804          7.0      4.6     6.99    6.93                 4.99   \n",
       "\n",
       "0  Argentina  Armenia  Australia  Austria  ...  United Kingdom  United States  \\\n",
       "1        6.8     7.80       6.50      5.1  ...            4.97           7.03   \n",
       "2        6.8     7.80       6.48      5.1  ...            4.60           7.01   \n",
       "3        6.8     7.81       6.46      5.1  ...            5.30           6.99   \n",
       "4        6.8     7.81       6.44      5.1  ...            5.61           6.96   \n",
       "5        6.8     7.81       6.42      5.1  ...            5.65           6.94   \n",
       "\n",
       "0  Uruguay  Uzbekistan  Vanuatu  Venezuela  Vietnam  Yemen  Zambia  Zimbabwe  \n",
       "1     5.97        5.71      6.6       5.63      4.7   6.88    6.71      6.75  \n",
       "2     5.97        5.71      6.6       5.63      4.7   6.88    6.71      6.75  \n",
       "3     5.96        5.71      6.6       5.64      4.7   6.88    6.71      6.75  \n",
       "4     5.96        5.71      6.6       5.64      4.7   6.88    6.71      6.75  \n",
       "5     5.96        5.71      6.6       5.64      4.7   6.88    6.71      6.75  \n",
       "\n",
       "[5 rows x 185 columns]"
      ]
     },
     "execution_count": 23,
     "metadata": {},
     "output_type": "execute_result"
    }
   ],
   "source": [
    "df_fertility = read_csv('children_per_woman_total_fertility.csv')\n",
    "df_fertility.head()"
   ]
  },
  {
   "cell_type": "code",
   "execution_count": 24,
   "metadata": {
    "hidden": true
   },
   "outputs": [
    {
     "name": "stdout",
     "output_type": "stream",
     "text": [
      "<class 'pandas.core.frame.DataFrame'>\n",
      "Int64Index: 301 entries, 1 to 301\n",
      "Columns: 185 entries, year to Zimbabwe\n",
      "dtypes: float64(184), int64(1)\n",
      "memory usage: 437.4 KB\n"
     ]
    }
   ],
   "source": [
    "df_fertility.info()"
   ]
  },
  {
   "cell_type": "code",
   "execution_count": 27,
   "metadata": {
    "hidden": true
   },
   "outputs": [
    {
     "data": {
      "text/plain": [
       "0\n",
       "year           0\n",
       "Afghanistan    0\n",
       "Albania        0\n",
       "Algeria        0\n",
       "Angola         0\n",
       "              ..\n",
       "Venezuela      0\n",
       "Vietnam        0\n",
       "Yemen          0\n",
       "Zambia         0\n",
       "Zimbabwe       0\n",
       "Length: 185, dtype: int64"
      ]
     },
     "execution_count": 27,
     "metadata": {},
     "output_type": "execute_result"
    }
   ],
   "source": [
    "df_fertility.isna().sum()"
   ]
  },
  {
   "cell_type": "code",
   "execution_count": 28,
   "metadata": {
    "hidden": true
   },
   "outputs": [
    {
     "data": {
      "text/plain": [
       "0"
      ]
     },
     "execution_count": 28,
     "metadata": {},
     "output_type": "execute_result"
    }
   ],
   "source": [
    "df_fertility.isna().sum().sum()"
   ]
  },
  {
   "cell_type": "code",
   "execution_count": 30,
   "metadata": {
    "hidden": true
   },
   "outputs": [
    {
     "data": {
      "text/plain": [
       "0"
      ]
     },
     "execution_count": 30,
     "metadata": {},
     "output_type": "execute_result"
    }
   ],
   "source": [
    "df_fertility.duplicated().sum()"
   ]
  },
  {
   "cell_type": "markdown",
   "metadata": {
    "hidden": true
   },
   "source": [
    "The features are in the right format as `float`, except for the `year` as `int`."
   ]
  },
  {
   "cell_type": "markdown",
   "metadata": {
    "heading_collapsed": true,
    "hidden": true
   },
   "source": [
    "### Making sure that we are working with the same data across all indicators\n",
    "The datasets are quite different. Some datasets have more countries than others. Also some datasets has too many missing values for some time periods.\n",
    "\n",
    "**The goal**\n",
    "- Countries that are present in all of our indicators datasets (intersection)\n",
    "- The time period with the least missing values"
   ]
  },
  {
   "cell_type": "code",
   "execution_count": 31,
   "metadata": {
    "hidden": true
   },
   "outputs": [],
   "source": [
    "# getting the columns of all of the datasets\n",
    "dfs_columns = [df_income.columns, df_iu.columns, df_hid.columns, df_owid.columns, df_fertility.columns]"
   ]
  },
  {
   "cell_type": "code",
   "execution_count": 33,
   "metadata": {
    "hidden": true
   },
   "outputs": [
    {
     "name": "stdout",
     "output_type": "stream",
     "text": [
      "Number of countries = 193\n",
      "Number of countries = 194\n",
      "Number of countries = 188\n",
      "Number of countries = 187\n",
      "Number of countries = 184\n"
     ]
    }
   ],
   "source": [
    "for c in dfs_columns:\n",
    "    print(f'Number of countries = {len(c)-1}') # we subtract 1 as the year is included in the columns"
   ]
  },
  {
   "cell_type": "markdown",
   "metadata": {
    "hidden": true
   },
   "source": [
    "As we can see the number of countries differe from one dataset to the other."
   ]
  },
  {
   "cell_type": "markdown",
   "metadata": {
    "heading_collapsed": true,
    "hidden": true
   },
   "source": [
    "#### Getting the intersections between the countries\n",
    "In this section we will get the countries that are present in all of the datasets we have.\n",
    "\n",
    "We also didn't remove the `year` column as we know it's present in all of the datasets and we will need it later."
   ]
  },
  {
   "cell_type": "code",
   "execution_count": 34,
   "metadata": {
    "hidden": true
   },
   "outputs": [
    {
     "name": "stdout",
     "output_type": "stream",
     "text": [
      "Number of countries after intersection 1: 194\n",
      "Number of countries after intersection 2: 188\n",
      "Number of countries after intersection 3: 186\n",
      "Number of countries after intersection 4: 181\n"
     ]
    }
   ],
   "source": [
    "countries = dfs_columns[0]\n",
    "intersections = 0 \n",
    "for c in dfs_columns[1:]:\n",
    "    countries = np.intersect1d(countries, c)\n",
    "    intersections += 1\n",
    "    print(f'Number of countries after intersection {intersections}: {len(countries)}')"
   ]
  },
  {
   "cell_type": "markdown",
   "metadata": {
    "heading_collapsed": true,
    "hidden": true
   },
   "source": [
    "#### Getting the data for the common countries only\n",
    "Now as we have a list of the common countries in all of our datasets we can use this list to update our datasets."
   ]
  },
  {
   "cell_type": "code",
   "execution_count": 35,
   "metadata": {
    "hidden": true
   },
   "outputs": [],
   "source": [
    "# update the rest of the datasets \n",
    "df_income = df_income[countries]\n",
    "df_iu = df_iu[countries]\n",
    "df_hid = df_hid[countries]\n",
    "df_owid = df_owid[countries]\n",
    "df_fertility = df_fertility[countries]"
   ]
  },
  {
   "cell_type": "code",
   "execution_count": 36,
   "metadata": {
    "hidden": true
   },
   "outputs": [
    {
     "name": "stdout",
     "output_type": "stream",
     "text": [
      "Number of countries = 180\n",
      "Number of countries = 180\n",
      "Number of countries = 180\n",
      "Number of countries = 180\n",
      "Number of countries = 180\n"
     ]
    }
   ],
   "source": [
    "dfs_columns = [df_income.columns, df_iu.columns, df_hid.columns, df_owid.columns, df_fertility.columns]\n",
    "for c in dfs_columns:\n",
    "    print(f'Number of countries = {len(c)-1}')"
   ]
  },
  {
   "cell_type": "markdown",
   "metadata": {
    "hidden": true
   },
   "source": [
    "Now all of our datasets have the same set of countries"
   ]
  },
  {
   "cell_type": "markdown",
   "metadata": {
    "heading_collapsed": true,
    "hidden": true
   },
   "source": [
    "### Choosing the time period with the lowest number of null values\n",
    "as some of the datasets have a high number of null values, we will need to find the time period with the lowest number of nulls accorss all datasets.\n",
    "\n",
    "some datasets have a high number of nulls specifically in the early years because of data collection reasons we will discuss it later on."
   ]
  },
  {
   "cell_type": "code",
   "execution_count": 37,
   "metadata": {
    "hidden": true
   },
   "outputs": [],
   "source": [
    "# counting the number of nulls in each year in a dataset\n",
    "def null_per_year(df):\n",
    "    nulls = {}\n",
    "    for y in df['year']:\n",
    "        n_nulls = df[df['year'] == y].isna().sum().sum()\n",
    "        if n_nulls > 0:\n",
    "            nulls[y] = n_nulls\n",
    "    \n",
    "    return pd.Series(nulls).to_frame('nulls')"
   ]
  },
  {
   "cell_type": "code",
   "execution_count": 38,
   "metadata": {
    "hidden": true
   },
   "outputs": [],
   "source": [
    "# making a dictionary of the datasets for faster iterating \n",
    "dfs = {'Income': df_income, 'Interent Use': df_iu, 'Human Development Index': df_hid, 'Education Index': df_owid, 'Fertility': df_fertility}"
   ]
  },
  {
   "cell_type": "code",
   "execution_count": 39,
   "metadata": {
    "hidden": true,
    "scrolled": true
   },
   "outputs": [
    {
     "name": "stdout",
     "output_type": "stream",
     "text": [
      "----- Dataframes with nulls! -----\n",
      "Numer of Nulls in Interent Use: 6153\n",
      "Numer of Nulls in Human Development Index: 415\n",
      "Numer of Nulls in Education Index: 19162\n"
     ]
    }
   ],
   "source": [
    "null_dfs = []\n",
    "print('-'*5, 'Dataframes with nulls!', '-'*5)\n",
    "for df in dfs:\n",
    "    n_nulls = dfs[df].isna().sum().sum()\n",
    "    if n_nulls > 0:\n",
    "        print(f\"Numer of Nulls in {df}: {n_nulls}\")\n",
    "        null_dfs.append(df)"
   ]
  },
  {
   "cell_type": "code",
   "execution_count": 50,
   "metadata": {
    "hidden": true
   },
   "outputs": [
    {
     "data": {
      "image/png": "[encoded data removed]",
      "text/plain": [
       "<Figure size 1080x360 with 1 Axes>"
      ]
     },
     "metadata": {},
     "output_type": "display_data"
    }
   ],
   "source": [
    "plt.figure(figsize=(15, 5))\n",
    "for df in null_dfs:\n",
    "    nulls = null_per_year(dfs[df])\n",
    "    plt.plot(nulls)\n",
    "\n",
    "plt.title('Null Values Across Indicators', fontsize=16)\n",
    "plt.xlabel('Year', fontsize=14)\n",
    "plt.ylabel('Number of null values', fontsize=14)\n",
    "plt.legend(['Internet USe', 'Human Development Index', 'Education Index'], fontsize=14)\n",
    "plt.show()"
   ]
  },
  {
   "cell_type": "markdown",
   "metadata": {
    "hidden": true
   },
   "source": [
    "- the internet was available to the public in [**1991**](https://thenextweb.com/insider/2011/08/06/20-years-ago-today-the-world-wide-web-opened-to-the-public/#:~:text=Today%20is%20a%20significant%20day,the%20project%20on%20the%20alt.) so there's no data prior to this year in the internet use datasets and it also took the world some years until it was available to a descent amount of people.\n",
    "- also the educational index data was not stable until the early **1990s**."
   ]
  },
  {
   "cell_type": "markdown",
   "metadata": {
    "hidden": true
   },
   "source": [
    "#### Nulls Distribution Across Indicators\n",
    "- according to the above insights, we will plot the nulls distribution across years starting 1991 so we can clearly see the difference.\n",
    "- and then descide on th time period we will choose"
   ]
  },
  {
   "cell_type": "code",
   "execution_count": 57,
   "metadata": {
    "hidden": true,
    "scrolled": true
   },
   "outputs": [
    {
     "data": {
      "image/png": "[encoded data removed]",
      "text/plain": [
       "<Figure size 1080x360 with 1 Axes>"
      ]
     },
     "metadata": {},
     "output_type": "display_data"
    }
   ],
   "source": [
    "fig = plt.figure(figsize=(15, 5))\n",
    "for df in null_dfs:\n",
    "    nulls = null_per_year(dfs[df]).loc[1991:]\n",
    "    plt.bar(nulls.index, nulls['nulls'], alpha=0.7)\n",
    "\n",
    "plt.title('Nulls Distribution Across indicators', fontsize=16)\n",
    "plt.xlabel('Years', fontsize=12)\n",
    "plt.ylabel('Number of null values')\n",
    "plt.legend(null_dfs)\n",
    "plt.xticks(np.arange(1990, 2020), rotation='vertical')\n",
    "plt.show()"
   ]
  },
  {
   "cell_type": "markdown",
   "metadata": {
    "hidden": true
   },
   "source": [
    "The time period with the lowest number of nulls will be from **2007-2016** but I choose the time period **2000-2017** as I can handle small number of missing data without affecting the results. "
   ]
  },
  {
   "cell_type": "code",
   "execution_count": 58,
   "metadata": {
    "hidden": true
   },
   "outputs": [],
   "source": [
    "# updating the dataframes\n",
    "df_income = df_income.query('2017 >= year >= 2000')\n",
    "df_iu = df_iu.query('2017 >= year >= 2000')\n",
    "df_hid = df_hid.query('2017 >= year >= 2000')\n",
    "df_owid = df_owid.query('2017 >= year >= 2000')\n",
    "df_fertility = df_fertility.query('2017 >= year >= 2000')"
   ]
  },
  {
   "cell_type": "markdown",
   "metadata": {
    "hidden": true
   },
   "source": [
    "Here we are updating the dataframes to only include the time period **2000-2017**"
   ]
  },
  {
   "cell_type": "code",
   "execution_count": 60,
   "metadata": {
    "hidden": true
   },
   "outputs": [
    {
     "data": {
      "text/html": [
       "<div>\n",
       "<style scoped>\n",
       "    .dataframe tbody tr th:only-of-type {\n",
       "        vertical-align: middle;\n",
       "    }\n",
       "\n",
       "    .dataframe tbody tr th {\n",
       "        vertical-align: top;\n",
       "    }\n",
       "\n",
       "    .dataframe thead th {\n",
       "        text-align: right;\n",
       "    }\n",
       "</style>\n",
       "<table border=\"1\" class=\"dataframe\">\n",
       "  <thead>\n",
       "    <tr style=\"text-align: right;\">\n",
       "      <th></th>\n",
       "      <th>Afghanistan</th>\n",
       "      <th>Albania</th>\n",
       "      <th>Algeria</th>\n",
       "      <th>Angola</th>\n",
       "      <th>Antigua and Barbuda</th>\n",
       "      <th>Argentina</th>\n",
       "      <th>Armenia</th>\n",
       "      <th>Australia</th>\n",
       "      <th>Austria</th>\n",
       "      <th>Azerbaijan</th>\n",
       "      <th>...</th>\n",
       "      <th>United States</th>\n",
       "      <th>Uruguay</th>\n",
       "      <th>Uzbekistan</th>\n",
       "      <th>Vanuatu</th>\n",
       "      <th>Venezuela</th>\n",
       "      <th>Vietnam</th>\n",
       "      <th>Yemen</th>\n",
       "      <th>Zambia</th>\n",
       "      <th>Zimbabwe</th>\n",
       "      <th>year</th>\n",
       "    </tr>\n",
       "  </thead>\n",
       "  <tbody>\n",
       "    <tr>\n",
       "      <th>214</th>\n",
       "      <td>1810</td>\n",
       "      <td>10500</td>\n",
       "      <td>13300</td>\n",
       "      <td>6730</td>\n",
       "      <td>20100</td>\n",
       "      <td>19600</td>\n",
       "      <td>7720</td>\n",
       "      <td>43200</td>\n",
       "      <td>44300</td>\n",
       "      <td>16600</td>\n",
       "      <td>...</td>\n",
       "      <td>51200</td>\n",
       "      <td>19400</td>\n",
       "      <td>5070</td>\n",
       "      <td>2850</td>\n",
       "      <td>18000</td>\n",
       "      <td>5070</td>\n",
       "      <td>3940</td>\n",
       "      <td>3630</td>\n",
       "      <td>2490</td>\n",
       "      <td>2013</td>\n",
       "    </tr>\n",
       "    <tr>\n",
       "      <th>215</th>\n",
       "      <td>1800</td>\n",
       "      <td>10700</td>\n",
       "      <td>13500</td>\n",
       "      <td>6810</td>\n",
       "      <td>20800</td>\n",
       "      <td>18900</td>\n",
       "      <td>7950</td>\n",
       "      <td>43700</td>\n",
       "      <td>44200</td>\n",
       "      <td>16900</td>\n",
       "      <td>...</td>\n",
       "      <td>52100</td>\n",
       "      <td>19900</td>\n",
       "      <td>5340</td>\n",
       "      <td>2840</td>\n",
       "      <td>17100</td>\n",
       "      <td>5310</td>\n",
       "      <td>3830</td>\n",
       "      <td>3690</td>\n",
       "      <td>2510</td>\n",
       "      <td>2014</td>\n",
       "    </tr>\n",
       "    <tr>\n",
       "      <th>216</th>\n",
       "      <td>1770</td>\n",
       "      <td>11000</td>\n",
       "      <td>13800</td>\n",
       "      <td>6650</td>\n",
       "      <td>21400</td>\n",
       "      <td>19200</td>\n",
       "      <td>8170</td>\n",
       "      <td>44100</td>\n",
       "      <td>44300</td>\n",
       "      <td>16800</td>\n",
       "      <td>...</td>\n",
       "      <td>53200</td>\n",
       "      <td>19900</td>\n",
       "      <td>5640</td>\n",
       "      <td>2740</td>\n",
       "      <td>15600</td>\n",
       "      <td>5610</td>\n",
       "      <td>3110</td>\n",
       "      <td>3680</td>\n",
       "      <td>2510</td>\n",
       "      <td>2015</td>\n",
       "    </tr>\n",
       "    <tr>\n",
       "      <th>217</th>\n",
       "      <td>1760</td>\n",
       "      <td>11400</td>\n",
       "      <td>13900</td>\n",
       "      <td>6260</td>\n",
       "      <td>22400</td>\n",
       "      <td>18600</td>\n",
       "      <td>8160</td>\n",
       "      <td>44600</td>\n",
       "      <td>44700</td>\n",
       "      <td>16100</td>\n",
       "      <td>...</td>\n",
       "      <td>53600</td>\n",
       "      <td>20200</td>\n",
       "      <td>5880</td>\n",
       "      <td>2780</td>\n",
       "      <td>15200</td>\n",
       "      <td>5900</td>\n",
       "      <td>2620</td>\n",
       "      <td>3700</td>\n",
       "      <td>2490</td>\n",
       "      <td>2016</td>\n",
       "    </tr>\n",
       "    <tr>\n",
       "      <th>218</th>\n",
       "      <td>1760</td>\n",
       "      <td>11800</td>\n",
       "      <td>13900</td>\n",
       "      <td>6050</td>\n",
       "      <td>22900</td>\n",
       "      <td>18900</td>\n",
       "      <td>8750</td>\n",
       "      <td>44900</td>\n",
       "      <td>45500</td>\n",
       "      <td>15900</td>\n",
       "      <td>...</td>\n",
       "      <td>54500</td>\n",
       "      <td>20700</td>\n",
       "      <td>6040</td>\n",
       "      <td>2830</td>\n",
       "      <td>14500</td>\n",
       "      <td>6230</td>\n",
       "      <td>2400</td>\n",
       "      <td>3720</td>\n",
       "      <td>2570</td>\n",
       "      <td>2017</td>\n",
       "    </tr>\n",
       "  </tbody>\n",
       "</table>\n",
       "<p>5 rows × 181 columns</p>\n",
       "</div>"
      ],
      "text/plain": [
       "0    Afghanistan  Albania  Algeria  Angola  Antigua and Barbuda  Argentina  \\\n",
       "214         1810    10500    13300    6730                20100      19600   \n",
       "215         1800    10700    13500    6810                20800      18900   \n",
       "216         1770    11000    13800    6650                21400      19200   \n",
       "217         1760    11400    13900    6260                22400      18600   \n",
       "218         1760    11800    13900    6050                22900      18900   \n",
       "\n",
       "0    Armenia  Australia  Austria  Azerbaijan  ...  United States  Uruguay  \\\n",
       "214     7720      43200    44300       16600  ...          51200    19400   \n",
       "215     7950      43700    44200       16900  ...          52100    19900   \n",
       "216     8170      44100    44300       16800  ...          53200    19900   \n",
       "217     8160      44600    44700       16100  ...          53600    20200   \n",
       "218     8750      44900    45500       15900  ...          54500    20700   \n",
       "\n",
       "0    Uzbekistan  Vanuatu  Venezuela  Vietnam  Yemen  Zambia  Zimbabwe  year  \n",
       "214        5070     2850      18000     5070   3940    3630      2490  2013  \n",
       "215        5340     2840      17100     5310   3830    3690      2510  2014  \n",
       "216        5640     2740      15600     5610   3110    3680      2510  2015  \n",
       "217        5880     2780      15200     5900   2620    3700      2490  2016  \n",
       "218        6040     2830      14500     6230   2400    3720      2570  2017  \n",
       "\n",
       "[5 rows x 181 columns]"
      ]
     },
     "execution_count": 60,
     "metadata": {},
     "output_type": "execute_result"
    }
   ],
   "source": [
    "df_income.tail()"
   ]
  },
  {
   "cell_type": "markdown",
   "metadata": {
    "hidden": true
   },
   "source": [
    "Making sure that we have the correct years -> the year column is at the end of the dataframe"
   ]
  },
  {
   "cell_type": "code",
   "execution_count": 62,
   "metadata": {
    "hidden": true
   },
   "outputs": [],
   "source": [
    "# updating our dictionary to include the updated dataframes\n",
    "dfs = {'Income': df_income, 'Interent Use': df_iu, 'Human Development Index': df_hid, 'Education Index': df_owid, 'Fertility': df_fertility}"
   ]
  },
  {
   "cell_type": "code",
   "execution_count": 63,
   "metadata": {
    "hidden": true
   },
   "outputs": [
    {
     "name": "stdout",
     "output_type": "stream",
     "text": [
      "(18, 181) Shape  Income\n",
      "(18, 181) Shape  Interent Use\n",
      "(18, 181) Shape  Human Development Index\n",
      "(18, 181) Shape  Education Index\n",
      "(18, 181) Shape  Fertility\n"
     ]
    }
   ],
   "source": [
    "for df in dfs:\n",
    "    print(dfs[df].shape, 'Shape ', df)"
   ]
  },
  {
   "cell_type": "markdown",
   "metadata": {
    "hidden": true
   },
   "source": [
    "- Now all the indicators have the same number of columns **181**: 180 country + the year column.\n",
    "- All the indicators are across **18** years in the time period **2000-2017**"
   ]
  },
  {
   "cell_type": "markdown",
   "metadata": {
    "heading_collapsed": true,
    "hidden": true
   },
   "source": [
    "### Filling Missing Values\n",
    "- In this section we will examine the remaining missing values and handle them\n",
    " - Dropping countries with too many missing values\n",
    " - Interpolation"
   ]
  },
  {
   "cell_type": "code",
   "execution_count": 65,
   "metadata": {
    "hidden": true
   },
   "outputs": [
    {
     "name": "stdout",
     "output_type": "stream",
     "text": [
      " number of missing values in  Income  : 0\n",
      " number of missing values in  Interent Use  : 64\n",
      " number of missing values in  Human Development Index  : 66\n",
      " number of missing values in  Education Index  : 81\n",
      " number of missing values in  Fertility  : 0\n"
     ]
    }
   ],
   "source": [
    "# number of missing values per indicator\n",
    "for df in dfs:\n",
    "    print(' number of missing values in ', df, ' :', dfs[df].isna().sum().sum())"
   ]
  },
  {
   "cell_type": "code",
   "execution_count": 42,
   "metadata": {
    "hidden": true
   },
   "outputs": [
    {
     "data": {
      "text/plain": [
       "0\n",
       "Bhutan            5\n",
       "Comoros           4\n",
       "Eritrea           5\n",
       "Grenada           2\n",
       "Guinea-Bissau     5\n",
       "Lebanon           5\n",
       "Montenegro        3\n",
       "Nigeria           3\n",
       "Palestine         4\n",
       "South Korea      18\n",
       "South Sudan       8\n",
       "Suriname          4\n",
       "Turkmenistan     10\n",
       "Vanuatu           5\n",
       "dtype: int64"
      ]
     },
     "execution_count": 42,
     "metadata": {},
     "output_type": "execute_result"
    }
   ],
   "source": [
    "# the number of missing Education Index per country\n",
    "df_owid.isna().sum()[df_owid.isna().sum()>0]"
   ]
  },
  {
   "cell_type": "markdown",
   "metadata": {
    "hidden": true
   },
   "source": [
    "Here we find that **Turkmenistan and South Korea** have a high number of missing values.\n",
    "\n",
    "We will add the countries with missing values in a set as we explore the other features and then drop these countries from our datasets. "
   ]
  },
  {
   "cell_type": "code",
   "execution_count": 66,
   "metadata": {
    "hidden": true
   },
   "outputs": [],
   "source": [
    "# countries to drop set\n",
    "drop_countries = {'Turkmenistan', 'South Korea'}"
   ]
  },
  {
   "cell_type": "code",
   "execution_count": 44,
   "metadata": {
    "hidden": true
   },
   "outputs": [
    {
     "data": {
      "text/plain": [
       "0\n",
       "Afghanistan                        2\n",
       "Antigua and Barbuda                1\n",
       "Australia                          3\n",
       "Azerbaijan                         2\n",
       "Bangladesh                         1\n",
       "Belarus                            3\n",
       "Belize                             2\n",
       "Bhutan                             1\n",
       "Ecuador                            1\n",
       "Eritrea                            4\n",
       "Guyana                             5\n",
       "Iraq                               1\n",
       "Ireland                            1\n",
       "Liberia                            2\n",
       "Libya                              1\n",
       "Madagascar                         1\n",
       "Mongolia                           4\n",
       "Montenegro                         4\n",
       "Myanmar                            1\n",
       "Pakistan                           1\n",
       "Rwanda                             1\n",
       "Serbia                             4\n",
       "Seychelles                         1\n",
       "South Sudan                       13\n",
       "St. Vincent and the Grenadines     1\n",
       "Sudan                              3\n",
       "dtype: int64"
      ]
     },
     "execution_count": 44,
     "metadata": {},
     "output_type": "execute_result"
    }
   ],
   "source": [
    "# the number of missing Internet users entries per country\n",
    "df_iu.isna().sum()[df_iu.isna().sum()>0]"
   ]
  },
  {
   "cell_type": "markdown",
   "metadata": {
    "hidden": true
   },
   "source": [
    "Here we find that **South Sudan** has a high number of missing values so we add to our drop set."
   ]
  },
  {
   "cell_type": "code",
   "execution_count": 67,
   "metadata": {
    "hidden": true
   },
   "outputs": [],
   "source": [
    "# adding South Sudan to the drop set\n",
    "drop_countries.add('South Sudan')"
   ]
  },
  {
   "cell_type": "code",
   "execution_count": 68,
   "metadata": {
    "hidden": true
   },
   "outputs": [
    {
     "data": {
      "text/plain": [
       "0\n",
       "Antigua and Barbuda     5\n",
       "Bhutan                  5\n",
       "Eritrea                 5\n",
       "Grenada                 2\n",
       "Guinea-Bissau           5\n",
       "Lebanon                 5\n",
       "Montenegro              3\n",
       "Nigeria                 3\n",
       "Palestine               4\n",
       "South Sudan            10\n",
       "Suriname                4\n",
       "Turkmenistan           10\n",
       "Vanuatu                 5\n",
       "dtype: int64"
      ]
     },
     "execution_count": 68,
     "metadata": {},
     "output_type": "execute_result"
    }
   ],
   "source": [
    "# the number of missing Human Development Index entries per country\n",
    "df_hid.isna().sum()[df_hid.isna().sum()>0]"
   ]
  },
  {
   "cell_type": "markdown",
   "metadata": {
    "hidden": true
   },
   "source": [
    "Here we find that **South Sudan and Turkmenistan** have a high number of missing values so we add to our drop set.\n",
    "\n",
    "As we are using a **set** to store these names, it will **automatically ignore duplicates**."
   ]
  },
  {
   "cell_type": "code",
   "execution_count": 69,
   "metadata": {
    "hidden": true
   },
   "outputs": [],
   "source": [
    "# Adding the new countries to the drop list\n",
    "drop_countries.add('South Sudan')\n",
    "drop_countries.add('Turkmenistan')"
   ]
  },
  {
   "cell_type": "code",
   "execution_count": 71,
   "metadata": {
    "hidden": true
   },
   "outputs": [
    {
     "data": {
      "text/plain": [
       "['South Korea', 'South Sudan', 'Turkmenistan']"
      ]
     },
     "execution_count": 71,
     "metadata": {},
     "output_type": "execute_result"
    }
   ],
   "source": [
    "list(drop_countries)"
   ]
  },
  {
   "cell_type": "code",
   "execution_count": 72,
   "metadata": {
    "hidden": true
   },
   "outputs": [],
   "source": [
    "# drop countries with very high missing values\n",
    "drop_countries = list(drop_countries)\n",
    "df_income.drop(drop_countries, axis=1, inplace=True)\n",
    "df_iu.drop(drop_countries, axis=1, inplace=True)\n",
    "df_hid.drop(drop_countries, axis=1, inplace=True)\n",
    "df_owid.drop(drop_countries, axis=1, inplace=True)\n",
    "df_fertility.drop(drop_countries, axis=1, inplace=True)"
   ]
  },
  {
   "cell_type": "code",
   "execution_count": 73,
   "metadata": {
    "hidden": true
   },
   "outputs": [],
   "source": [
    "# updating our dictionary\n",
    "dfs = {'Income': df_income, 'Interent Use': df_iu, 'Human Development Index': df_hid, 'Education Index': df_owid, 'Fertility': df_fertility}"
   ]
  },
  {
   "cell_type": "code",
   "execution_count": 75,
   "metadata": {
    "hidden": true
   },
   "outputs": [
    {
     "name": "stdout",
     "output_type": "stream",
     "text": [
      " number of missing values in  Income  : 0\n",
      " number of missing values in  Interent Use  : 51\n",
      " number of missing values in  Human Development Index  : 46\n",
      " number of missing values in  Education Index  : 45\n",
      " number of missing values in  Fertility  : 0\n"
     ]
    }
   ],
   "source": [
    "for df in dfs:\n",
    "    print(' number of missing values in ', df, ' :', dfs[df].isna().sum().sum())"
   ]
  },
  {
   "cell_type": "markdown",
   "metadata": {
    "hidden": true
   },
   "source": [
    "After removing the countries with high number of missing values our numbers changed as follows:\n",
    "- Internet Use: 64 -> 51\n",
    "- Human Development Index 66 -> 46\n",
    "- Education Index -> 81 -> 45\n",
    "\n",
    "We can now fill these missing values using pandas **interpolation**."
   ]
  },
  {
   "cell_type": "markdown",
   "metadata": {
    "heading_collapsed": true,
    "hidden": true
   },
   "source": [
    "#### Filling Missing Values using Interpolation\n",
    "- As our data seems to follow a trend as it increases or decrease overtime filling it the mean or median won't be the best choice \n",
    "- So I will be filling the missing data using **Interpolation**\n",
    " - The `limit_direction` is set to `both` so the algorithm doesn't leave any empty values even if they are at the start or the end of the dataframe."
   ]
  },
  {
   "cell_type": "code",
   "execution_count": 76,
   "metadata": {
    "hidden": true
   },
   "outputs": [],
   "source": [
    "# filling missing values with interpolation\n",
    "df_iu = df_iu.interpolate(method='linear', limit_direction='both')\n",
    "df_hid = df_hid.interpolate(method='linear', limit_direction='both')\n",
    "df_owid = df_owid.interpolate(method='linear', limit_direction='both')"
   ]
  },
  {
   "cell_type": "code",
   "execution_count": 77,
   "metadata": {
    "hidden": true
   },
   "outputs": [],
   "source": [
    "# updating the dictionary\n",
    "dfs = {'Income': df_income, 'Interent Use': df_iu, 'Human Development Index': df_hid, 'Education Index': df_owid, 'Fertility': df_fertility}"
   ]
  },
  {
   "cell_type": "code",
   "execution_count": 78,
   "metadata": {
    "hidden": true
   },
   "outputs": [
    {
     "name": "stdout",
     "output_type": "stream",
     "text": [
      " number of missing values in  Income  : 0\n",
      " number of missing values in  Interent Use  : 0\n",
      " number of missing values in  Human Development Index  : 0\n",
      " number of missing values in  Education Index  : 0\n",
      " number of missing values in  Fertility  : 0\n"
     ]
    }
   ],
   "source": [
    "for df in dfs:\n",
    "    print(' number of missing values in ', df, ' :', dfs[df].isna().sum().sum())"
   ]
  },
  {
   "cell_type": "markdown",
   "metadata": {
    "hidden": true
   },
   "source": [
    "Now we have no missing values in any of our dataframes and we are ready for the next step"
   ]
  },
  {
   "cell_type": "markdown",
   "metadata": {
    "heading_collapsed": true
   },
   "source": [
    "## Exploratory Data Analysis <a id='eda'></a>\n",
    "> **Tip**: Now that you've trimmed and cleaned your data, you're ready to move on to exploration. Compute statistics and create visualizations with the goal of addressing the research questions that you posed in the Introduction section. It is recommended that you be systematic with your approach. Look at one variable at a time, and then follow it up by looking at relationships between variables.\n",
    "\n",
    "### Which countries has developed the most in the choosen time period (2000-2017)"
   ]
  },
  {
   "cell_type": "code",
   "execution_count": 56,
   "metadata": {
    "hidden": true
   },
   "outputs": [
    {
     "data": {
      "text/html": [
       "<div>\n",
       "<style scoped>\n",
       "    .dataframe tbody tr th:only-of-type {\n",
       "        vertical-align: middle;\n",
       "    }\n",
       "\n",
       "    .dataframe tbody tr th {\n",
       "        vertical-align: top;\n",
       "    }\n",
       "\n",
       "    .dataframe thead th {\n",
       "        text-align: right;\n",
       "    }\n",
       "</style>\n",
       "<table border=\"1\" class=\"dataframe\">\n",
       "  <thead>\n",
       "    <tr style=\"text-align: right;\">\n",
       "      <th></th>\n",
       "      <th>Afghanistan</th>\n",
       "      <th>Albania</th>\n",
       "      <th>Algeria</th>\n",
       "      <th>Angola</th>\n",
       "      <th>Antigua and Barbuda</th>\n",
       "      <th>Argentina</th>\n",
       "      <th>Armenia</th>\n",
       "      <th>Australia</th>\n",
       "      <th>Austria</th>\n",
       "      <th>Azerbaijan</th>\n",
       "      <th>...</th>\n",
       "      <th>United States</th>\n",
       "      <th>Uruguay</th>\n",
       "      <th>Uzbekistan</th>\n",
       "      <th>Vanuatu</th>\n",
       "      <th>Venezuela</th>\n",
       "      <th>Vietnam</th>\n",
       "      <th>Yemen</th>\n",
       "      <th>Zambia</th>\n",
       "      <th>Zimbabwe</th>\n",
       "      <th>year</th>\n",
       "    </tr>\n",
       "  </thead>\n",
       "  <tbody>\n",
       "    <tr>\n",
       "      <th>201</th>\n",
       "      <td>687</td>\n",
       "      <td>5440</td>\n",
       "      <td>10300</td>\n",
       "      <td>3890</td>\n",
       "      <td>20800</td>\n",
       "      <td>15000</td>\n",
       "      <td>2930</td>\n",
       "      <td>35400</td>\n",
       "      <td>38800</td>\n",
       "      <td>4600</td>\n",
       "      <td>...</td>\n",
       "      <td>45700</td>\n",
       "      <td>12900</td>\n",
       "      <td>2520</td>\n",
       "      <td>2820</td>\n",
       "      <td>14600</td>\n",
       "      <td>2570</td>\n",
       "      <td>4000</td>\n",
       "      <td>2130</td>\n",
       "      <td>2950</td>\n",
       "      <td>2000</td>\n",
       "    </tr>\n",
       "    <tr>\n",
       "      <th>202</th>\n",
       "      <td>646</td>\n",
       "      <td>5950</td>\n",
       "      <td>10400</td>\n",
       "      <td>3920</td>\n",
       "      <td>19500</td>\n",
       "      <td>14200</td>\n",
       "      <td>3220</td>\n",
       "      <td>35600</td>\n",
       "      <td>39200</td>\n",
       "      <td>5020</td>\n",
       "      <td>...</td>\n",
       "      <td>45700</td>\n",
       "      <td>12400</td>\n",
       "      <td>2590</td>\n",
       "      <td>2670</td>\n",
       "      <td>14800</td>\n",
       "      <td>2710</td>\n",
       "      <td>4030</td>\n",
       "      <td>2180</td>\n",
       "      <td>2980</td>\n",
       "      <td>2001</td>\n",
       "    </tr>\n",
       "    <tr>\n",
       "      <th>203</th>\n",
       "      <td>1020</td>\n",
       "      <td>6240</td>\n",
       "      <td>10900</td>\n",
       "      <td>4320</td>\n",
       "      <td>19400</td>\n",
       "      <td>12500</td>\n",
       "      <td>3670</td>\n",
       "      <td>36600</td>\n",
       "      <td>39600</td>\n",
       "      <td>5450</td>\n",
       "      <td>...</td>\n",
       "      <td>46000</td>\n",
       "      <td>11400</td>\n",
       "      <td>2660</td>\n",
       "      <td>2470</td>\n",
       "      <td>13300</td>\n",
       "      <td>2850</td>\n",
       "      <td>4070</td>\n",
       "      <td>2220</td>\n",
       "      <td>2710</td>\n",
       "      <td>2002</td>\n",
       "    </tr>\n",
       "    <tr>\n",
       "      <th>204</th>\n",
       "      <td>1060</td>\n",
       "      <td>6610</td>\n",
       "      <td>11500</td>\n",
       "      <td>4300</td>\n",
       "      <td>20300</td>\n",
       "      <td>13400</td>\n",
       "      <td>4210</td>\n",
       "      <td>37200</td>\n",
       "      <td>39800</td>\n",
       "      <td>5970</td>\n",
       "      <td>...</td>\n",
       "      <td>46900</td>\n",
       "      <td>11500</td>\n",
       "      <td>2740</td>\n",
       "      <td>2510</td>\n",
       "      <td>12000</td>\n",
       "      <td>3020</td>\n",
       "      <td>4100</td>\n",
       "      <td>2320</td>\n",
       "      <td>2240</td>\n",
       "      <td>2003</td>\n",
       "    </tr>\n",
       "    <tr>\n",
       "      <th>205</th>\n",
       "      <td>1030</td>\n",
       "      <td>7000</td>\n",
       "      <td>11800</td>\n",
       "      <td>4610</td>\n",
       "      <td>21200</td>\n",
       "      <td>14500</td>\n",
       "      <td>4670</td>\n",
       "      <td>38300</td>\n",
       "      <td>40700</td>\n",
       "      <td>6460</td>\n",
       "      <td>...</td>\n",
       "      <td>48300</td>\n",
       "      <td>12100</td>\n",
       "      <td>2910</td>\n",
       "      <td>2540</td>\n",
       "      <td>14000</td>\n",
       "      <td>3210</td>\n",
       "      <td>4150</td>\n",
       "      <td>2420</td>\n",
       "      <td>2100</td>\n",
       "      <td>2004</td>\n",
       "    </tr>\n",
       "  </tbody>\n",
       "</table>\n",
       "<p>5 rows × 178 columns</p>\n",
       "</div>"
      ],
      "text/plain": [
       "0    Afghanistan  Albania  Algeria  Angola  Antigua and Barbuda  Argentina  \\\n",
       "201          687     5440    10300    3890                20800      15000   \n",
       "202          646     5950    10400    3920                19500      14200   \n",
       "203         1020     6240    10900    4320                19400      12500   \n",
       "204         1060     6610    11500    4300                20300      13400   \n",
       "205         1030     7000    11800    4610                21200      14500   \n",
       "\n",
       "0    Armenia  Australia  Austria  Azerbaijan  ...  United States  Uruguay  \\\n",
       "201     2930      35400    38800        4600  ...          45700    12900   \n",
       "202     3220      35600    39200        5020  ...          45700    12400   \n",
       "203     3670      36600    39600        5450  ...          46000    11400   \n",
       "204     4210      37200    39800        5970  ...          46900    11500   \n",
       "205     4670      38300    40700        6460  ...          48300    12100   \n",
       "\n",
       "0    Uzbekistan  Vanuatu  Venezuela  Vietnam  Yemen  Zambia  Zimbabwe  year  \n",
       "201        2520     2820      14600     2570   4000    2130      2950  2000  \n",
       "202        2590     2670      14800     2710   4030    2180      2980  2001  \n",
       "203        2660     2470      13300     2850   4070    2220      2710  2002  \n",
       "204        2740     2510      12000     3020   4100    2320      2240  2003  \n",
       "205        2910     2540      14000     3210   4150    2420      2100  2004  \n",
       "\n",
       "[5 rows x 178 columns]"
      ]
     },
     "execution_count": 56,
     "metadata": {},
     "output_type": "execute_result"
    }
   ],
   "source": [
    "df_income.head()"
   ]
  },
  {
   "cell_type": "code",
   "execution_count": 57,
   "metadata": {
    "hidden": true
   },
   "outputs": [
    {
     "data": {
      "text/html": [
       "<div>\n",
       "<style scoped>\n",
       "    .dataframe tbody tr th:only-of-type {\n",
       "        vertical-align: middle;\n",
       "    }\n",
       "\n",
       "    .dataframe tbody tr th {\n",
       "        vertical-align: top;\n",
       "    }\n",
       "\n",
       "    .dataframe thead th {\n",
       "        text-align: right;\n",
       "    }\n",
       "</style>\n",
       "<table border=\"1\" class=\"dataframe\">\n",
       "  <thead>\n",
       "    <tr style=\"text-align: right;\">\n",
       "      <th></th>\n",
       "      <th>difference</th>\n",
       "    </tr>\n",
       "    <tr>\n",
       "      <th>0</th>\n",
       "      <th></th>\n",
       "    </tr>\n",
       "  </thead>\n",
       "  <tbody>\n",
       "    <tr>\n",
       "      <th>Venezuela</th>\n",
       "      <td>-100</td>\n",
       "    </tr>\n",
       "    <tr>\n",
       "      <th>Vietnam</th>\n",
       "      <td>3660</td>\n",
       "    </tr>\n",
       "    <tr>\n",
       "      <th>Yemen</th>\n",
       "      <td>-1600</td>\n",
       "    </tr>\n",
       "    <tr>\n",
       "      <th>Zambia</th>\n",
       "      <td>1590</td>\n",
       "    </tr>\n",
       "    <tr>\n",
       "      <th>Zimbabwe</th>\n",
       "      <td>-380</td>\n",
       "    </tr>\n",
       "  </tbody>\n",
       "</table>\n",
       "</div>"
      ],
      "text/plain": [
       "           difference\n",
       "0                    \n",
       "Venezuela        -100\n",
       "Vietnam          3660\n",
       "Yemen           -1600\n",
       "Zambia           1590\n",
       "Zimbabwe         -380"
      ]
     },
     "execution_count": 57,
     "metadata": {},
     "output_type": "execute_result"
    }
   ],
   "source": [
    "# getting the most developed countries in the time period\n",
    "df_countries_difference = pd.DataFrame(df_income.iloc[-1, :] - df_income.iloc[0, :],columns=['difference'])\n",
    "df_countries_difference.drop('year', axis=0, inplace=True) # dropping the year\n",
    "df_countries_difference.tail()"
   ]
  },
  {
   "cell_type": "code",
   "execution_count": 60,
   "metadata": {
    "hidden": true
   },
   "outputs": [
    {
     "data": {
      "text/html": [
       "<div>\n",
       "<style scoped>\n",
       "    .dataframe tbody tr th:only-of-type {\n",
       "        vertical-align: middle;\n",
       "    }\n",
       "\n",
       "    .dataframe tbody tr th {\n",
       "        vertical-align: top;\n",
       "    }\n",
       "\n",
       "    .dataframe thead th {\n",
       "        text-align: right;\n",
       "    }\n",
       "</style>\n",
       "<table border=\"1\" class=\"dataframe\">\n",
       "  <thead>\n",
       "    <tr style=\"text-align: right;\">\n",
       "      <th></th>\n",
       "      <th>difference</th>\n",
       "    </tr>\n",
       "    <tr>\n",
       "      <th>0</th>\n",
       "      <th></th>\n",
       "    </tr>\n",
       "  </thead>\n",
       "  <tbody>\n",
       "    <tr>\n",
       "      <th>Singapore</th>\n",
       "      <td>35400</td>\n",
       "    </tr>\n",
       "    <tr>\n",
       "      <th>Ireland</th>\n",
       "      <td>27200</td>\n",
       "    </tr>\n",
       "    <tr>\n",
       "      <th>Lithuania</th>\n",
       "      <td>17400</td>\n",
       "    </tr>\n",
       "    <tr>\n",
       "      <th>Slovak Republic</th>\n",
       "      <td>14500</td>\n",
       "    </tr>\n",
       "    <tr>\n",
       "      <th>Estonia</th>\n",
       "      <td>14200</td>\n",
       "    </tr>\n",
       "    <tr>\n",
       "      <th>Kazakhstan</th>\n",
       "      <td>14150</td>\n",
       "    </tr>\n",
       "    <tr>\n",
       "      <th>Latvia</th>\n",
       "      <td>13800</td>\n",
       "    </tr>\n",
       "    <tr>\n",
       "      <th>Romania</th>\n",
       "      <td>13000</td>\n",
       "    </tr>\n",
       "    <tr>\n",
       "      <th>Iceland</th>\n",
       "      <td>12800</td>\n",
       "    </tr>\n",
       "    <tr>\n",
       "      <th>Poland</th>\n",
       "      <td>12600</td>\n",
       "    </tr>\n",
       "  </tbody>\n",
       "</table>\n",
       "</div>"
      ],
      "text/plain": [
       "                 difference\n",
       "0                          \n",
       "Singapore             35400\n",
       "Ireland               27200\n",
       "Lithuania             17400\n",
       "Slovak Republic       14500\n",
       "Estonia               14200\n",
       "Kazakhstan            14150\n",
       "Latvia                13800\n",
       "Romania               13000\n",
       "Iceland               12800\n",
       "Poland                12600"
      ]
     },
     "execution_count": 60,
     "metadata": {},
     "output_type": "execute_result"
    }
   ],
   "source": [
    "most_advancing_10 = df_countries_difference.sort_values('difference', ascending=False).iloc[:10]\n",
    "most_advancing_10"
   ]
  },
  {
   "cell_type": "code",
   "execution_count": 61,
   "metadata": {
    "hidden": true
   },
   "outputs": [
    {
     "data": {
      "text/plain": [
       "<matplotlib.axes._subplots.AxesSubplot at 0x7f1a91185690>"
      ]
     },
     "execution_count": 61,
     "metadata": {},
     "output_type": "execute_result"
    },
    {
     "data": {
      "image/png": "[encoded data removed]",
      "text/plain": [
       "<Figure size 720x360 with 1 Axes>"
      ]
     },
     "metadata": {},
     "output_type": "display_data"
    }
   ],
   "source": [
    "most_advancing_10.plot(kind='barh', figsize=(10, 5))"
   ]
  },
  {
   "cell_type": "code",
   "execution_count": 62,
   "metadata": {
    "hidden": true
   },
   "outputs": [
    {
     "data": {
      "text/plain": [
       "Index(['Singapore', 'Ireland', 'Lithuania', 'Slovak Republic', 'Estonia',\n",
       "       'Kazakhstan', 'Latvia', 'Romania', 'Iceland', 'Poland'],\n",
       "      dtype='object', name=0)"
      ]
     },
     "execution_count": 62,
     "metadata": {},
     "output_type": "execute_result"
    }
   ],
   "source": [
    "most_advancing_10.index"
   ]
  },
  {
   "cell_type": "code",
   "execution_count": 64,
   "metadata": {
    "hidden": true
   },
   "outputs": [],
   "source": [
    "def plot_features(df):\n",
    "    \n",
    "    fig, axs = plt.subplots(2, 2, figsize=(15, 10))\n",
    "    \n",
    "    fig.suptitle('The Most Advancing Countries 2000-2017', fontsize=16)\n",
    "    \n",
    "    for c in df.index:\n",
    "        axs[0][0].plot(df_iu['year'], df_iu[c].values)\n",
    "\n",
    "    axs[0][0].legend(df.index, title='Country', bbox_to_anchor=(-.35, 1), loc='upper left')\n",
    "    axs[0][0].set_title('Internet Users in the Country', fontsize=14)\n",
    "    axs[0][0].set_ylabel('% of People', fontsize=12)\n",
    "    axs[0][0].set_xticks(df_iu['year'].values)\n",
    "    axs[0][0].tick_params(labelrotation=45)\n",
    "        \n",
    "    for c in df.index:\n",
    "        axs[0][1].plot(df_hid['year'], df_hid[c].values)\n",
    "\n",
    "    axs[0][1].legend(df.index, title='Country', bbox_to_anchor=(1.05, 1), loc='upper left')\n",
    "    axs[0][1].set_title('Human Development Index in the Country', fontsize=14)\n",
    "    axs[0][1].set_ylabel('Index Score', fontsize=12)\n",
    "    axs[0][1].set_xticks(df_hid['year'].values)\n",
    "    axs[0][1].tick_params(labelrotation=45)\n",
    "    \n",
    "    for c in df.index:\n",
    "        axs[1][0].plot(df_owid['year'], df_owid[c].values)\n",
    "\n",
    "    axs[1][0].legend(df.index, title='Country', bbox_to_anchor=(-.35, 1), loc='upper left')\n",
    "    axs[1][0].set_title('Education Index in the Country', fontsize=14)\n",
    "    axs[1][0].set_xlabel('Years', fontsize=12)\n",
    "    axs[1][0].set_ylabel('Index Score', fontsize=12)\n",
    "    axs[1][0].set_xticks(df_owid['year'].values)\n",
    "    axs[1][0].tick_params(labelrotation=45)\n",
    "    \n",
    "    for c in df.index:\n",
    "        axs[1][1].plot(df_fertility['year'], df_fertility[c].values)\n",
    "        \n",
    "    axs[1][1].legend(df.index, title='Country', bbox_to_anchor=(1.05, 1), loc='upper left')\n",
    "    axs[1][1].set_title('Babies per Woman in the Country', fontsize=14)\n",
    "    axs[1][1].set_xlabel('Years', fontsize=12)\n",
    "    axs[1][1].set_ylabel('Number of Babies', fontsize=12)\n",
    "    axs[1][1].set_xticks(df_fertility['year'].values)\n",
    "    axs[1][1].tick_params(labelrotation=45)\n",
    "    \n",
    "    #fig.tight_layout()\n",
    "    plt.show()"
   ]
  },
  {
   "cell_type": "markdown",
   "metadata": {
    "hidden": true
   },
   "source": [
    "### What are the characteristics of the most advancing 10 countries 2000-2017 "
   ]
  },
  {
   "cell_type": "code",
   "execution_count": 65,
   "metadata": {
    "hidden": true
   },
   "outputs": [
    {
     "data": {
      "image/png": "[encoded data removed]",
      "text/plain": [
       "<Figure size 1080x720 with 4 Axes>"
      ]
     },
     "metadata": {},
     "output_type": "display_data"
    }
   ],
   "source": [
    "plot_features(most_advancing_10)"
   ]
  },
  {
   "cell_type": "markdown",
   "metadata": {
    "hidden": true
   },
   "source": [
    "###  Is the GDB affected by the education index in the country"
   ]
  },
  {
   "cell_type": "markdown",
   "metadata": {
    "hidden": true
   },
   "source": [
    "#### Does countries with higher education index have higher income?"
   ]
  },
  {
   "cell_type": "code",
   "execution_count": 166,
   "metadata": {
    "hidden": true
   },
   "outputs": [
    {
     "data": {
      "text/html": [
       "<div>\n",
       "<style scoped>\n",
       "    .dataframe tbody tr th:only-of-type {\n",
       "        vertical-align: middle;\n",
       "    }\n",
       "\n",
       "    .dataframe tbody tr th {\n",
       "        vertical-align: top;\n",
       "    }\n",
       "\n",
       "    .dataframe thead th {\n",
       "        text-align: right;\n",
       "    }\n",
       "</style>\n",
       "<table border=\"1\" class=\"dataframe\">\n",
       "  <thead>\n",
       "    <tr style=\"text-align: right;\">\n",
       "      <th></th>\n",
       "      <th>year</th>\n",
       "      <th>Germany</th>\n",
       "      <th>Switzerland</th>\n",
       "      <th>United States</th>\n",
       "      <th>Canada</th>\n",
       "      <th>Lithuania</th>\n",
       "      <th>Israel</th>\n",
       "      <th>Australia</th>\n",
       "      <th>United Kingdom</th>\n",
       "      <th>Latvia</th>\n",
       "      <th>...</th>\n",
       "      <th>Senegal</th>\n",
       "      <th>Guinea-Bissau</th>\n",
       "      <th>Burundi</th>\n",
       "      <th>Yemen</th>\n",
       "      <th>Ethiopia</th>\n",
       "      <th>Guinea</th>\n",
       "      <th>Chad</th>\n",
       "      <th>Mali</th>\n",
       "      <th>Niger</th>\n",
       "      <th>Burkina Faso</th>\n",
       "    </tr>\n",
       "  </thead>\n",
       "  <tbody>\n",
       "    <tr>\n",
       "      <th>148</th>\n",
       "      <td>2017</td>\n",
       "      <td>0.94</td>\n",
       "      <td>0.893</td>\n",
       "      <td>0.893</td>\n",
       "      <td>0.887</td>\n",
       "      <td>0.867</td>\n",
       "      <td>0.867</td>\n",
       "      <td>0.86</td>\n",
       "      <td>0.86</td>\n",
       "      <td>0.853</td>\n",
       "      <td>...</td>\n",
       "      <td>0.2</td>\n",
       "      <td>0.2</td>\n",
       "      <td>0.2</td>\n",
       "      <td>0.2</td>\n",
       "      <td>0.18</td>\n",
       "      <td>0.173</td>\n",
       "      <td>0.153</td>\n",
       "      <td>0.153</td>\n",
       "      <td>0.133</td>\n",
       "      <td>0.1</td>\n",
       "    </tr>\n",
       "  </tbody>\n",
       "</table>\n",
       "<p>1 rows × 178 columns</p>\n",
       "</div>"
      ],
      "text/plain": [
       "0    year  Germany  Switzerland  United States  Canada  Lithuania  Israel  \\\n",
       "148  2017     0.94        0.893          0.893   0.887      0.867   0.867   \n",
       "\n",
       "0    Australia  United Kingdom  Latvia  ...  Senegal  Guinea-Bissau  Burundi  \\\n",
       "148       0.86            0.86   0.853  ...      0.2            0.2      0.2   \n",
       "\n",
       "0    Yemen  Ethiopia  Guinea   Chad   Mali  Niger  Burkina Faso  \n",
       "148    0.2      0.18   0.173  0.153  0.153  0.133           0.1  \n",
       "\n",
       "[1 rows x 178 columns]"
      ]
     },
     "execution_count": 166,
     "metadata": {},
     "output_type": "execute_result"
    }
   ],
   "source": [
    "df_owid[df_owid['year'] == 2017].sort_values(by=148, axis=1, ascending=False)"
   ]
  },
  {
   "cell_type": "code",
   "execution_count": 157,
   "metadata": {
    "hidden": true
   },
   "outputs": [],
   "source": [
    "highest_education = ['Germany', 'United States', 'Switzerland', 'Canada', 'Lithuania']\n",
    "highest_education_scores = df_owid[df_owid['year'] == 2017][highest_education]"
   ]
  },
  {
   "cell_type": "code",
   "execution_count": 174,
   "metadata": {
    "hidden": true
   },
   "outputs": [
    {
     "data": {
      "text/html": [
       "<div>\n",
       "<style scoped>\n",
       "    .dataframe tbody tr th:only-of-type {\n",
       "        vertical-align: middle;\n",
       "    }\n",
       "\n",
       "    .dataframe tbody tr th {\n",
       "        vertical-align: top;\n",
       "    }\n",
       "\n",
       "    .dataframe thead th {\n",
       "        text-align: right;\n",
       "    }\n",
       "</style>\n",
       "<table border=\"1\" class=\"dataframe\">\n",
       "  <thead>\n",
       "    <tr style=\"text-align: right;\">\n",
       "      <th></th>\n",
       "      <th>Germany</th>\n",
       "      <th>United States</th>\n",
       "      <th>Switzerland</th>\n",
       "      <th>Canada</th>\n",
       "      <th>Lithuania</th>\n",
       "      <th>median</th>\n",
       "    </tr>\n",
       "  </thead>\n",
       "  <tbody>\n",
       "    <tr>\n",
       "      <th>148</th>\n",
       "      <td>0.94</td>\n",
       "      <td>0.893</td>\n",
       "      <td>0.893</td>\n",
       "      <td>0.887</td>\n",
       "      <td>0.867</td>\n",
       "      <td>0.587</td>\n",
       "    </tr>\n",
       "  </tbody>\n",
       "</table>\n",
       "</div>"
      ],
      "text/plain": [
       "0    Germany  United States  Switzerland  Canada  Lithuania  median\n",
       "148     0.94          0.893        0.893   0.887      0.867   0.587"
      ]
     },
     "execution_count": 174,
     "metadata": {},
     "output_type": "execute_result"
    }
   ],
   "source": [
    "# adding the median to the dataframe\n",
    "highest_education_scores['median'] = df_owid[df_owid['year'] == 2017].drop('year', axis=1).median(axis=1)\n",
    "highest_education_scores"
   ]
  },
  {
   "cell_type": "code",
   "execution_count": 175,
   "metadata": {
    "hidden": true
   },
   "outputs": [
    {
     "data": {
      "text/plain": [
       "<matplotlib.axes._subplots.AxesSubplot at 0x7f1a82a73e50>"
      ]
     },
     "execution_count": 175,
     "metadata": {},
     "output_type": "execute_result"
    },
    {
     "data": {
      "image/png": "[encoded data removed]",
      "text/plain": [
       "<Figure size 432x288 with 1 Axes>"
      ]
     },
     "metadata": {},
     "output_type": "display_data"
    }
   ],
   "source": [
    "highest_education_scores.plot(kind='bar')"
   ]
  },
  {
   "cell_type": "code",
   "execution_count": 160,
   "metadata": {
    "hidden": true
   },
   "outputs": [],
   "source": [
    "highest_education_income_scores = df_income[df_income['year'] == 2017][highest_education]"
   ]
  },
  {
   "cell_type": "code",
   "execution_count": 172,
   "metadata": {
    "hidden": true,
    "scrolled": true
   },
   "outputs": [],
   "source": [
    "highest_education_income_scores['median'] = df_income[df_income['year'] == 2017].drop('year', axis=1).median(axis=1)"
   ]
  },
  {
   "cell_type": "code",
   "execution_count": 173,
   "metadata": {
    "hidden": true
   },
   "outputs": [
    {
     "data": {
      "text/plain": [
       "<matplotlib.axes._subplots.AxesSubplot at 0x7f1a82dff410>"
      ]
     },
     "execution_count": 173,
     "metadata": {},
     "output_type": "execute_result"
    },
    {
     "data": {
      "image/png": "[encoded data removed]",
      "text/plain": [
       "<Figure size 432x288 with 1 Axes>"
      ]
     },
     "metadata": {},
     "output_type": "display_data"
    }
   ],
   "source": [
    "highest_education_income_scores.plot(kind='bar')"
   ]
  },
  {
   "cell_type": "markdown",
   "metadata": {
    "hidden": true
   },
   "source": [
    "#### Does countries with higher income index have higher education index?"
   ]
  },
  {
   "cell_type": "code",
   "execution_count": 167,
   "metadata": {
    "hidden": true
   },
   "outputs": [
    {
     "data": {
      "text/html": [
       "<div>\n",
       "<style scoped>\n",
       "    .dataframe tbody tr th:only-of-type {\n",
       "        vertical-align: middle;\n",
       "    }\n",
       "\n",
       "    .dataframe tbody tr th {\n",
       "        vertical-align: top;\n",
       "    }\n",
       "\n",
       "    .dataframe thead th {\n",
       "        text-align: right;\n",
       "    }\n",
       "</style>\n",
       "<table border=\"1\" class=\"dataframe\">\n",
       "  <thead>\n",
       "    <tr style=\"text-align: right;\">\n",
       "      <th></th>\n",
       "      <th>Qatar</th>\n",
       "      <th>Luxembourg</th>\n",
       "      <th>Singapore</th>\n",
       "      <th>Brunei</th>\n",
       "      <th>United Arab Emirates</th>\n",
       "      <th>Ireland</th>\n",
       "      <th>Kuwait</th>\n",
       "      <th>Norway</th>\n",
       "      <th>Switzerland</th>\n",
       "      <th>United States</th>\n",
       "      <th>...</th>\n",
       "      <th>Madagascar</th>\n",
       "      <th>Sierra Leone</th>\n",
       "      <th>Eritrea</th>\n",
       "      <th>Liberia</th>\n",
       "      <th>Mozambique</th>\n",
       "      <th>Malawi</th>\n",
       "      <th>Niger</th>\n",
       "      <th>Congo, Dem. Rep.</th>\n",
       "      <th>Central African Republic</th>\n",
       "      <th>Burundi</th>\n",
       "    </tr>\n",
       "  </thead>\n",
       "  <tbody>\n",
       "    <tr>\n",
       "      <th>218</th>\n",
       "      <td>113000</td>\n",
       "      <td>93100</td>\n",
       "      <td>87800</td>\n",
       "      <td>72500</td>\n",
       "      <td>66700</td>\n",
       "      <td>66600</td>\n",
       "      <td>66000</td>\n",
       "      <td>65000</td>\n",
       "      <td>58000</td>\n",
       "      <td>54500</td>\n",
       "      <td>...</td>\n",
       "      <td>1420</td>\n",
       "      <td>1400</td>\n",
       "      <td>1250</td>\n",
       "      <td>1180</td>\n",
       "      <td>1180</td>\n",
       "      <td>1150</td>\n",
       "      <td>921</td>\n",
       "      <td>808</td>\n",
       "      <td>754</td>\n",
       "      <td>671</td>\n",
       "    </tr>\n",
       "  </tbody>\n",
       "</table>\n",
       "<p>1 rows × 178 columns</p>\n",
       "</div>"
      ],
      "text/plain": [
       "0     Qatar  Luxembourg  Singapore  Brunei  United Arab Emirates  Ireland  \\\n",
       "218  113000       93100      87800   72500                 66700    66600   \n",
       "\n",
       "0    Kuwait  Norway  Switzerland  United States  ...  Madagascar  \\\n",
       "218   66000   65000        58000          54500  ...        1420   \n",
       "\n",
       "0    Sierra Leone  Eritrea  Liberia  Mozambique  Malawi  Niger  \\\n",
       "218          1400     1250     1180        1180    1150    921   \n",
       "\n",
       "0    Congo, Dem. Rep.  Central African Republic  Burundi  \n",
       "218               808                       754      671  \n",
       "\n",
       "[1 rows x 178 columns]"
      ]
     },
     "execution_count": 167,
     "metadata": {},
     "output_type": "execute_result"
    }
   ],
   "source": [
    "df_income[df_income['year'] == 2017].sort_values(by=218, axis=1, ascending=False)"
   ]
  },
  {
   "cell_type": "code",
   "execution_count": 168,
   "metadata": {
    "hidden": true
   },
   "outputs": [
    {
     "data": {
      "text/html": [
       "<div>\n",
       "<style scoped>\n",
       "    .dataframe tbody tr th:only-of-type {\n",
       "        vertical-align: middle;\n",
       "    }\n",
       "\n",
       "    .dataframe tbody tr th {\n",
       "        vertical-align: top;\n",
       "    }\n",
       "\n",
       "    .dataframe thead th {\n",
       "        text-align: right;\n",
       "    }\n",
       "</style>\n",
       "<table border=\"1\" class=\"dataframe\">\n",
       "  <thead>\n",
       "    <tr style=\"text-align: right;\">\n",
       "      <th></th>\n",
       "      <th>Qatar</th>\n",
       "      <th>Luxembourg</th>\n",
       "      <th>Singapore</th>\n",
       "      <th>Brunei</th>\n",
       "      <th>United Arab Emirates</th>\n",
       "    </tr>\n",
       "  </thead>\n",
       "  <tbody>\n",
       "    <tr>\n",
       "      <th>218</th>\n",
       "      <td>113000</td>\n",
       "      <td>93100</td>\n",
       "      <td>87800</td>\n",
       "      <td>72500</td>\n",
       "      <td>66700</td>\n",
       "    </tr>\n",
       "  </tbody>\n",
       "</table>\n",
       "</div>"
      ],
      "text/plain": [
       "0     Qatar  Luxembourg  Singapore  Brunei  United Arab Emirates\n",
       "218  113000       93100      87800   72500                 66700"
      ]
     },
     "execution_count": 168,
     "metadata": {},
     "output_type": "execute_result"
    }
   ],
   "source": [
    "highest_income = ['Qatar', 'Luxembourg', 'Singapore', 'Brunei', 'United Arab Emirates']\n",
    "highest_income_scores = df_income[df_income['year'] == 2017][highest_income]\n",
    "highest_income_scores"
   ]
  },
  {
   "cell_type": "code",
   "execution_count": 179,
   "metadata": {
    "hidden": true
   },
   "outputs": [],
   "source": [
    "highest_income_scores['median'] = df_income[df_income['year'] == 2017].drop('year', axis=1).median(axis=1)"
   ]
  },
  {
   "cell_type": "code",
   "execution_count": 185,
   "metadata": {
    "hidden": true
   },
   "outputs": [
    {
     "data": {
      "text/plain": [
       "<matplotlib.axes._subplots.AxesSubplot at 0x7f1a8236f310>"
      ]
     },
     "execution_count": 185,
     "metadata": {},
     "output_type": "execute_result"
    },
    {
     "data": {
      "image/png": "[encoded data removed]",
      "text/plain": [
       "<Figure size 432x288 with 1 Axes>"
      ]
     },
     "metadata": {},
     "output_type": "display_data"
    }
   ],
   "source": [
    "highest_income_scores.plot(kind='bar')"
   ]
  },
  {
   "cell_type": "code",
   "execution_count": 184,
   "metadata": {
    "hidden": true
   },
   "outputs": [
    {
     "data": {
      "text/html": [
       "<div>\n",
       "<style scoped>\n",
       "    .dataframe tbody tr th:only-of-type {\n",
       "        vertical-align: middle;\n",
       "    }\n",
       "\n",
       "    .dataframe tbody tr th {\n",
       "        vertical-align: top;\n",
       "    }\n",
       "\n",
       "    .dataframe thead th {\n",
       "        text-align: right;\n",
       "    }\n",
       "</style>\n",
       "<table border=\"1\" class=\"dataframe\">\n",
       "  <thead>\n",
       "    <tr style=\"text-align: right;\">\n",
       "      <th></th>\n",
       "      <th>Qatar</th>\n",
       "      <th>Luxembourg</th>\n",
       "      <th>Singapore</th>\n",
       "      <th>Brunei</th>\n",
       "      <th>United Arab Emirates</th>\n",
       "      <th>median</th>\n",
       "    </tr>\n",
       "  </thead>\n",
       "  <tbody>\n",
       "    <tr>\n",
       "      <th>148</th>\n",
       "      <td>0.653</td>\n",
       "      <td>0.807</td>\n",
       "      <td>0.767</td>\n",
       "      <td>0.607</td>\n",
       "      <td>0.72</td>\n",
       "      <td>0.587</td>\n",
       "    </tr>\n",
       "  </tbody>\n",
       "</table>\n",
       "</div>"
      ],
      "text/plain": [
       "0    Qatar  Luxembourg  Singapore  Brunei  United Arab Emirates  median\n",
       "148  0.653       0.807      0.767   0.607                  0.72   0.587"
      ]
     },
     "execution_count": 184,
     "metadata": {},
     "output_type": "execute_result"
    }
   ],
   "source": [
    "highest_income_edu_scores = df_owid[df_owid['year'] == 2017][highest_income]\n",
    "highest_income_edu_scores['median'] = df_owid[df_owid['year'] == 2017].drop('year', axis=1).median(axis=1)\n",
    "highest_income_edu_scores"
   ]
  },
  {
   "cell_type": "code",
   "execution_count": 186,
   "metadata": {
    "hidden": true
   },
   "outputs": [
    {
     "data": {
      "text/plain": [
       "<matplotlib.axes._subplots.AxesSubplot at 0x7f1a82261690>"
      ]
     },
     "execution_count": 186,
     "metadata": {},
     "output_type": "execute_result"
    },
    {
     "data": {
      "image/png": "[encoded data removed]",
      "text/plain": [
       "<Figure size 432x288 with 1 Axes>"
      ]
     },
     "metadata": {},
     "output_type": "display_data"
    }
   ],
   "source": [
    "highest_income_edu_scores.plot(kind='bar')"
   ]
  },
  {
   "cell_type": "markdown",
   "metadata": {
    "hidden": true
   },
   "source": [
    "#### What are the reasons !!!!"
   ]
  },
  {
   "cell_type": "markdown",
   "metadata": {
    "heading_collapsed": true
   },
   "source": [
    "## Conclusions <a id='conclusions'></a>\n",
    "\n",
    "> **Tip**: Finally, summarize your findings and the results that have been performed. Make sure that you are clear with regards to the limitations of your exploration. If you haven't done any statistical tests, do not imply any statistical conclusions. And make sure you avoid implying causation from correlation!\n",
    "\n",
    "> **Tip**: Once you are satisfied with your work, you should save a copy of the report in HTML or PDF form via the **File** > **Download as** submenu. Before exporting your report, check over it to make sure that the flow of the report is complete. You should probably remove all of the \"Tip\" quotes like this one so that the presentation is as tidy as possible. Congratulations!"
   ]
  },
  {
   "cell_type": "code",
   "execution_count": null,
   "metadata": {
    "hidden": true
   },
   "outputs": [],
   "source": []
  }
 ],
 "metadata": {
  "kernelspec": {
   "display_name": "Python 3",
   "language": "python",
   "name": "python3"
  },
  "language_info": {
   "codemirror_mode": {
    "name": "ipython",
    "version": 3
   },
   "file_extension": ".py",
   "mimetype": "text/x-python",
   "name": "python",
   "nbconvert_exporter": "python",
   "pygments_lexer": "ipython3",
   "version": "3.7.6"
  }
 },
 "nbformat": 4,
 "nbformat_minor": 2
}
