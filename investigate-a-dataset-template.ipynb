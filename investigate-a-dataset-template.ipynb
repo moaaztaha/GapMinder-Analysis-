{
 "cells": [
  {
   "cell_type": "markdown",
   "metadata": {},
   "source": [
    "# Project: Investigate a Dataset (GDP Per Capita in Different Regions !)\n",
    "\n",
    "## Table of Contents\n",
    "<ul>\n",
    "<li><a href=\"#intro\">Introduction</a></li>\n",
    "<li><a href=\"#wrangling\">Data Wrangling</a></li>\n",
    "<li><a href=\"#eda\">Exploratory Data Analysis</a></li>\n",
    "<li><a href=\"#conclusions\">Conclusions</a></li>\n",
    "</ul>"
   ]
  },
  {
   "cell_type": "markdown",
   "metadata": {},
   "source": [
    "<a id='intro'></a>\n",
    "## Introduction\n",
    "\n",
    "> **Tip**: In this section of the report, provide a brief introduction to the dataset you've selected for analysis. At the end of this section, describe the questions that you plan on exploring over the course of the report. Try to build your report around the analysis of at least one dependent variable and three independent variables.\n",
    ">\n",
    "> If you haven't yet selected and downloaded your data, make sure you do that first before coming back here. If you're not sure what questions to ask right now, then make sure you familiarize yourself with the variables and the dataset context for ideas of what to explore."
   ]
  },
  {
   "cell_type": "code",
   "execution_count": 1,
   "metadata": {},
   "outputs": [],
   "source": [
    "import pandas as pd\n",
    "import numpy as np\n",
    "import matplotlib.pyplot as plt\n",
    "%matplotlib inline"
   ]
  },
  {
   "cell_type": "code",
   "execution_count": 2,
   "metadata": {},
   "outputs": [],
   "source": [
    "def read_csv(csv=None):\n",
    "    # getting the dataset and transposing it\n",
    "    df = pd.read_csv(f'data/{csv}', index_col=0, header=None).T\n",
    "    # fixing the columns naming after transposing\n",
    "    df.rename(columns={'country': 'year'}, inplace=True)\n",
    "    # Making sure that the year column is in int format\n",
    "    df['year'] = df['year'].astype(int)\n",
    "    print(f\"Starting Year: {df['year'].min()} | Ending Year: {df['year'].max()}\")\n",
    "    return df"
   ]
  },
  {
   "cell_type": "markdown",
   "metadata": {},
   "source": [
    "<a id='wrangling'></a>\n",
    "## Data Wrangling\n",
    "\n",
    "> **Tip**: In this section of the report, you will load in the data, check for cleanliness, and then trim and clean your dataset for analysis. Make sure that you document your steps carefully and justify your cleaning decisions.\n",
    "\n",
    "### General Properties"
   ]
  },
  {
   "cell_type": "markdown",
   "metadata": {},
   "source": [
    "#### GDP Per Capita Dataset "
   ]
  },
  {
   "cell_type": "code",
   "execution_count": 3,
   "metadata": {},
   "outputs": [
    {
     "name": "stdout",
     "output_type": "stream",
     "text": [
      "Starting Year: 1800 | Ending Year: 2040\n"
     ]
    },
    {
     "data": {
      "text/html": [
       "<div>\n",
       "<style scoped>\n",
       "    .dataframe tbody tr th:only-of-type {\n",
       "        vertical-align: middle;\n",
       "    }\n",
       "\n",
       "    .dataframe tbody tr th {\n",
       "        vertical-align: top;\n",
       "    }\n",
       "\n",
       "    .dataframe thead th {\n",
       "        text-align: right;\n",
       "    }\n",
       "</style>\n",
       "<table border=\"1\" class=\"dataframe\">\n",
       "  <thead>\n",
       "    <tr style=\"text-align: right;\">\n",
       "      <th></th>\n",
       "      <th>year</th>\n",
       "      <th>Afghanistan</th>\n",
       "      <th>Albania</th>\n",
       "      <th>Algeria</th>\n",
       "      <th>Andorra</th>\n",
       "      <th>Angola</th>\n",
       "      <th>Antigua and Barbuda</th>\n",
       "      <th>Argentina</th>\n",
       "      <th>Armenia</th>\n",
       "      <th>Australia</th>\n",
       "      <th>...</th>\n",
       "      <th>United Kingdom</th>\n",
       "      <th>United States</th>\n",
       "      <th>Uruguay</th>\n",
       "      <th>Uzbekistan</th>\n",
       "      <th>Vanuatu</th>\n",
       "      <th>Venezuela</th>\n",
       "      <th>Vietnam</th>\n",
       "      <th>Yemen</th>\n",
       "      <th>Zambia</th>\n",
       "      <th>Zimbabwe</th>\n",
       "    </tr>\n",
       "  </thead>\n",
       "  <tbody>\n",
       "    <tr>\n",
       "      <th>1</th>\n",
       "      <td>1800</td>\n",
       "      <td>603</td>\n",
       "      <td>667</td>\n",
       "      <td>715</td>\n",
       "      <td>1200</td>\n",
       "      <td>618</td>\n",
       "      <td>757</td>\n",
       "      <td>1640</td>\n",
       "      <td>514</td>\n",
       "      <td>817</td>\n",
       "      <td>...</td>\n",
       "      <td>3280</td>\n",
       "      <td>1980</td>\n",
       "      <td>1810</td>\n",
       "      <td>502</td>\n",
       "      <td>585</td>\n",
       "      <td>1210</td>\n",
       "      <td>778</td>\n",
       "      <td>877</td>\n",
       "      <td>663</td>\n",
       "      <td>869</td>\n",
       "    </tr>\n",
       "    <tr>\n",
       "      <th>2</th>\n",
       "      <td>1801</td>\n",
       "      <td>603</td>\n",
       "      <td>667</td>\n",
       "      <td>716</td>\n",
       "      <td>1200</td>\n",
       "      <td>620</td>\n",
       "      <td>757</td>\n",
       "      <td>1640</td>\n",
       "      <td>514</td>\n",
       "      <td>822</td>\n",
       "      <td>...</td>\n",
       "      <td>3290</td>\n",
       "      <td>2020</td>\n",
       "      <td>1810</td>\n",
       "      <td>502</td>\n",
       "      <td>586</td>\n",
       "      <td>1200</td>\n",
       "      <td>778</td>\n",
       "      <td>879</td>\n",
       "      <td>665</td>\n",
       "      <td>870</td>\n",
       "    </tr>\n",
       "    <tr>\n",
       "      <th>3</th>\n",
       "      <td>1802</td>\n",
       "      <td>603</td>\n",
       "      <td>667</td>\n",
       "      <td>717</td>\n",
       "      <td>1200</td>\n",
       "      <td>623</td>\n",
       "      <td>757</td>\n",
       "      <td>1650</td>\n",
       "      <td>514</td>\n",
       "      <td>826</td>\n",
       "      <td>...</td>\n",
       "      <td>3300</td>\n",
       "      <td>2050</td>\n",
       "      <td>1820</td>\n",
       "      <td>502</td>\n",
       "      <td>586</td>\n",
       "      <td>1200</td>\n",
       "      <td>778</td>\n",
       "      <td>882</td>\n",
       "      <td>667</td>\n",
       "      <td>871</td>\n",
       "    </tr>\n",
       "    <tr>\n",
       "      <th>4</th>\n",
       "      <td>1803</td>\n",
       "      <td>603</td>\n",
       "      <td>667</td>\n",
       "      <td>718</td>\n",
       "      <td>1200</td>\n",
       "      <td>626</td>\n",
       "      <td>757</td>\n",
       "      <td>1650</td>\n",
       "      <td>514</td>\n",
       "      <td>831</td>\n",
       "      <td>...</td>\n",
       "      <td>3190</td>\n",
       "      <td>2020</td>\n",
       "      <td>1830</td>\n",
       "      <td>502</td>\n",
       "      <td>586</td>\n",
       "      <td>1190</td>\n",
       "      <td>778</td>\n",
       "      <td>884</td>\n",
       "      <td>668</td>\n",
       "      <td>872</td>\n",
       "    </tr>\n",
       "    <tr>\n",
       "      <th>5</th>\n",
       "      <td>1804</td>\n",
       "      <td>603</td>\n",
       "      <td>667</td>\n",
       "      <td>719</td>\n",
       "      <td>1210</td>\n",
       "      <td>628</td>\n",
       "      <td>757</td>\n",
       "      <td>1660</td>\n",
       "      <td>514</td>\n",
       "      <td>836</td>\n",
       "      <td>...</td>\n",
       "      <td>3140</td>\n",
       "      <td>2010</td>\n",
       "      <td>1840</td>\n",
       "      <td>503</td>\n",
       "      <td>586</td>\n",
       "      <td>1190</td>\n",
       "      <td>778</td>\n",
       "      <td>887</td>\n",
       "      <td>670</td>\n",
       "      <td>873</td>\n",
       "    </tr>\n",
       "  </tbody>\n",
       "</table>\n",
       "<p>5 rows × 194 columns</p>\n",
       "</div>"
      ],
      "text/plain": [
       "0  year  Afghanistan  Albania  Algeria  Andorra  Angola  Antigua and Barbuda  \\\n",
       "1  1800          603      667      715     1200     618                  757   \n",
       "2  1801          603      667      716     1200     620                  757   \n",
       "3  1802          603      667      717     1200     623                  757   \n",
       "4  1803          603      667      718     1200     626                  757   \n",
       "5  1804          603      667      719     1210     628                  757   \n",
       "\n",
       "0  Argentina  Armenia  Australia  ...  United Kingdom  United States  Uruguay  \\\n",
       "1       1640      514        817  ...            3280           1980     1810   \n",
       "2       1640      514        822  ...            3290           2020     1810   \n",
       "3       1650      514        826  ...            3300           2050     1820   \n",
       "4       1650      514        831  ...            3190           2020     1830   \n",
       "5       1660      514        836  ...            3140           2010     1840   \n",
       "\n",
       "0  Uzbekistan  Vanuatu  Venezuela  Vietnam  Yemen  Zambia  Zimbabwe  \n",
       "1         502      585       1210      778    877     663       869  \n",
       "2         502      586       1200      778    879     665       870  \n",
       "3         502      586       1200      778    882     667       871  \n",
       "4         502      586       1190      778    884     668       872  \n",
       "5         503      586       1190      778    887     670       873  \n",
       "\n",
       "[5 rows x 194 columns]"
      ]
     },
     "execution_count": 3,
     "metadata": {},
     "output_type": "execute_result"
    }
   ],
   "source": [
    "df_income = read_csv('income_per_person_gdppercapita_ppp_inflation_adjusted.csv')\n",
    "df_income.head()"
   ]
  },
  {
   "cell_type": "code",
   "execution_count": 4,
   "metadata": {},
   "outputs": [
    {
     "name": "stdout",
     "output_type": "stream",
     "text": [
      "<class 'pandas.core.frame.DataFrame'>\n",
      "Int64Index: 241 entries, 1 to 241\n",
      "Columns: 194 entries, year to Zimbabwe\n",
      "dtypes: int64(194)\n",
      "memory usage: 367.1 KB\n"
     ]
    }
   ],
   "source": [
    "df_income.info()"
   ]
  },
  {
   "cell_type": "code",
   "execution_count": 5,
   "metadata": {},
   "outputs": [
    {
     "data": {
      "text/html": [
       "<div>\n",
       "<style scoped>\n",
       "    .dataframe tbody tr th:only-of-type {\n",
       "        vertical-align: middle;\n",
       "    }\n",
       "\n",
       "    .dataframe tbody tr th {\n",
       "        vertical-align: top;\n",
       "    }\n",
       "\n",
       "    .dataframe thead th {\n",
       "        text-align: right;\n",
       "    }\n",
       "</style>\n",
       "<table border=\"1\" class=\"dataframe\">\n",
       "  <thead>\n",
       "    <tr style=\"text-align: right;\">\n",
       "      <th></th>\n",
       "      <th>year</th>\n",
       "      <th>Afghanistan</th>\n",
       "      <th>Albania</th>\n",
       "      <th>Algeria</th>\n",
       "      <th>Andorra</th>\n",
       "      <th>Angola</th>\n",
       "      <th>Antigua and Barbuda</th>\n",
       "      <th>Argentina</th>\n",
       "      <th>Armenia</th>\n",
       "      <th>Australia</th>\n",
       "      <th>...</th>\n",
       "      <th>United Kingdom</th>\n",
       "      <th>United States</th>\n",
       "      <th>Uruguay</th>\n",
       "      <th>Uzbekistan</th>\n",
       "      <th>Vanuatu</th>\n",
       "      <th>Venezuela</th>\n",
       "      <th>Vietnam</th>\n",
       "      <th>Yemen</th>\n",
       "      <th>Zambia</th>\n",
       "      <th>Zimbabwe</th>\n",
       "    </tr>\n",
       "  </thead>\n",
       "  <tbody>\n",
       "    <tr>\n",
       "      <th>215</th>\n",
       "      <td>2014</td>\n",
       "      <td>1800</td>\n",
       "      <td>10700</td>\n",
       "      <td>13500</td>\n",
       "      <td>44900</td>\n",
       "      <td>6810</td>\n",
       "      <td>20800</td>\n",
       "      <td>18900</td>\n",
       "      <td>7950</td>\n",
       "      <td>43700</td>\n",
       "      <td>...</td>\n",
       "      <td>38400</td>\n",
       "      <td>52100</td>\n",
       "      <td>19900</td>\n",
       "      <td>5340</td>\n",
       "      <td>2840</td>\n",
       "      <td>17100</td>\n",
       "      <td>5310</td>\n",
       "      <td>3830</td>\n",
       "      <td>3690</td>\n",
       "      <td>2510</td>\n",
       "    </tr>\n",
       "    <tr>\n",
       "      <th>216</th>\n",
       "      <td>2015</td>\n",
       "      <td>1770</td>\n",
       "      <td>11000</td>\n",
       "      <td>13800</td>\n",
       "      <td>46600</td>\n",
       "      <td>6650</td>\n",
       "      <td>21400</td>\n",
       "      <td>19200</td>\n",
       "      <td>8170</td>\n",
       "      <td>44100</td>\n",
       "      <td>...</td>\n",
       "      <td>39000</td>\n",
       "      <td>53200</td>\n",
       "      <td>19900</td>\n",
       "      <td>5640</td>\n",
       "      <td>2740</td>\n",
       "      <td>15600</td>\n",
       "      <td>5610</td>\n",
       "      <td>3110</td>\n",
       "      <td>3680</td>\n",
       "      <td>2510</td>\n",
       "    </tr>\n",
       "    <tr>\n",
       "      <th>217</th>\n",
       "      <td>2016</td>\n",
       "      <td>1760</td>\n",
       "      <td>11400</td>\n",
       "      <td>13900</td>\n",
       "      <td>48200</td>\n",
       "      <td>6260</td>\n",
       "      <td>22400</td>\n",
       "      <td>18600</td>\n",
       "      <td>8160</td>\n",
       "      <td>44600</td>\n",
       "      <td>...</td>\n",
       "      <td>39400</td>\n",
       "      <td>53600</td>\n",
       "      <td>20200</td>\n",
       "      <td>5880</td>\n",
       "      <td>2780</td>\n",
       "      <td>15200</td>\n",
       "      <td>5900</td>\n",
       "      <td>2620</td>\n",
       "      <td>3700</td>\n",
       "      <td>2490</td>\n",
       "    </tr>\n",
       "    <tr>\n",
       "      <th>218</th>\n",
       "      <td>2017</td>\n",
       "      <td>1760</td>\n",
       "      <td>11800</td>\n",
       "      <td>13900</td>\n",
       "      <td>49800</td>\n",
       "      <td>6050</td>\n",
       "      <td>22900</td>\n",
       "      <td>18900</td>\n",
       "      <td>8750</td>\n",
       "      <td>44900</td>\n",
       "      <td>...</td>\n",
       "      <td>39900</td>\n",
       "      <td>54500</td>\n",
       "      <td>20700</td>\n",
       "      <td>6040</td>\n",
       "      <td>2830</td>\n",
       "      <td>14500</td>\n",
       "      <td>6230</td>\n",
       "      <td>2400</td>\n",
       "      <td>3720</td>\n",
       "      <td>2570</td>\n",
       "    </tr>\n",
       "    <tr>\n",
       "      <th>219</th>\n",
       "      <td>2018</td>\n",
       "      <td>1740</td>\n",
       "      <td>12300</td>\n",
       "      <td>13900</td>\n",
       "      <td>51500</td>\n",
       "      <td>5730</td>\n",
       "      <td>23800</td>\n",
       "      <td>18300</td>\n",
       "      <td>9180</td>\n",
       "      <td>45400</td>\n",
       "      <td>...</td>\n",
       "      <td>40200</td>\n",
       "      <td>55700</td>\n",
       "      <td>20900</td>\n",
       "      <td>6240</td>\n",
       "      <td>2850</td>\n",
       "      <td>12500</td>\n",
       "      <td>6610</td>\n",
       "      <td>2360</td>\n",
       "      <td>3740</td>\n",
       "      <td>2620</td>\n",
       "    </tr>\n",
       "  </tbody>\n",
       "</table>\n",
       "<p>5 rows × 194 columns</p>\n",
       "</div>"
      ],
      "text/plain": [
       "0    year  Afghanistan  Albania  Algeria  Andorra  Angola  \\\n",
       "215  2014         1800    10700    13500    44900    6810   \n",
       "216  2015         1770    11000    13800    46600    6650   \n",
       "217  2016         1760    11400    13900    48200    6260   \n",
       "218  2017         1760    11800    13900    49800    6050   \n",
       "219  2018         1740    12300    13900    51500    5730   \n",
       "\n",
       "0    Antigua and Barbuda  Argentina  Armenia  Australia  ...  United Kingdom  \\\n",
       "215                20800      18900     7950      43700  ...           38400   \n",
       "216                21400      19200     8170      44100  ...           39000   \n",
       "217                22400      18600     8160      44600  ...           39400   \n",
       "218                22900      18900     8750      44900  ...           39900   \n",
       "219                23800      18300     9180      45400  ...           40200   \n",
       "\n",
       "0    United States  Uruguay  Uzbekistan  Vanuatu  Venezuela  Vietnam  Yemen  \\\n",
       "215          52100    19900        5340     2840      17100     5310   3830   \n",
       "216          53200    19900        5640     2740      15600     5610   3110   \n",
       "217          53600    20200        5880     2780      15200     5900   2620   \n",
       "218          54500    20700        6040     2830      14500     6230   2400   \n",
       "219          55700    20900        6240     2850      12500     6610   2360   \n",
       "\n",
       "0    Zambia  Zimbabwe  \n",
       "215    3690      2510  \n",
       "216    3680      2510  \n",
       "217    3700      2490  \n",
       "218    3720      2570  \n",
       "219    3740      2620  \n",
       "\n",
       "[5 rows x 194 columns]"
      ]
     },
     "execution_count": 5,
     "metadata": {},
     "output_type": "execute_result"
    }
   ],
   "source": [
    "# the dataset ends at 2018\n",
    "df_income = df_income[df_income['year'] <= 2018]\n",
    "df_income.tail()"
   ]
  },
  {
   "cell_type": "code",
   "execution_count": 6,
   "metadata": {},
   "outputs": [
    {
     "data": {
      "text/plain": [
       "0"
      ]
     },
     "execution_count": 6,
     "metadata": {},
     "output_type": "execute_result"
    }
   ],
   "source": [
    "# missing values\n",
    "df_income.isna().sum().sum()"
   ]
  },
  {
   "cell_type": "code",
   "execution_count": 7,
   "metadata": {},
   "outputs": [
    {
     "data": {
      "text/plain": [
       "0"
      ]
     },
     "execution_count": 7,
     "metadata": {},
     "output_type": "execute_result"
    }
   ],
   "source": [
    "df_income.duplicated().sum()"
   ]
  },
  {
   "cell_type": "markdown",
   "metadata": {},
   "source": [
    "#### OWID Education Index"
   ]
  },
  {
   "cell_type": "code",
   "execution_count": 8,
   "metadata": {},
   "outputs": [
    {
     "name": "stdout",
     "output_type": "stream",
     "text": [
      "Starting Year: 1870 | Ending Year: 2017\n"
     ]
    },
    {
     "data": {
      "text/html": [
       "<div>\n",
       "<style scoped>\n",
       "    .dataframe tbody tr th:only-of-type {\n",
       "        vertical-align: middle;\n",
       "    }\n",
       "\n",
       "    .dataframe tbody tr th {\n",
       "        vertical-align: top;\n",
       "    }\n",
       "\n",
       "    .dataframe thead th {\n",
       "        text-align: right;\n",
       "    }\n",
       "</style>\n",
       "<table border=\"1\" class=\"dataframe\">\n",
       "  <thead>\n",
       "    <tr style=\"text-align: right;\">\n",
       "      <th></th>\n",
       "      <th>year</th>\n",
       "      <th>Afghanistan</th>\n",
       "      <th>Albania</th>\n",
       "      <th>Algeria</th>\n",
       "      <th>Andorra</th>\n",
       "      <th>Angola</th>\n",
       "      <th>Antigua and Barbuda</th>\n",
       "      <th>Argentina</th>\n",
       "      <th>Armenia</th>\n",
       "      <th>Australia</th>\n",
       "      <th>...</th>\n",
       "      <th>United Kingdom</th>\n",
       "      <th>United States</th>\n",
       "      <th>Uruguay</th>\n",
       "      <th>Uzbekistan</th>\n",
       "      <th>Vanuatu</th>\n",
       "      <th>Venezuela</th>\n",
       "      <th>Vietnam</th>\n",
       "      <th>Yemen</th>\n",
       "      <th>Zambia</th>\n",
       "      <th>Zimbabwe</th>\n",
       "    </tr>\n",
       "  </thead>\n",
       "  <tbody>\n",
       "    <tr>\n",
       "      <th>144</th>\n",
       "      <td>2013</td>\n",
       "      <td>0.233</td>\n",
       "      <td>0.647</td>\n",
       "      <td>0.520</td>\n",
       "      <td>0.68</td>\n",
       "      <td>0.327</td>\n",
       "      <td>0.613</td>\n",
       "      <td>0.653</td>\n",
       "      <td>0.760</td>\n",
       "      <td>0.840</td>\n",
       "      <td>...</td>\n",
       "      <td>0.840</td>\n",
       "      <td>0.880</td>\n",
       "      <td>0.567</td>\n",
       "      <td>0.753</td>\n",
       "      <td>0.453</td>\n",
       "      <td>0.660</td>\n",
       "      <td>0.527</td>\n",
       "      <td>0.2</td>\n",
       "      <td>0.453</td>\n",
       "      <td>0.533</td>\n",
       "    </tr>\n",
       "    <tr>\n",
       "      <th>145</th>\n",
       "      <td>2014</td>\n",
       "      <td>0.233</td>\n",
       "      <td>0.647</td>\n",
       "      <td>0.527</td>\n",
       "      <td>0.68</td>\n",
       "      <td>0.327</td>\n",
       "      <td>0.613</td>\n",
       "      <td>0.653</td>\n",
       "      <td>0.767</td>\n",
       "      <td>0.847</td>\n",
       "      <td>...</td>\n",
       "      <td>0.847</td>\n",
       "      <td>0.887</td>\n",
       "      <td>0.573</td>\n",
       "      <td>0.753</td>\n",
       "      <td>0.453</td>\n",
       "      <td>0.667</td>\n",
       "      <td>0.520</td>\n",
       "      <td>0.2</td>\n",
       "      <td>0.460</td>\n",
       "      <td>0.547</td>\n",
       "    </tr>\n",
       "    <tr>\n",
       "      <th>146</th>\n",
       "      <td>2015</td>\n",
       "      <td>0.240</td>\n",
       "      <td>0.647</td>\n",
       "      <td>0.527</td>\n",
       "      <td>0.68</td>\n",
       "      <td>0.333</td>\n",
       "      <td>0.613</td>\n",
       "      <td>0.653</td>\n",
       "      <td>0.773</td>\n",
       "      <td>0.853</td>\n",
       "      <td>...</td>\n",
       "      <td>0.853</td>\n",
       "      <td>0.887</td>\n",
       "      <td>0.580</td>\n",
       "      <td>0.760</td>\n",
       "      <td>0.453</td>\n",
       "      <td>0.673</td>\n",
       "      <td>0.533</td>\n",
       "      <td>0.2</td>\n",
       "      <td>0.460</td>\n",
       "      <td>0.547</td>\n",
       "    </tr>\n",
       "    <tr>\n",
       "      <th>147</th>\n",
       "      <td>2016</td>\n",
       "      <td>0.240</td>\n",
       "      <td>0.667</td>\n",
       "      <td>0.533</td>\n",
       "      <td>0.68</td>\n",
       "      <td>0.340</td>\n",
       "      <td>0.613</td>\n",
       "      <td>0.660</td>\n",
       "      <td>0.780</td>\n",
       "      <td>0.860</td>\n",
       "      <td>...</td>\n",
       "      <td>0.860</td>\n",
       "      <td>0.893</td>\n",
       "      <td>0.580</td>\n",
       "      <td>0.760</td>\n",
       "      <td>0.453</td>\n",
       "      <td>0.673</td>\n",
       "      <td>0.540</td>\n",
       "      <td>0.2</td>\n",
       "      <td>0.467</td>\n",
       "      <td>0.547</td>\n",
       "    </tr>\n",
       "    <tr>\n",
       "      <th>148</th>\n",
       "      <td>2017</td>\n",
       "      <td>0.253</td>\n",
       "      <td>0.667</td>\n",
       "      <td>0.533</td>\n",
       "      <td>0.68</td>\n",
       "      <td>0.340</td>\n",
       "      <td>0.613</td>\n",
       "      <td>0.660</td>\n",
       "      <td>0.780</td>\n",
       "      <td>0.860</td>\n",
       "      <td>...</td>\n",
       "      <td>0.860</td>\n",
       "      <td>0.893</td>\n",
       "      <td>0.580</td>\n",
       "      <td>0.767</td>\n",
       "      <td>0.453</td>\n",
       "      <td>0.687</td>\n",
       "      <td>0.547</td>\n",
       "      <td>0.2</td>\n",
       "      <td>0.467</td>\n",
       "      <td>0.547</td>\n",
       "    </tr>\n",
       "  </tbody>\n",
       "</table>\n",
       "<p>5 rows × 188 columns</p>\n",
       "</div>"
      ],
      "text/plain": [
       "0    year  Afghanistan  Albania  Algeria  Andorra  Angola  \\\n",
       "144  2013        0.233    0.647    0.520     0.68   0.327   \n",
       "145  2014        0.233    0.647    0.527     0.68   0.327   \n",
       "146  2015        0.240    0.647    0.527     0.68   0.333   \n",
       "147  2016        0.240    0.667    0.533     0.68   0.340   \n",
       "148  2017        0.253    0.667    0.533     0.68   0.340   \n",
       "\n",
       "0    Antigua and Barbuda  Argentina  Armenia  Australia  ...  United Kingdom  \\\n",
       "144                0.613      0.653    0.760      0.840  ...           0.840   \n",
       "145                0.613      0.653    0.767      0.847  ...           0.847   \n",
       "146                0.613      0.653    0.773      0.853  ...           0.853   \n",
       "147                0.613      0.660    0.780      0.860  ...           0.860   \n",
       "148                0.613      0.660    0.780      0.860  ...           0.860   \n",
       "\n",
       "0    United States  Uruguay  Uzbekistan  Vanuatu  Venezuela  Vietnam  Yemen  \\\n",
       "144          0.880    0.567       0.753    0.453      0.660    0.527    0.2   \n",
       "145          0.887    0.573       0.753    0.453      0.667    0.520    0.2   \n",
       "146          0.887    0.580       0.760    0.453      0.673    0.533    0.2   \n",
       "147          0.893    0.580       0.760    0.453      0.673    0.540    0.2   \n",
       "148          0.893    0.580       0.767    0.453      0.687    0.547    0.2   \n",
       "\n",
       "0    Zambia  Zimbabwe  \n",
       "144   0.453     0.533  \n",
       "145   0.460     0.547  \n",
       "146   0.460     0.547  \n",
       "147   0.467     0.547  \n",
       "148   0.467     0.547  \n",
       "\n",
       "[5 rows x 188 columns]"
      ]
     },
     "execution_count": 8,
     "metadata": {},
     "output_type": "execute_result"
    }
   ],
   "source": [
    "df_owid = read_csv('owid_education_idx.csv')\n",
    "df_owid.tail()"
   ]
  },
  {
   "cell_type": "code",
   "execution_count": 9,
   "metadata": {},
   "outputs": [
    {
     "name": "stdout",
     "output_type": "stream",
     "text": [
      "<class 'pandas.core.frame.DataFrame'>\n",
      "Int64Index: 148 entries, 1 to 148\n",
      "Columns: 188 entries, year to Zimbabwe\n",
      "dtypes: float64(187), int64(1)\n",
      "memory usage: 218.5 KB\n"
     ]
    }
   ],
   "source": [
    "df_owid.info()"
   ]
  },
  {
   "cell_type": "code",
   "execution_count": 10,
   "metadata": {},
   "outputs": [
    {
     "data": {
      "text/plain": [
       "0\n",
       "year             0\n",
       "Afghanistan     96\n",
       "Albania         96\n",
       "Algeria         96\n",
       "Andorra        130\n",
       "              ... \n",
       "Venezuela       96\n",
       "Vietnam        112\n",
       "Yemen           96\n",
       "Zambia          96\n",
       "Zimbabwe        96\n",
       "Length: 188, dtype: int64"
      ]
     },
     "execution_count": 10,
     "metadata": {},
     "output_type": "execute_result"
    }
   ],
   "source": [
    "# missing values\n",
    "df_owid.isna().sum()"
   ]
  },
  {
   "cell_type": "code",
   "execution_count": 11,
   "metadata": {},
   "outputs": [
    {
     "data": {
      "text/plain": [
       "20087"
      ]
     },
     "execution_count": 11,
     "metadata": {},
     "output_type": "execute_result"
    }
   ],
   "source": [
    "# missing values\n",
    "df_owid.isna().sum().sum()"
   ]
  },
  {
   "cell_type": "code",
   "execution_count": 12,
   "metadata": {},
   "outputs": [
    {
     "data": {
      "text/plain": [
       "0"
      ]
     },
     "execution_count": 12,
     "metadata": {},
     "output_type": "execute_result"
    }
   ],
   "source": [
    "df_owid.duplicated().sum()"
   ]
  },
  {
   "cell_type": "markdown",
   "metadata": {},
   "source": [
    "#### Human Development Index\n"
   ]
  },
  {
   "cell_type": "code",
   "execution_count": 13,
   "metadata": {},
   "outputs": [
    {
     "name": "stdout",
     "output_type": "stream",
     "text": [
      "Starting Year: 1990 | Ending Year: 2018\n"
     ]
    },
    {
     "data": {
      "text/html": [
       "<div>\n",
       "<style scoped>\n",
       "    .dataframe tbody tr th:only-of-type {\n",
       "        vertical-align: middle;\n",
       "    }\n",
       "\n",
       "    .dataframe tbody tr th {\n",
       "        vertical-align: top;\n",
       "    }\n",
       "\n",
       "    .dataframe thead th {\n",
       "        text-align: right;\n",
       "    }\n",
       "</style>\n",
       "<table border=\"1\" class=\"dataframe\">\n",
       "  <thead>\n",
       "    <tr style=\"text-align: right;\">\n",
       "      <th></th>\n",
       "      <th>year</th>\n",
       "      <th>Afghanistan</th>\n",
       "      <th>Albania</th>\n",
       "      <th>Algeria</th>\n",
       "      <th>Andorra</th>\n",
       "      <th>Angola</th>\n",
       "      <th>Antigua and Barbuda</th>\n",
       "      <th>Argentina</th>\n",
       "      <th>Armenia</th>\n",
       "      <th>Australia</th>\n",
       "      <th>...</th>\n",
       "      <th>United Kingdom</th>\n",
       "      <th>United States</th>\n",
       "      <th>Uruguay</th>\n",
       "      <th>Uzbekistan</th>\n",
       "      <th>Vanuatu</th>\n",
       "      <th>Venezuela</th>\n",
       "      <th>Vietnam</th>\n",
       "      <th>Yemen</th>\n",
       "      <th>Zambia</th>\n",
       "      <th>Zimbabwe</th>\n",
       "    </tr>\n",
       "  </thead>\n",
       "  <tbody>\n",
       "    <tr>\n",
       "      <th>25</th>\n",
       "      <td>2014</td>\n",
       "      <td>0.488</td>\n",
       "      <td>0.787</td>\n",
       "      <td>0.749</td>\n",
       "      <td>0.853</td>\n",
       "      <td>0.557</td>\n",
       "      <td>0.767</td>\n",
       "      <td>0.825</td>\n",
       "      <td>0.746</td>\n",
       "      <td>0.929</td>\n",
       "      <td>...</td>\n",
       "      <td>0.918</td>\n",
       "      <td>0.915</td>\n",
       "      <td>0.800</td>\n",
       "      <td>0.693</td>\n",
       "      <td>0.589</td>\n",
       "      <td>0.770</td>\n",
       "      <td>0.675</td>\n",
       "      <td>0.504</td>\n",
       "      <td>0.565</td>\n",
       "      <td>0.537</td>\n",
       "    </tr>\n",
       "    <tr>\n",
       "      <th>26</th>\n",
       "      <td>2015</td>\n",
       "      <td>0.490</td>\n",
       "      <td>0.788</td>\n",
       "      <td>0.751</td>\n",
       "      <td>0.850</td>\n",
       "      <td>0.565</td>\n",
       "      <td>0.770</td>\n",
       "      <td>0.828</td>\n",
       "      <td>0.748</td>\n",
       "      <td>0.933</td>\n",
       "      <td>...</td>\n",
       "      <td>0.916</td>\n",
       "      <td>0.917</td>\n",
       "      <td>0.802</td>\n",
       "      <td>0.696</td>\n",
       "      <td>0.592</td>\n",
       "      <td>0.763</td>\n",
       "      <td>0.680</td>\n",
       "      <td>0.493</td>\n",
       "      <td>0.570</td>\n",
       "      <td>0.544</td>\n",
       "    </tr>\n",
       "    <tr>\n",
       "      <th>27</th>\n",
       "      <td>2016</td>\n",
       "      <td>0.491</td>\n",
       "      <td>0.788</td>\n",
       "      <td>0.755</td>\n",
       "      <td>0.854</td>\n",
       "      <td>0.570</td>\n",
       "      <td>0.772</td>\n",
       "      <td>0.828</td>\n",
       "      <td>0.751</td>\n",
       "      <td>0.935</td>\n",
       "      <td>...</td>\n",
       "      <td>0.918</td>\n",
       "      <td>0.919</td>\n",
       "      <td>0.806</td>\n",
       "      <td>0.701</td>\n",
       "      <td>0.592</td>\n",
       "      <td>0.752</td>\n",
       "      <td>0.685</td>\n",
       "      <td>0.477</td>\n",
       "      <td>0.580</td>\n",
       "      <td>0.549</td>\n",
       "    </tr>\n",
       "    <tr>\n",
       "      <th>28</th>\n",
       "      <td>2017</td>\n",
       "      <td>0.493</td>\n",
       "      <td>0.789</td>\n",
       "      <td>0.758</td>\n",
       "      <td>0.852</td>\n",
       "      <td>0.576</td>\n",
       "      <td>0.774</td>\n",
       "      <td>0.832</td>\n",
       "      <td>0.758</td>\n",
       "      <td>0.937</td>\n",
       "      <td>...</td>\n",
       "      <td>0.919</td>\n",
       "      <td>0.919</td>\n",
       "      <td>0.807</td>\n",
       "      <td>0.707</td>\n",
       "      <td>0.595</td>\n",
       "      <td>0.735</td>\n",
       "      <td>0.690</td>\n",
       "      <td>0.463</td>\n",
       "      <td>0.589</td>\n",
       "      <td>0.553</td>\n",
       "    </tr>\n",
       "    <tr>\n",
       "      <th>29</th>\n",
       "      <td>2018</td>\n",
       "      <td>0.496</td>\n",
       "      <td>0.791</td>\n",
       "      <td>0.759</td>\n",
       "      <td>0.857</td>\n",
       "      <td>0.574</td>\n",
       "      <td>0.776</td>\n",
       "      <td>0.830</td>\n",
       "      <td>0.760</td>\n",
       "      <td>0.938</td>\n",
       "      <td>...</td>\n",
       "      <td>0.920</td>\n",
       "      <td>0.920</td>\n",
       "      <td>0.808</td>\n",
       "      <td>0.710</td>\n",
       "      <td>0.597</td>\n",
       "      <td>0.726</td>\n",
       "      <td>0.693</td>\n",
       "      <td>0.463</td>\n",
       "      <td>0.591</td>\n",
       "      <td>0.563</td>\n",
       "    </tr>\n",
       "  </tbody>\n",
       "</table>\n",
       "<p>5 rows × 189 columns</p>\n",
       "</div>"
      ],
      "text/plain": [
       "0   year  Afghanistan  Albania  Algeria  Andorra  Angola  Antigua and Barbuda  \\\n",
       "25  2014        0.488    0.787    0.749    0.853   0.557                0.767   \n",
       "26  2015        0.490    0.788    0.751    0.850   0.565                0.770   \n",
       "27  2016        0.491    0.788    0.755    0.854   0.570                0.772   \n",
       "28  2017        0.493    0.789    0.758    0.852   0.576                0.774   \n",
       "29  2018        0.496    0.791    0.759    0.857   0.574                0.776   \n",
       "\n",
       "0   Argentina  Armenia  Australia  ...  United Kingdom  United States  \\\n",
       "25      0.825    0.746      0.929  ...           0.918          0.915   \n",
       "26      0.828    0.748      0.933  ...           0.916          0.917   \n",
       "27      0.828    0.751      0.935  ...           0.918          0.919   \n",
       "28      0.832    0.758      0.937  ...           0.919          0.919   \n",
       "29      0.830    0.760      0.938  ...           0.920          0.920   \n",
       "\n",
       "0   Uruguay  Uzbekistan  Vanuatu  Venezuela  Vietnam  Yemen  Zambia  Zimbabwe  \n",
       "25    0.800       0.693    0.589      0.770    0.675  0.504   0.565     0.537  \n",
       "26    0.802       0.696    0.592      0.763    0.680  0.493   0.570     0.544  \n",
       "27    0.806       0.701    0.592      0.752    0.685  0.477   0.580     0.549  \n",
       "28    0.807       0.707    0.595      0.735    0.690  0.463   0.589     0.553  \n",
       "29    0.808       0.710    0.597      0.726    0.693  0.463   0.591     0.563  \n",
       "\n",
       "[5 rows x 189 columns]"
      ]
     },
     "execution_count": 13,
     "metadata": {},
     "output_type": "execute_result"
    }
   ],
   "source": [
    "df_hid = read_csv('hdi_human_development_index.csv')\n",
    "df_hid.tail()"
   ]
  },
  {
   "cell_type": "code",
   "execution_count": 14,
   "metadata": {},
   "outputs": [
    {
     "name": "stdout",
     "output_type": "stream",
     "text": [
      "<class 'pandas.core.frame.DataFrame'>\n",
      "Int64Index: 29 entries, 1 to 29\n",
      "Columns: 189 entries, year to Zimbabwe\n",
      "dtypes: float64(188), int64(1)\n",
      "memory usage: 43.0 KB\n"
     ]
    }
   ],
   "source": [
    "df_hid.info()"
   ]
  },
  {
   "cell_type": "code",
   "execution_count": 15,
   "metadata": {},
   "outputs": [
    {
     "data": {
      "text/plain": [
       "0\n",
       "year            0\n",
       "Afghanistan     0\n",
       "Albania         0\n",
       "Algeria         0\n",
       "Andorra        10\n",
       "               ..\n",
       "Venezuela       0\n",
       "Vietnam         0\n",
       "Yemen           0\n",
       "Zambia          0\n",
       "Zimbabwe        0\n",
       "Length: 189, dtype: int64"
      ]
     },
     "execution_count": 15,
     "metadata": {},
     "output_type": "execute_result"
    }
   ],
   "source": [
    "df_hid.isna().sum()"
   ]
  },
  {
   "cell_type": "code",
   "execution_count": 16,
   "metadata": {},
   "outputs": [
    {
     "data": {
      "text/plain": [
       "517"
      ]
     },
     "execution_count": 16,
     "metadata": {},
     "output_type": "execute_result"
    }
   ],
   "source": [
    "df_hid.isna().sum().sum()"
   ]
  },
  {
   "cell_type": "code",
   "execution_count": 17,
   "metadata": {},
   "outputs": [
    {
     "data": {
      "text/plain": [
       "0"
      ]
     },
     "execution_count": 17,
     "metadata": {},
     "output_type": "execute_result"
    }
   ],
   "source": [
    "df_hid.duplicated().sum()"
   ]
  },
  {
   "cell_type": "markdown",
   "metadata": {},
   "source": [
    "#### Internet Users "
   ]
  },
  {
   "cell_type": "code",
   "execution_count": 18,
   "metadata": {},
   "outputs": [
    {
     "name": "stdout",
     "output_type": "stream",
     "text": [
      "Starting Year: 1960 | Ending Year: 2019\n"
     ]
    },
    {
     "data": {
      "text/html": [
       "<div>\n",
       "<style scoped>\n",
       "    .dataframe tbody tr th:only-of-type {\n",
       "        vertical-align: middle;\n",
       "    }\n",
       "\n",
       "    .dataframe tbody tr th {\n",
       "        vertical-align: top;\n",
       "    }\n",
       "\n",
       "    .dataframe thead th {\n",
       "        text-align: right;\n",
       "    }\n",
       "</style>\n",
       "<table border=\"1\" class=\"dataframe\">\n",
       "  <thead>\n",
       "    <tr style=\"text-align: right;\">\n",
       "      <th></th>\n",
       "      <th>year</th>\n",
       "      <th>Afghanistan</th>\n",
       "      <th>Albania</th>\n",
       "      <th>Algeria</th>\n",
       "      <th>Andorra</th>\n",
       "      <th>Angola</th>\n",
       "      <th>Antigua and Barbuda</th>\n",
       "      <th>Argentina</th>\n",
       "      <th>Armenia</th>\n",
       "      <th>Australia</th>\n",
       "      <th>...</th>\n",
       "      <th>United Kingdom</th>\n",
       "      <th>United States</th>\n",
       "      <th>Uruguay</th>\n",
       "      <th>Uzbekistan</th>\n",
       "      <th>Vanuatu</th>\n",
       "      <th>Venezuela</th>\n",
       "      <th>Vietnam</th>\n",
       "      <th>Yemen</th>\n",
       "      <th>Zambia</th>\n",
       "      <th>Zimbabwe</th>\n",
       "    </tr>\n",
       "  </thead>\n",
       "  <tbody>\n",
       "    <tr>\n",
       "      <th>56</th>\n",
       "      <td>2015</td>\n",
       "      <td>8.26</td>\n",
       "      <td>63.3</td>\n",
       "      <td>38.2</td>\n",
       "      <td>96.9</td>\n",
       "      <td>12.4</td>\n",
       "      <td>70.0</td>\n",
       "      <td>68.0</td>\n",
       "      <td>59.1</td>\n",
       "      <td>84.6</td>\n",
       "      <td>...</td>\n",
       "      <td>92.0</td>\n",
       "      <td>74.6</td>\n",
       "      <td>64.6</td>\n",
       "      <td>42.8</td>\n",
       "      <td>22.4</td>\n",
       "      <td>64.0</td>\n",
       "      <td>45.0</td>\n",
       "      <td>24.1</td>\n",
       "      <td>21.0</td>\n",
       "      <td>22.7</td>\n",
       "    </tr>\n",
       "    <tr>\n",
       "      <th>57</th>\n",
       "      <td>2016</td>\n",
       "      <td>NaN</td>\n",
       "      <td>66.4</td>\n",
       "      <td>42.9</td>\n",
       "      <td>97.9</td>\n",
       "      <td>13.0</td>\n",
       "      <td>73.0</td>\n",
       "      <td>71.0</td>\n",
       "      <td>64.3</td>\n",
       "      <td>86.5</td>\n",
       "      <td>...</td>\n",
       "      <td>94.8</td>\n",
       "      <td>85.5</td>\n",
       "      <td>66.4</td>\n",
       "      <td>46.8</td>\n",
       "      <td>24.0</td>\n",
       "      <td>60.0</td>\n",
       "      <td>53.0</td>\n",
       "      <td>24.6</td>\n",
       "      <td>25.5</td>\n",
       "      <td>23.1</td>\n",
       "    </tr>\n",
       "    <tr>\n",
       "      <th>58</th>\n",
       "      <td>2017</td>\n",
       "      <td>11.40</td>\n",
       "      <td>71.8</td>\n",
       "      <td>47.7</td>\n",
       "      <td>91.6</td>\n",
       "      <td>14.3</td>\n",
       "      <td>NaN</td>\n",
       "      <td>74.3</td>\n",
       "      <td>64.7</td>\n",
       "      <td>86.5</td>\n",
       "      <td>...</td>\n",
       "      <td>90.4</td>\n",
       "      <td>87.3</td>\n",
       "      <td>70.3</td>\n",
       "      <td>48.7</td>\n",
       "      <td>25.7</td>\n",
       "      <td>64.3</td>\n",
       "      <td>58.1</td>\n",
       "      <td>26.7</td>\n",
       "      <td>27.9</td>\n",
       "      <td>27.1</td>\n",
       "    </tr>\n",
       "    <tr>\n",
       "      <th>59</th>\n",
       "      <td>2018</td>\n",
       "      <td>NaN</td>\n",
       "      <td>NaN</td>\n",
       "      <td>49.0</td>\n",
       "      <td>NaN</td>\n",
       "      <td>NaN</td>\n",
       "      <td>NaN</td>\n",
       "      <td>NaN</td>\n",
       "      <td>68.2</td>\n",
       "      <td>NaN</td>\n",
       "      <td>...</td>\n",
       "      <td>90.7</td>\n",
       "      <td>88.5</td>\n",
       "      <td>74.4</td>\n",
       "      <td>55.2</td>\n",
       "      <td>NaN</td>\n",
       "      <td>NaN</td>\n",
       "      <td>69.8</td>\n",
       "      <td>NaN</td>\n",
       "      <td>14.3</td>\n",
       "      <td>NaN</td>\n",
       "    </tr>\n",
       "    <tr>\n",
       "      <th>60</th>\n",
       "      <td>2019</td>\n",
       "      <td>NaN</td>\n",
       "      <td>69.6</td>\n",
       "      <td>NaN</td>\n",
       "      <td>NaN</td>\n",
       "      <td>NaN</td>\n",
       "      <td>NaN</td>\n",
       "      <td>NaN</td>\n",
       "      <td>NaN</td>\n",
       "      <td>NaN</td>\n",
       "      <td>...</td>\n",
       "      <td>92.5</td>\n",
       "      <td>NaN</td>\n",
       "      <td>76.9</td>\n",
       "      <td>NaN</td>\n",
       "      <td>NaN</td>\n",
       "      <td>NaN</td>\n",
       "      <td>68.7</td>\n",
       "      <td>NaN</td>\n",
       "      <td>NaN</td>\n",
       "      <td>NaN</td>\n",
       "    </tr>\n",
       "  </tbody>\n",
       "</table>\n",
       "<p>5 rows × 195 columns</p>\n",
       "</div>"
      ],
      "text/plain": [
       "0   year  Afghanistan  Albania  Algeria  Andorra  Angola  Antigua and Barbuda  \\\n",
       "56  2015         8.26     63.3     38.2     96.9    12.4                 70.0   \n",
       "57  2016          NaN     66.4     42.9     97.9    13.0                 73.0   \n",
       "58  2017        11.40     71.8     47.7     91.6    14.3                  NaN   \n",
       "59  2018          NaN      NaN     49.0      NaN     NaN                  NaN   \n",
       "60  2019          NaN     69.6      NaN      NaN     NaN                  NaN   \n",
       "\n",
       "0   Argentina  Armenia  Australia  ...  United Kingdom  United States  \\\n",
       "56       68.0     59.1       84.6  ...            92.0           74.6   \n",
       "57       71.0     64.3       86.5  ...            94.8           85.5   \n",
       "58       74.3     64.7       86.5  ...            90.4           87.3   \n",
       "59        NaN     68.2        NaN  ...            90.7           88.5   \n",
       "60        NaN      NaN        NaN  ...            92.5            NaN   \n",
       "\n",
       "0   Uruguay  Uzbekistan  Vanuatu  Venezuela  Vietnam  Yemen  Zambia  Zimbabwe  \n",
       "56     64.6        42.8     22.4       64.0     45.0   24.1    21.0      22.7  \n",
       "57     66.4        46.8     24.0       60.0     53.0   24.6    25.5      23.1  \n",
       "58     70.3        48.7     25.7       64.3     58.1   26.7    27.9      27.1  \n",
       "59     74.4        55.2      NaN        NaN     69.8    NaN    14.3       NaN  \n",
       "60     76.9         NaN      NaN        NaN     68.7    NaN     NaN       NaN  \n",
       "\n",
       "[5 rows x 195 columns]"
      ]
     },
     "execution_count": 18,
     "metadata": {},
     "output_type": "execute_result"
    }
   ],
   "source": [
    "df_iu = read_csv('internet_users.csv')\n",
    "df_iu.tail()"
   ]
  },
  {
   "cell_type": "code",
   "execution_count": 19,
   "metadata": {},
   "outputs": [
    {
     "data": {
      "text/plain": [
       "0\n",
       "year            0\n",
       "Afghanistan    43\n",
       "Albania        35\n",
       "Algeria        34\n",
       "Andorra        38\n",
       "               ..\n",
       "Venezuela      33\n",
       "Vietnam        35\n",
       "Yemen          37\n",
       "Zambia         34\n",
       "Zimbabwe       35\n",
       "Length: 195, dtype: int64"
      ]
     },
     "execution_count": 19,
     "metadata": {},
     "output_type": "execute_result"
    }
   ],
   "source": [
    "df_iu.isna().sum()"
   ]
  },
  {
   "cell_type": "code",
   "execution_count": 20,
   "metadata": {},
   "outputs": [
    {
     "data": {
      "text/plain": [
       "6744"
      ]
     },
     "execution_count": 20,
     "metadata": {},
     "output_type": "execute_result"
    }
   ],
   "source": [
    "df_iu.isna().sum().sum()"
   ]
  },
  {
   "cell_type": "code",
   "execution_count": 21,
   "metadata": {},
   "outputs": [
    {
     "data": {
      "text/plain": [
       "0"
      ]
     },
     "execution_count": 21,
     "metadata": {},
     "output_type": "execute_result"
    }
   ],
   "source": [
    "df_iu.duplicated().sum()"
   ]
  },
  {
   "cell_type": "code",
   "execution_count": 22,
   "metadata": {
    "scrolled": true
   },
   "outputs": [
    {
     "name": "stdout",
     "output_type": "stream",
     "text": [
      "Starting Year: 1800 | Ending Year: 2100\n"
     ]
    },
    {
     "data": {
      "text/html": [
       "<div>\n",
       "<style scoped>\n",
       "    .dataframe tbody tr th:only-of-type {\n",
       "        vertical-align: middle;\n",
       "    }\n",
       "\n",
       "    .dataframe tbody tr th {\n",
       "        vertical-align: top;\n",
       "    }\n",
       "\n",
       "    .dataframe thead th {\n",
       "        text-align: right;\n",
       "    }\n",
       "</style>\n",
       "<table border=\"1\" class=\"dataframe\">\n",
       "  <thead>\n",
       "    <tr style=\"text-align: right;\">\n",
       "      <th></th>\n",
       "      <th>year</th>\n",
       "      <th>Afghanistan</th>\n",
       "      <th>Albania</th>\n",
       "      <th>Algeria</th>\n",
       "      <th>Angola</th>\n",
       "      <th>Antigua and Barbuda</th>\n",
       "      <th>Argentina</th>\n",
       "      <th>Armenia</th>\n",
       "      <th>Australia</th>\n",
       "      <th>Austria</th>\n",
       "      <th>...</th>\n",
       "      <th>United Kingdom</th>\n",
       "      <th>United States</th>\n",
       "      <th>Uruguay</th>\n",
       "      <th>Uzbekistan</th>\n",
       "      <th>Vanuatu</th>\n",
       "      <th>Venezuela</th>\n",
       "      <th>Vietnam</th>\n",
       "      <th>Yemen</th>\n",
       "      <th>Zambia</th>\n",
       "      <th>Zimbabwe</th>\n",
       "    </tr>\n",
       "  </thead>\n",
       "  <tbody>\n",
       "    <tr>\n",
       "      <th>1</th>\n",
       "      <td>1800</td>\n",
       "      <td>7.0</td>\n",
       "      <td>4.6</td>\n",
       "      <td>6.99</td>\n",
       "      <td>6.93</td>\n",
       "      <td>5.00</td>\n",
       "      <td>6.8</td>\n",
       "      <td>7.80</td>\n",
       "      <td>6.50</td>\n",
       "      <td>5.1</td>\n",
       "      <td>...</td>\n",
       "      <td>4.97</td>\n",
       "      <td>7.03</td>\n",
       "      <td>5.97</td>\n",
       "      <td>5.71</td>\n",
       "      <td>6.6</td>\n",
       "      <td>5.63</td>\n",
       "      <td>4.7</td>\n",
       "      <td>6.88</td>\n",
       "      <td>6.71</td>\n",
       "      <td>6.75</td>\n",
       "    </tr>\n",
       "    <tr>\n",
       "      <th>2</th>\n",
       "      <td>1801</td>\n",
       "      <td>7.0</td>\n",
       "      <td>4.6</td>\n",
       "      <td>6.99</td>\n",
       "      <td>6.93</td>\n",
       "      <td>5.00</td>\n",
       "      <td>6.8</td>\n",
       "      <td>7.80</td>\n",
       "      <td>6.48</td>\n",
       "      <td>5.1</td>\n",
       "      <td>...</td>\n",
       "      <td>4.60</td>\n",
       "      <td>7.01</td>\n",
       "      <td>5.97</td>\n",
       "      <td>5.71</td>\n",
       "      <td>6.6</td>\n",
       "      <td>5.63</td>\n",
       "      <td>4.7</td>\n",
       "      <td>6.88</td>\n",
       "      <td>6.71</td>\n",
       "      <td>6.75</td>\n",
       "    </tr>\n",
       "    <tr>\n",
       "      <th>3</th>\n",
       "      <td>1802</td>\n",
       "      <td>7.0</td>\n",
       "      <td>4.6</td>\n",
       "      <td>6.99</td>\n",
       "      <td>6.93</td>\n",
       "      <td>4.99</td>\n",
       "      <td>6.8</td>\n",
       "      <td>7.81</td>\n",
       "      <td>6.46</td>\n",
       "      <td>5.1</td>\n",
       "      <td>...</td>\n",
       "      <td>5.30</td>\n",
       "      <td>6.99</td>\n",
       "      <td>5.96</td>\n",
       "      <td>5.71</td>\n",
       "      <td>6.6</td>\n",
       "      <td>5.64</td>\n",
       "      <td>4.7</td>\n",
       "      <td>6.88</td>\n",
       "      <td>6.71</td>\n",
       "      <td>6.75</td>\n",
       "    </tr>\n",
       "    <tr>\n",
       "      <th>4</th>\n",
       "      <td>1803</td>\n",
       "      <td>7.0</td>\n",
       "      <td>4.6</td>\n",
       "      <td>6.99</td>\n",
       "      <td>6.93</td>\n",
       "      <td>4.99</td>\n",
       "      <td>6.8</td>\n",
       "      <td>7.81</td>\n",
       "      <td>6.44</td>\n",
       "      <td>5.1</td>\n",
       "      <td>...</td>\n",
       "      <td>5.61</td>\n",
       "      <td>6.96</td>\n",
       "      <td>5.96</td>\n",
       "      <td>5.71</td>\n",
       "      <td>6.6</td>\n",
       "      <td>5.64</td>\n",
       "      <td>4.7</td>\n",
       "      <td>6.88</td>\n",
       "      <td>6.71</td>\n",
       "      <td>6.75</td>\n",
       "    </tr>\n",
       "    <tr>\n",
       "      <th>5</th>\n",
       "      <td>1804</td>\n",
       "      <td>7.0</td>\n",
       "      <td>4.6</td>\n",
       "      <td>6.99</td>\n",
       "      <td>6.93</td>\n",
       "      <td>4.99</td>\n",
       "      <td>6.8</td>\n",
       "      <td>7.81</td>\n",
       "      <td>6.42</td>\n",
       "      <td>5.1</td>\n",
       "      <td>...</td>\n",
       "      <td>5.65</td>\n",
       "      <td>6.94</td>\n",
       "      <td>5.96</td>\n",
       "      <td>5.71</td>\n",
       "      <td>6.6</td>\n",
       "      <td>5.64</td>\n",
       "      <td>4.7</td>\n",
       "      <td>6.88</td>\n",
       "      <td>6.71</td>\n",
       "      <td>6.75</td>\n",
       "    </tr>\n",
       "  </tbody>\n",
       "</table>\n",
       "<p>5 rows × 185 columns</p>\n",
       "</div>"
      ],
      "text/plain": [
       "0  year  Afghanistan  Albania  Algeria  Angola  Antigua and Barbuda  \\\n",
       "1  1800          7.0      4.6     6.99    6.93                 5.00   \n",
       "2  1801          7.0      4.6     6.99    6.93                 5.00   \n",
       "3  1802          7.0      4.6     6.99    6.93                 4.99   \n",
       "4  1803          7.0      4.6     6.99    6.93                 4.99   \n",
       "5  1804          7.0      4.6     6.99    6.93                 4.99   \n",
       "\n",
       "0  Argentina  Armenia  Australia  Austria  ...  United Kingdom  United States  \\\n",
       "1        6.8     7.80       6.50      5.1  ...            4.97           7.03   \n",
       "2        6.8     7.80       6.48      5.1  ...            4.60           7.01   \n",
       "3        6.8     7.81       6.46      5.1  ...            5.30           6.99   \n",
       "4        6.8     7.81       6.44      5.1  ...            5.61           6.96   \n",
       "5        6.8     7.81       6.42      5.1  ...            5.65           6.94   \n",
       "\n",
       "0  Uruguay  Uzbekistan  Vanuatu  Venezuela  Vietnam  Yemen  Zambia  Zimbabwe  \n",
       "1     5.97        5.71      6.6       5.63      4.7   6.88    6.71      6.75  \n",
       "2     5.97        5.71      6.6       5.63      4.7   6.88    6.71      6.75  \n",
       "3     5.96        5.71      6.6       5.64      4.7   6.88    6.71      6.75  \n",
       "4     5.96        5.71      6.6       5.64      4.7   6.88    6.71      6.75  \n",
       "5     5.96        5.71      6.6       5.64      4.7   6.88    6.71      6.75  \n",
       "\n",
       "[5 rows x 185 columns]"
      ]
     },
     "execution_count": 22,
     "metadata": {},
     "output_type": "execute_result"
    }
   ],
   "source": [
    "df_fertility = read_csv('children_per_woman_total_fertility.csv')\n",
    "df_fertility.head()"
   ]
  },
  {
   "cell_type": "code",
   "execution_count": 23,
   "metadata": {},
   "outputs": [
    {
     "data": {
      "text/html": [
       "<div>\n",
       "<style scoped>\n",
       "    .dataframe tbody tr th:only-of-type {\n",
       "        vertical-align: middle;\n",
       "    }\n",
       "\n",
       "    .dataframe tbody tr th {\n",
       "        vertical-align: top;\n",
       "    }\n",
       "\n",
       "    .dataframe thead th {\n",
       "        text-align: right;\n",
       "    }\n",
       "</style>\n",
       "<table border=\"1\" class=\"dataframe\">\n",
       "  <thead>\n",
       "    <tr style=\"text-align: right;\">\n",
       "      <th></th>\n",
       "      <th>year</th>\n",
       "      <th>Afghanistan</th>\n",
       "      <th>Albania</th>\n",
       "      <th>Algeria</th>\n",
       "      <th>Angola</th>\n",
       "      <th>Antigua and Barbuda</th>\n",
       "      <th>Argentina</th>\n",
       "      <th>Armenia</th>\n",
       "      <th>Australia</th>\n",
       "      <th>Austria</th>\n",
       "      <th>...</th>\n",
       "      <th>United Kingdom</th>\n",
       "      <th>United States</th>\n",
       "      <th>Uruguay</th>\n",
       "      <th>Uzbekistan</th>\n",
       "      <th>Vanuatu</th>\n",
       "      <th>Venezuela</th>\n",
       "      <th>Vietnam</th>\n",
       "      <th>Yemen</th>\n",
       "      <th>Zambia</th>\n",
       "      <th>Zimbabwe</th>\n",
       "    </tr>\n",
       "  </thead>\n",
       "  <tbody>\n",
       "    <tr>\n",
       "      <th>215</th>\n",
       "      <td>2014</td>\n",
       "      <td>4.98</td>\n",
       "      <td>1.71</td>\n",
       "      <td>2.89</td>\n",
       "      <td>5.84</td>\n",
       "      <td>2.08</td>\n",
       "      <td>2.32</td>\n",
       "      <td>1.69</td>\n",
       "      <td>1.87</td>\n",
       "      <td>1.48</td>\n",
       "      <td>...</td>\n",
       "      <td>1.88</td>\n",
       "      <td>1.95</td>\n",
       "      <td>2.02</td>\n",
       "      <td>2.34</td>\n",
       "      <td>3.35</td>\n",
       "      <td>2.37</td>\n",
       "      <td>1.96</td>\n",
       "      <td>4.22</td>\n",
       "      <td>5.10</td>\n",
       "      <td>3.90</td>\n",
       "    </tr>\n",
       "    <tr>\n",
       "      <th>216</th>\n",
       "      <td>2015</td>\n",
       "      <td>4.80</td>\n",
       "      <td>1.71</td>\n",
       "      <td>2.84</td>\n",
       "      <td>5.77</td>\n",
       "      <td>2.06</td>\n",
       "      <td>2.31</td>\n",
       "      <td>1.66</td>\n",
       "      <td>1.86</td>\n",
       "      <td>1.49</td>\n",
       "      <td>...</td>\n",
       "      <td>1.88</td>\n",
       "      <td>1.93</td>\n",
       "      <td>2.01</td>\n",
       "      <td>2.31</td>\n",
       "      <td>3.31</td>\n",
       "      <td>2.34</td>\n",
       "      <td>1.96</td>\n",
       "      <td>4.10</td>\n",
       "      <td>5.04</td>\n",
       "      <td>3.84</td>\n",
       "    </tr>\n",
       "    <tr>\n",
       "      <th>217</th>\n",
       "      <td>2016</td>\n",
       "      <td>4.64</td>\n",
       "      <td>1.71</td>\n",
       "      <td>2.78</td>\n",
       "      <td>5.69</td>\n",
       "      <td>2.05</td>\n",
       "      <td>2.29</td>\n",
       "      <td>1.63</td>\n",
       "      <td>1.85</td>\n",
       "      <td>1.49</td>\n",
       "      <td>...</td>\n",
       "      <td>1.87</td>\n",
       "      <td>1.92</td>\n",
       "      <td>2.00</td>\n",
       "      <td>2.29</td>\n",
       "      <td>3.28</td>\n",
       "      <td>2.32</td>\n",
       "      <td>1.95</td>\n",
       "      <td>4.00</td>\n",
       "      <td>4.98</td>\n",
       "      <td>3.76</td>\n",
       "    </tr>\n",
       "    <tr>\n",
       "      <th>218</th>\n",
       "      <td>2017</td>\n",
       "      <td>4.48</td>\n",
       "      <td>1.71</td>\n",
       "      <td>2.71</td>\n",
       "      <td>5.62</td>\n",
       "      <td>2.04</td>\n",
       "      <td>2.28</td>\n",
       "      <td>1.60</td>\n",
       "      <td>1.84</td>\n",
       "      <td>1.50</td>\n",
       "      <td>...</td>\n",
       "      <td>1.87</td>\n",
       "      <td>1.91</td>\n",
       "      <td>1.98</td>\n",
       "      <td>2.26</td>\n",
       "      <td>3.24</td>\n",
       "      <td>2.29</td>\n",
       "      <td>1.95</td>\n",
       "      <td>3.89</td>\n",
       "      <td>4.93</td>\n",
       "      <td>3.68</td>\n",
       "    </tr>\n",
       "    <tr>\n",
       "      <th>219</th>\n",
       "      <td>2018</td>\n",
       "      <td>4.33</td>\n",
       "      <td>1.71</td>\n",
       "      <td>2.64</td>\n",
       "      <td>5.55</td>\n",
       "      <td>2.03</td>\n",
       "      <td>2.26</td>\n",
       "      <td>1.60</td>\n",
       "      <td>1.83</td>\n",
       "      <td>1.52</td>\n",
       "      <td>...</td>\n",
       "      <td>1.87</td>\n",
       "      <td>1.90</td>\n",
       "      <td>1.97</td>\n",
       "      <td>2.23</td>\n",
       "      <td>3.20</td>\n",
       "      <td>2.27</td>\n",
       "      <td>1.95</td>\n",
       "      <td>3.79</td>\n",
       "      <td>4.87</td>\n",
       "      <td>3.61</td>\n",
       "    </tr>\n",
       "  </tbody>\n",
       "</table>\n",
       "<p>5 rows × 185 columns</p>\n",
       "</div>"
      ],
      "text/plain": [
       "0    year  Afghanistan  Albania  Algeria  Angola  Antigua and Barbuda  \\\n",
       "215  2014         4.98     1.71     2.89    5.84                 2.08   \n",
       "216  2015         4.80     1.71     2.84    5.77                 2.06   \n",
       "217  2016         4.64     1.71     2.78    5.69                 2.05   \n",
       "218  2017         4.48     1.71     2.71    5.62                 2.04   \n",
       "219  2018         4.33     1.71     2.64    5.55                 2.03   \n",
       "\n",
       "0    Argentina  Armenia  Australia  Austria  ...  United Kingdom  \\\n",
       "215       2.32     1.69       1.87     1.48  ...            1.88   \n",
       "216       2.31     1.66       1.86     1.49  ...            1.88   \n",
       "217       2.29     1.63       1.85     1.49  ...            1.87   \n",
       "218       2.28     1.60       1.84     1.50  ...            1.87   \n",
       "219       2.26     1.60       1.83     1.52  ...            1.87   \n",
       "\n",
       "0    United States  Uruguay  Uzbekistan  Vanuatu  Venezuela  Vietnam  Yemen  \\\n",
       "215           1.95     2.02        2.34     3.35       2.37     1.96   4.22   \n",
       "216           1.93     2.01        2.31     3.31       2.34     1.96   4.10   \n",
       "217           1.92     2.00        2.29     3.28       2.32     1.95   4.00   \n",
       "218           1.91     1.98        2.26     3.24       2.29     1.95   3.89   \n",
       "219           1.90     1.97        2.23     3.20       2.27     1.95   3.79   \n",
       "\n",
       "0    Zambia  Zimbabwe  \n",
       "215    5.10      3.90  \n",
       "216    5.04      3.84  \n",
       "217    4.98      3.76  \n",
       "218    4.93      3.68  \n",
       "219    4.87      3.61  \n",
       "\n",
       "[5 rows x 185 columns]"
      ]
     },
     "execution_count": 23,
     "metadata": {},
     "output_type": "execute_result"
    }
   ],
   "source": [
    "df_fertility = df_fertility[df_fertility['year'] <= 2018]\n",
    "df_fertility.tail()"
   ]
  },
  {
   "cell_type": "markdown",
   "metadata": {},
   "source": [
    "#### Making sure that we are working with the same data across all datasets\n",
    "- same number of countries\n",
    "- Same years"
   ]
  },
  {
   "cell_type": "code",
   "execution_count": 24,
   "metadata": {},
   "outputs": [],
   "source": [
    "dfs_columns = [df_income.columns, df_iu.columns, df_hid.columns, df_owid.columns, df_fertility.columns]"
   ]
  },
  {
   "cell_type": "code",
   "execution_count": 25,
   "metadata": {},
   "outputs": [
    {
     "name": "stdout",
     "output_type": "stream",
     "text": [
      "Number of countries = 193\n",
      "Number of countries = 194\n",
      "Number of countries = 188\n",
      "Number of countries = 187\n",
      "Number of countries = 184\n"
     ]
    }
   ],
   "source": [
    "for c in dfs_columns:\n",
    "    print(f'Number of countries = {len(c)-1}')"
   ]
  },
  {
   "cell_type": "markdown",
   "metadata": {},
   "source": [
    "##### Getting the intersection between the countries "
   ]
  },
  {
   "cell_type": "markdown",
   "metadata": {},
   "source": [
    "year is also common"
   ]
  },
  {
   "cell_type": "code",
   "execution_count": 26,
   "metadata": {},
   "outputs": [
    {
     "name": "stdout",
     "output_type": "stream",
     "text": [
      "Number of countries 194\n",
      "Number of countries 188\n",
      "Number of countries 186\n",
      "Number of countries 181\n"
     ]
    }
   ],
   "source": [
    "countries = dfs_columns[0]\n",
    "for c in dfs_columns[1:]:\n",
    "    countries = np.intersect1d(countries, c)\n",
    "    print(f'Number of countries {len(countries)}')"
   ]
  },
  {
   "cell_type": "code",
   "execution_count": 27,
   "metadata": {},
   "outputs": [],
   "source": [
    "# update the rest of the datasets \n",
    "df_income = df_income[countries]\n",
    "df_iu = df_iu[countries]\n",
    "df_hid = df_hid[countries]\n",
    "df_owid = df_owid[countries]\n",
    "df_fertility = df_fertility[countries]"
   ]
  },
  {
   "cell_type": "code",
   "execution_count": 28,
   "metadata": {},
   "outputs": [
    {
     "name": "stdout",
     "output_type": "stream",
     "text": [
      "Number of countries = 180\n",
      "Number of countries = 180\n",
      "Number of countries = 180\n",
      "Number of countries = 180\n",
      "Number of countries = 180\n"
     ]
    }
   ],
   "source": [
    "dfs_columns = [df_income.columns, df_iu.columns, df_hid.columns, df_owid.columns, df_fertility.columns]\n",
    "for c in dfs_columns:\n",
    "    print(f'Number of countries = {len(c)-1}')"
   ]
  },
  {
   "cell_type": "markdown",
   "metadata": {},
   "source": [
    "#### Picking the year period with the lowest number null values "
   ]
  },
  {
   "cell_type": "code",
   "execution_count": 29,
   "metadata": {},
   "outputs": [],
   "source": [
    "def null_per_year(df):\n",
    "    nulls = {}\n",
    "    for y in df['year']:\n",
    "        n_nulls = df[df['year'] == y].isna().sum().sum()\n",
    "        if n_nulls > 0:\n",
    "            nulls[y] = n_nulls\n",
    "    \n",
    "    return pd.Series(nulls).to_frame('nulls')"
   ]
  },
  {
   "cell_type": "code",
   "execution_count": 30,
   "metadata": {},
   "outputs": [],
   "source": [
    "dfs = {'Income': df_income, 'Interent Use': df_iu, 'Human Development Index': df_hid, 'Education Index': df_owid, 'Fertility': df_fertility}"
   ]
  },
  {
   "cell_type": "code",
   "execution_count": 31,
   "metadata": {},
   "outputs": [
    {
     "name": "stdout",
     "output_type": "stream",
     "text": [
      "----- Dataframes with nulls! -----\n",
      "Numer of Nulls in Interent Use: 6153\n",
      "Numer of Nulls in Human Development Index: 415\n",
      "Numer of Nulls in Education Index: 19162\n"
     ]
    }
   ],
   "source": [
    "null_dfs = []\n",
    "print('-'*5, 'Dataframes with nulls!', '-'*5)\n",
    "for df in dfs:\n",
    "    n_nulls = dfs[df].isna().sum().sum()\n",
    "    if n_nulls > 0:\n",
    "        print(f\"Numer of Nulls in {df}: {n_nulls}\")\n",
    "        null_dfs.append(df)"
   ]
  },
  {
   "cell_type": "code",
   "execution_count": 32,
   "metadata": {},
   "outputs": [
    {
     "data": {
      "image/png": "[encoded data removed]",
      "text/plain": [
       "<Figure size 432x288 with 1 Axes>"
      ]
     },
     "metadata": {
      "needs_background": "light"
     },
     "output_type": "display_data"
    }
   ],
   "source": [
    "for df in null_dfs:\n",
    "    nulls = null_per_year(dfs[df])\n",
    "    plt.plot(nulls)\n",
    "plt.show()"
   ]
  },
  {
   "cell_type": "markdown",
   "metadata": {},
   "source": [
    "the internet was available to the public in 1991"
   ]
  },
  {
   "cell_type": "code",
   "execution_count": 33,
   "metadata": {},
   "outputs": [
    {
     "data": {
      "text/plain": [
       "['bmh',\n",
       " 'seaborn-notebook',\n",
       " 'seaborn-poster',\n",
       " 'seaborn-white',\n",
       " 'classic',\n",
       " 'seaborn-deep',\n",
       " '_classic_test',\n",
       " 'seaborn-muted',\n",
       " 'seaborn-pastel',\n",
       " 'seaborn-dark',\n",
       " 'seaborn-ticks',\n",
       " 'dark_background',\n",
       " 'seaborn-whitegrid',\n",
       " 'Solarize_Light2',\n",
       " 'grayscale',\n",
       " 'seaborn-bright',\n",
       " 'seaborn-dark-palette',\n",
       " 'ggplot',\n",
       " 'seaborn-talk',\n",
       " 'fast',\n",
       " 'seaborn-darkgrid',\n",
       " 'seaborn-paper',\n",
       " 'fivethirtyeight',\n",
       " 'seaborn',\n",
       " 'tableau-colorblind10',\n",
       " 'seaborn-colorblind']"
      ]
     },
     "execution_count": 33,
     "metadata": {},
     "output_type": "execute_result"
    }
   ],
   "source": [
    "plt.style.available"
   ]
  },
  {
   "cell_type": "code",
   "execution_count": 34,
   "metadata": {},
   "outputs": [],
   "source": [
    "plt.style.use('seaborn-whitegrid')"
   ]
  },
  {
   "cell_type": "code",
   "execution_count": 35,
   "metadata": {},
   "outputs": [
    {
     "data": {
      "image/png": "[encoded data removed]",
      "text/plain": [
       "<Figure size 1080x360 with 1 Axes>"
      ]
     },
     "metadata": {},
     "output_type": "display_data"
    }
   ],
   "source": [
    "fig = plt.figure(figsize=(15, 5))\n",
    "for df in null_dfs:\n",
    "    nulls = null_per_year(dfs[df]).loc[1991:]\n",
    "    plt.bar(nulls.index, nulls['nulls'], alpha=0.7)\n",
    "\n",
    "\n",
    "plt.legend(null_dfs)\n",
    "plt.xticks(np.arange(1990, 2020), rotation='vertical')\n",
    "plt.show()"
   ]
  },
  {
   "cell_type": "markdown",
   "metadata": {},
   "source": [
    "I will be using the years from 2007 to 2016"
   ]
  },
  {
   "cell_type": "code",
   "execution_count": 36,
   "metadata": {},
   "outputs": [
    {
     "data": {
      "text/plain": [
       "dict_keys(['Income', 'Interent Use', 'Human Development Index', 'Education Index', 'Fertility'])"
      ]
     },
     "execution_count": 36,
     "metadata": {},
     "output_type": "execute_result"
    }
   ],
   "source": [
    "dfs.keys()"
   ]
  },
  {
   "cell_type": "code",
   "execution_count": 37,
   "metadata": {},
   "outputs": [],
   "source": [
    "df_income = df_income.query('2017 >= year >= 2000')\n",
    "df_iu = df_iu.query('2017 >= year >= 2000')\n",
    "df_hid = df_hid.query('2017 >= year >= 2000')\n",
    "df_owid = df_owid.query('2017 >= year >= 2000')\n",
    "df_fertility = df_fertility.query('2017 >= year >= 2000')"
   ]
  },
  {
   "cell_type": "code",
   "execution_count": 38,
   "metadata": {},
   "outputs": [],
   "source": [
    "dfs = {'Income': df_income, 'Interent Use': df_iu, 'Human Development Index': df_hid, 'Education Index': df_owid, 'Fertility': df_fertility}"
   ]
  },
  {
   "cell_type": "code",
   "execution_count": 39,
   "metadata": {},
   "outputs": [
    {
     "data": {
      "text/html": [
       "<div>\n",
       "<style scoped>\n",
       "    .dataframe tbody tr th:only-of-type {\n",
       "        vertical-align: middle;\n",
       "    }\n",
       "\n",
       "    .dataframe tbody tr th {\n",
       "        vertical-align: top;\n",
       "    }\n",
       "\n",
       "    .dataframe thead th {\n",
       "        text-align: right;\n",
       "    }\n",
       "</style>\n",
       "<table border=\"1\" class=\"dataframe\">\n",
       "  <thead>\n",
       "    <tr style=\"text-align: right;\">\n",
       "      <th></th>\n",
       "      <th>Afghanistan</th>\n",
       "      <th>Albania</th>\n",
       "      <th>Algeria</th>\n",
       "      <th>Angola</th>\n",
       "      <th>Antigua and Barbuda</th>\n",
       "      <th>Argentina</th>\n",
       "      <th>Armenia</th>\n",
       "      <th>Australia</th>\n",
       "      <th>Austria</th>\n",
       "      <th>Azerbaijan</th>\n",
       "      <th>...</th>\n",
       "      <th>United States</th>\n",
       "      <th>Uruguay</th>\n",
       "      <th>Uzbekistan</th>\n",
       "      <th>Vanuatu</th>\n",
       "      <th>Venezuela</th>\n",
       "      <th>Vietnam</th>\n",
       "      <th>Yemen</th>\n",
       "      <th>Zambia</th>\n",
       "      <th>Zimbabwe</th>\n",
       "      <th>year</th>\n",
       "    </tr>\n",
       "  </thead>\n",
       "  <tbody>\n",
       "    <tr>\n",
       "      <th>214</th>\n",
       "      <td>1810</td>\n",
       "      <td>10500</td>\n",
       "      <td>13300</td>\n",
       "      <td>6730</td>\n",
       "      <td>20100</td>\n",
       "      <td>19600</td>\n",
       "      <td>7720</td>\n",
       "      <td>43200</td>\n",
       "      <td>44300</td>\n",
       "      <td>16600</td>\n",
       "      <td>...</td>\n",
       "      <td>51200</td>\n",
       "      <td>19400</td>\n",
       "      <td>5070</td>\n",
       "      <td>2850</td>\n",
       "      <td>18000</td>\n",
       "      <td>5070</td>\n",
       "      <td>3940</td>\n",
       "      <td>3630</td>\n",
       "      <td>2490</td>\n",
       "      <td>2013</td>\n",
       "    </tr>\n",
       "    <tr>\n",
       "      <th>215</th>\n",
       "      <td>1800</td>\n",
       "      <td>10700</td>\n",
       "      <td>13500</td>\n",
       "      <td>6810</td>\n",
       "      <td>20800</td>\n",
       "      <td>18900</td>\n",
       "      <td>7950</td>\n",
       "      <td>43700</td>\n",
       "      <td>44200</td>\n",
       "      <td>16900</td>\n",
       "      <td>...</td>\n",
       "      <td>52100</td>\n",
       "      <td>19900</td>\n",
       "      <td>5340</td>\n",
       "      <td>2840</td>\n",
       "      <td>17100</td>\n",
       "      <td>5310</td>\n",
       "      <td>3830</td>\n",
       "      <td>3690</td>\n",
       "      <td>2510</td>\n",
       "      <td>2014</td>\n",
       "    </tr>\n",
       "    <tr>\n",
       "      <th>216</th>\n",
       "      <td>1770</td>\n",
       "      <td>11000</td>\n",
       "      <td>13800</td>\n",
       "      <td>6650</td>\n",
       "      <td>21400</td>\n",
       "      <td>19200</td>\n",
       "      <td>8170</td>\n",
       "      <td>44100</td>\n",
       "      <td>44300</td>\n",
       "      <td>16800</td>\n",
       "      <td>...</td>\n",
       "      <td>53200</td>\n",
       "      <td>19900</td>\n",
       "      <td>5640</td>\n",
       "      <td>2740</td>\n",
       "      <td>15600</td>\n",
       "      <td>5610</td>\n",
       "      <td>3110</td>\n",
       "      <td>3680</td>\n",
       "      <td>2510</td>\n",
       "      <td>2015</td>\n",
       "    </tr>\n",
       "    <tr>\n",
       "      <th>217</th>\n",
       "      <td>1760</td>\n",
       "      <td>11400</td>\n",
       "      <td>13900</td>\n",
       "      <td>6260</td>\n",
       "      <td>22400</td>\n",
       "      <td>18600</td>\n",
       "      <td>8160</td>\n",
       "      <td>44600</td>\n",
       "      <td>44700</td>\n",
       "      <td>16100</td>\n",
       "      <td>...</td>\n",
       "      <td>53600</td>\n",
       "      <td>20200</td>\n",
       "      <td>5880</td>\n",
       "      <td>2780</td>\n",
       "      <td>15200</td>\n",
       "      <td>5900</td>\n",
       "      <td>2620</td>\n",
       "      <td>3700</td>\n",
       "      <td>2490</td>\n",
       "      <td>2016</td>\n",
       "    </tr>\n",
       "    <tr>\n",
       "      <th>218</th>\n",
       "      <td>1760</td>\n",
       "      <td>11800</td>\n",
       "      <td>13900</td>\n",
       "      <td>6050</td>\n",
       "      <td>22900</td>\n",
       "      <td>18900</td>\n",
       "      <td>8750</td>\n",
       "      <td>44900</td>\n",
       "      <td>45500</td>\n",
       "      <td>15900</td>\n",
       "      <td>...</td>\n",
       "      <td>54500</td>\n",
       "      <td>20700</td>\n",
       "      <td>6040</td>\n",
       "      <td>2830</td>\n",
       "      <td>14500</td>\n",
       "      <td>6230</td>\n",
       "      <td>2400</td>\n",
       "      <td>3720</td>\n",
       "      <td>2570</td>\n",
       "      <td>2017</td>\n",
       "    </tr>\n",
       "  </tbody>\n",
       "</table>\n",
       "<p>5 rows × 181 columns</p>\n",
       "</div>"
      ],
      "text/plain": [
       "0    Afghanistan  Albania  Algeria  Angola  Antigua and Barbuda  Argentina  \\\n",
       "214         1810    10500    13300    6730                20100      19600   \n",
       "215         1800    10700    13500    6810                20800      18900   \n",
       "216         1770    11000    13800    6650                21400      19200   \n",
       "217         1760    11400    13900    6260                22400      18600   \n",
       "218         1760    11800    13900    6050                22900      18900   \n",
       "\n",
       "0    Armenia  Australia  Austria  Azerbaijan  ...  United States  Uruguay  \\\n",
       "214     7720      43200    44300       16600  ...          51200    19400   \n",
       "215     7950      43700    44200       16900  ...          52100    19900   \n",
       "216     8170      44100    44300       16800  ...          53200    19900   \n",
       "217     8160      44600    44700       16100  ...          53600    20200   \n",
       "218     8750      44900    45500       15900  ...          54500    20700   \n",
       "\n",
       "0    Uzbekistan  Vanuatu  Venezuela  Vietnam  Yemen  Zambia  Zimbabwe  year  \n",
       "214        5070     2850      18000     5070   3940    3630      2490  2013  \n",
       "215        5340     2840      17100     5310   3830    3690      2510  2014  \n",
       "216        5640     2740      15600     5610   3110    3680      2510  2015  \n",
       "217        5880     2780      15200     5900   2620    3700      2490  2016  \n",
       "218        6040     2830      14500     6230   2400    3720      2570  2017  \n",
       "\n",
       "[5 rows x 181 columns]"
      ]
     },
     "execution_count": 39,
     "metadata": {},
     "output_type": "execute_result"
    }
   ],
   "source": [
    "df_income.tail()"
   ]
  },
  {
   "cell_type": "code",
   "execution_count": 40,
   "metadata": {},
   "outputs": [
    {
     "name": "stdout",
     "output_type": "stream",
     "text": [
      "(18, 181) Shape  Income\n",
      "(18, 181) Shape  Interent Use\n",
      "(18, 181) Shape  Human Development Index\n",
      "(18, 181) Shape  Education Index\n",
      "(18, 181) Shape  Fertility\n"
     ]
    }
   ],
   "source": [
    "for df in dfs:\n",
    "    print(dfs[df].shape, 'Shape ', df)"
   ]
  },
  {
   "cell_type": "markdown",
   "metadata": {},
   "source": [
    "### fill missing values"
   ]
  },
  {
   "cell_type": "code",
   "execution_count": 41,
   "metadata": {},
   "outputs": [
    {
     "name": "stdout",
     "output_type": "stream",
     "text": [
      " number of missing values in  Income  : 0\n",
      " number of missing values in  Interent Use  : 64\n",
      " number of missing values in  Human Development Index  : 66\n",
      " number of missing values in  Education Index  : 81\n",
      " number of missing values in  Fertility  : 0\n"
     ]
    }
   ],
   "source": [
    "for df in dfs:\n",
    "    print(' number of missing values in ', df, ' :', dfs[df].isna().sum().sum())"
   ]
  },
  {
   "cell_type": "markdown",
   "metadata": {},
   "source": [
    "drop countries with more than 50% missing values"
   ]
  },
  {
   "cell_type": "code",
   "execution_count": 47,
   "metadata": {},
   "outputs": [
    {
     "data": {
      "text/plain": [
       "0\n",
       "Bhutan            5\n",
       "Comoros           4\n",
       "Eritrea           5\n",
       "Grenada           2\n",
       "Guinea-Bissau     5\n",
       "Lebanon           5\n",
       "Montenegro        3\n",
       "Nigeria           3\n",
       "Palestine         4\n",
       "South Korea      18\n",
       "South Sudan       8\n",
       "Suriname          4\n",
       "Turkmenistan     10\n",
       "Vanuatu           5\n",
       "dtype: int64"
      ]
     },
     "execution_count": 47,
     "metadata": {},
     "output_type": "execute_result"
    }
   ],
   "source": [
    "df_owid.isna().sum()[df_owid.isna().sum()>0]"
   ]
  },
  {
   "cell_type": "code",
   "execution_count": 57,
   "metadata": {},
   "outputs": [],
   "source": [
    "drop_countries = {'Turkmenistan', 'South Korea'}"
   ]
  },
  {
   "cell_type": "code",
   "execution_count": 58,
   "metadata": {},
   "outputs": [
    {
     "data": {
      "text/plain": [
       "0\n",
       "Afghanistan                        2\n",
       "Antigua and Barbuda                1\n",
       "Australia                          3\n",
       "Azerbaijan                         2\n",
       "Bangladesh                         1\n",
       "Belarus                            3\n",
       "Belize                             2\n",
       "Bhutan                             1\n",
       "Ecuador                            1\n",
       "Eritrea                            4\n",
       "Guyana                             5\n",
       "Iraq                               1\n",
       "Ireland                            1\n",
       "Liberia                            2\n",
       "Libya                              1\n",
       "Madagascar                         1\n",
       "Mongolia                           4\n",
       "Montenegro                         4\n",
       "Myanmar                            1\n",
       "Pakistan                           1\n",
       "Rwanda                             1\n",
       "Serbia                             4\n",
       "Seychelles                         1\n",
       "South Sudan                       13\n",
       "St. Vincent and the Grenadines     1\n",
       "Sudan                              3\n",
       "dtype: int64"
      ]
     },
     "execution_count": 58,
     "metadata": {},
     "output_type": "execute_result"
    }
   ],
   "source": [
    "df_iu.isna().sum()[df_iu.isna().sum()>0]"
   ]
  },
  {
   "cell_type": "code",
   "execution_count": 59,
   "metadata": {},
   "outputs": [],
   "source": [
    "drop_countries.add('South Sudan')"
   ]
  },
  {
   "cell_type": "code",
   "execution_count": 60,
   "metadata": {},
   "outputs": [
    {
     "data": {
      "text/plain": [
       "0\n",
       "Antigua and Barbuda     5\n",
       "Bhutan                  5\n",
       "Eritrea                 5\n",
       "Grenada                 2\n",
       "Guinea-Bissau           5\n",
       "Lebanon                 5\n",
       "Montenegro              3\n",
       "Nigeria                 3\n",
       "Palestine               4\n",
       "South Sudan            10\n",
       "Suriname                4\n",
       "Turkmenistan           10\n",
       "Vanuatu                 5\n",
       "dtype: int64"
      ]
     },
     "execution_count": 60,
     "metadata": {},
     "output_type": "execute_result"
    }
   ],
   "source": [
    "df_hid.isna().sum()[df_hid.isna().sum()>0]"
   ]
  },
  {
   "cell_type": "code",
   "execution_count": 61,
   "metadata": {},
   "outputs": [],
   "source": [
    "drop_countries.add('South Sudan')\n",
    "drop_countries.add('Turkmenistan')"
   ]
  },
  {
   "cell_type": "code",
   "execution_count": 62,
   "metadata": {},
   "outputs": [
    {
     "name": "stderr",
     "output_type": "stream",
     "text": [
      "/home/kelwa/anaconda3/lib/python3.7/site-packages/pandas/core/frame.py:3997: SettingWithCopyWarning: \n",
      "A value is trying to be set on a copy of a slice from a DataFrame\n",
      "\n",
      "See the caveats in the documentation: https://pandas.pydata.org/pandas-docs/stable/user_guide/indexing.html#returning-a-view-versus-a-copy\n",
      "  errors=errors,\n"
     ]
    }
   ],
   "source": [
    "# drop countries with very high missing values\n",
    "df_income.drop(drop_countries, axis=1, inplace=True)\n",
    "df_iu.drop(drop_countries, axis=1, inplace=True)\n",
    "df_hid.drop(drop_countries, axis=1, inplace=True)\n",
    "df_owid.drop(drop_countries, axis=1, inplace=True)\n",
    "df_fertility.drop(drop_countries, axis=1, inplace=True)"
   ]
  },
  {
   "cell_type": "code",
   "execution_count": 63,
   "metadata": {},
   "outputs": [],
   "source": [
    "dfs = {'Income': df_income, 'Interent Use': df_iu, 'Human Development Index': df_hid, 'Education Index': df_owid, 'Fertility': df_fertility}"
   ]
  },
  {
   "cell_type": "code",
   "execution_count": 64,
   "metadata": {},
   "outputs": [
    {
     "name": "stdout",
     "output_type": "stream",
     "text": [
      "(18, 178) Shape  Income\n",
      "(18, 178) Shape  Interent Use\n",
      "(18, 178) Shape  Human Development Index\n",
      "(18, 178) Shape  Education Index\n",
      "(18, 178) Shape  Fertility\n"
     ]
    }
   ],
   "source": [
    "for df in dfs:\n",
    "    print(dfs[df].shape, 'Shape ', df)"
   ]
  },
  {
   "cell_type": "code",
   "execution_count": 65,
   "metadata": {},
   "outputs": [
    {
     "name": "stdout",
     "output_type": "stream",
     "text": [
      " number of missing values in  Income  : 0\n",
      " number of missing values in  Interent Use  : 51\n",
      " number of missing values in  Human Development Index  : 46\n",
      " number of missing values in  Education Index  : 45\n",
      " number of missing values in  Fertility  : 0\n"
     ]
    }
   ],
   "source": [
    "for df in dfs:\n",
    "    print(' number of missing values in ', df, ' :', dfs[df].isna().sum().sum())"
   ]
  },
  {
   "cell_type": "code",
   "execution_count": 67,
   "metadata": {},
   "outputs": [],
   "source": [
    "df_iu = df_iu.interpolate(method='linear', limit_direction='both')\n",
    "df_hid = df_hid.interpolate(method='linear', limit_direction='both')\n",
    "df_owid = df_owid.interpolate(method='linear', limit_direction='both')"
   ]
  },
  {
   "cell_type": "code",
   "execution_count": 69,
   "metadata": {},
   "outputs": [],
   "source": [
    "dfs = {'Income': df_income, 'Interent Use': df_iu, 'Human Development Index': df_hid, 'Education Index': df_owid, 'Fertility': df_fertility}"
   ]
  },
  {
   "cell_type": "code",
   "execution_count": 70,
   "metadata": {},
   "outputs": [
    {
     "name": "stdout",
     "output_type": "stream",
     "text": [
      " number of missing values in  Income  : 0\n",
      " number of missing values in  Interent Use  : 0\n",
      " number of missing values in  Human Development Index  : 0\n",
      " number of missing values in  Education Index  : 0\n",
      " number of missing values in  Fertility  : 0\n"
     ]
    }
   ],
   "source": [
    "for df in dfs:\n",
    "    print(' number of missing values in ', df, ' :', dfs[df].isna().sum().sum())"
   ]
  },
  {
   "cell_type": "markdown",
   "metadata": {},
   "source": [
    "> **Tip**: You should _not_ perform too many operations in each cell. Create cells freely to explore your data. One option that you can take with this project is to do a lot of explorations in an initial notebook. These don't have to be organized, but make sure you use enough comments to understand the purpose of each code cell. Then, after you're done with your analysis, create a duplicate notebook where you will trim the excess and organize your steps so that you have a flowing, cohesive report.\n",
    "\n",
    "> **Tip**: Make sure that you keep your reader informed on the steps that you are taking in your investigation. Follow every code cell, or every set of related code cells, with a markdown cell to describe to the reader what was found in the preceding cell(s). Try to make it so that the reader can then understand what they will be seeing in the following cell(s).\n",
    "\n",
    "### Data Cleaning (Replace this with more specific notes!)"
   ]
  },
  {
   "cell_type": "code",
   "execution_count": null,
   "metadata": {},
   "outputs": [],
   "source": [
    "# After discussing the structure of the data and any problems that need to be\n",
    "#   cleaned, perform those cleaning steps in the second part of this section.\n"
   ]
  },
  {
   "cell_type": "markdown",
   "metadata": {},
   "source": [
    "<a id='eda'></a>\n",
    "## Exploratory Data Analysis\n",
    "\n",
    "> **Tip**: Now that you've trimmed and cleaned your data, you're ready to move on to exploration. Compute statistics and create visualizations with the goal of addressing the research questions that you posed in the Introduction section. It is recommended that you be systematic with your approach. Look at one variable at a time, and then follow it up by looking at relationships between variables.\n",
    "\n",
    "### Research Question 1 (Replace this header name!)"
   ]
  },
  {
   "cell_type": "code",
   "execution_count": null,
   "metadata": {},
   "outputs": [],
   "source": [
    "# Use this, and more code cells, to explore your data. Don't forget to add\n",
    "#   Markdown cells to document your observations and findings.\n"
   ]
  },
  {
   "cell_type": "markdown",
   "metadata": {},
   "source": [
    "### Research Question 2  (Replace this header name!)"
   ]
  },
  {
   "cell_type": "code",
   "execution_count": null,
   "metadata": {},
   "outputs": [],
   "source": [
    "# Continue to explore the data to address your additional research\n",
    "#   questions. Add more headers as needed if you have more questions to\n",
    "#   investigate.\n"
   ]
  },
  {
   "cell_type": "markdown",
   "metadata": {},
   "source": [
    "<a id='conclusions'></a>\n",
    "## Conclusions\n",
    "\n",
    "> **Tip**: Finally, summarize your findings and the results that have been performed. Make sure that you are clear with regards to the limitations of your exploration. If you haven't done any statistical tests, do not imply any statistical conclusions. And make sure you avoid implying causation from correlation!\n",
    "\n",
    "> **Tip**: Once you are satisfied with your work, you should save a copy of the report in HTML or PDF form via the **File** > **Download as** submenu. Before exporting your report, check over it to make sure that the flow of the report is complete. You should probably remove all of the \"Tip\" quotes like this one so that the presentation is as tidy as possible. Congratulations!"
   ]
  },
  {
   "cell_type": "code",
   "execution_count": null,
   "metadata": {},
   "outputs": [],
   "source": []
  }
 ],
 "metadata": {
  "kernelspec": {
   "display_name": "Python 3",
   "language": "python",
   "name": "python3"
  },
  "language_info": {
   "codemirror_mode": {
    "name": "ipython",
    "version": 3
   },
   "file_extension": ".py",
   "mimetype": "text/x-python",
   "name": "python",
   "nbconvert_exporter": "python",
   "pygments_lexer": "ipython3",
   "version": "3.7.6"
  }
 },
 "nbformat": 4,
 "nbformat_minor": 2
}
